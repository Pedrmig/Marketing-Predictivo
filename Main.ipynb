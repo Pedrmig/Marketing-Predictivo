{
 "cells": [
  {
   "cell_type": "code",
   "execution_count": null,
   "id": "6c88d0b1",
   "metadata": {
    "vscode": {
     "languageId": "plaintext"
    }
   },
   "outputs": [],
   "source": [
    "import App\n",
    "spark = App.create_spark_session()\n",
    "\n",
    "df = spark.read.csv(\"/home/jovyan/Marketin-Predictivo/archivo.csv, header=True, inferSchema=True)"
   ]
  }
 ],
 "metadata": {
  "language_info": {
   "name": "python"
  }
 },
 "nbformat": 4,
 "nbformat_minor": 5
}
