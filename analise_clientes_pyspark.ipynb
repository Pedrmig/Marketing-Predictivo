{
 "cells": [
  {
   "cell_type": "code",
   "execution_count": 1,
   "id": "ca721bd1",
   "metadata": {},
   "outputs": [],
   "source": [
    "# Importar bibliotecas necesarias\n",
    "from pyspark.sql import SparkSession\n",
    "import pyspark.sql.functions as F\n",
    "from pyspark.sql.functions import col, count, isnan, when, trim, to_timestamp, datediff, current_date, unix_timestamp,col, udf, when\n",
    "from pyspark.sql.types import StringType, IntegerType, FloatType, TimestampType\n",
    "from pyspark.sql.window import Window"
   ]
  },
  {
   "cell_type": "markdown",
   "id": "93ee4aa2",
   "metadata": {},
   "source": [
    "1. Crear y inicializar SPARK"
   ]
  },
  {
   "cell_type": "code",
   "execution_count": 2,
   "id": "6cd78884",
   "metadata": {},
   "outputs": [],
   "source": [
    "# Inicializar SparkSession\n",
    "spark = SparkSession.builder \\\n",
    "    .appName(\"Marketin-predictivo\") \\\n",
    "    .config(\"spark.sql.legacy.timeParserPolicy\", \"LEGACY\") \\\n",
    "    .getOrCreate()"
   ]
  },
  {
   "cell_type": "markdown",
   "id": "a131e745",
   "metadata": {},
   "source": [
    "2. Leer los datasets"
   ]
  },
  {
   "cell_type": "code",
   "execution_count": 3,
   "id": "10581092",
   "metadata": {},
   "outputs": [],
   "source": [
    "# Caminos para los archivos\n",
    "path_clientes = \"/home/jovyan/Marketing-Predictivo/CSV/clientes_anonimizados.csv\"\n",
    "path_produtos = \"/home/jovyan/Marketing-Predictivo/CSV/productos_con_atributos.csv\"\n",
    "path_ordens = \"/home/jovyan/Marketing-Predictivo/CSV/historico_ordenes.csv\""
   ]
  },
  {
   "cell_type": "code",
   "execution_count": 4,
   "id": "753bc6b8",
   "metadata": {},
   "outputs": [
    {
     "name": "stdout",
     "output_type": "stream",
     "text": [
      "root\n",
      " |-- user_id: integer (nullable = true)\n",
      " |-- user_registered: string (nullable = true)\n",
      " |-- user_status: integer (nullable = true)\n",
      " |-- billing_city: string (nullable = true)\n",
      " |-- billing_country: string (nullable = true)\n",
      " |-- billing_state: string (nullable = true)\n",
      "\n",
      "+-------+-------------------+-----------+------------+---------------+-------------+\n",
      "|user_id|user_registered    |user_status|billing_city|billing_country|billing_state|\n",
      "+-------+-------------------+-----------+------------+---------------+-------------+\n",
      "|4      |2024-04-05 15:38:09|0          |Lima        |PE             |LMA          |\n",
      "|8      |2024-04-12 16:09:39|0          |AREQUIPA    |PE             |ARE          |\n",
      "|10     |2024-04-12 17:03:18|0          |LIMA        |PE             |LIM          |\n",
      "|13     |2024-04-15 22:08:21|0          |Arequipa    |PE             |ARE          |\n",
      "|14     |2024-04-15 22:16:09|0          |NULL        |NULL           |NULL         |\n",
      "+-------+-------------------+-----------+------------+---------------+-------------+\n",
      "only showing top 5 rows\n",
      "\n"
     ]
    }
   ],
   "source": [
    "df_clientes = spark.read.csv(path_clientes, header=True, inferSchema=True, sep=',')\n",
    "df_clientes.printSchema()\n",
    "df_clientes.show(5, truncate=False)"
   ]
  },
  {
   "cell_type": "code",
   "execution_count": 5,
   "id": "9279f785",
   "metadata": {},
   "outputs": [
    {
     "name": "stdout",
     "output_type": "stream",
     "text": [
      "root\n",
      " |-- product_id: integer (nullable = true)\n",
      " |-- custom_partnumber: string (nullable = true)\n",
      " |-- post_title: string (nullable = true)\n",
      " |-- post_excerpt: string (nullable = true)\n",
      " |-- _sku: string (nullable = true)\n",
      " |-- _price: float (nullable = true)\n",
      " |-- _regular_price: float (nullable = true)\n",
      " |-- _sale_price: float (nullable = true)\n",
      " |-- total_sales: integer (nullable = true)\n",
      " |-- _backorders: string (nullable = true)\n",
      " |-- _stock: float (nullable = true)\n",
      " |-- _stock_status: string (nullable = true)\n",
      " |-- minimum_allowed_quantity: string (nullable = true)\n",
      " |-- custom_condition: string (nullable = true)\n",
      " |-- custom_eta: string (nullable = true)\n",
      " |-- custom_moq: string (nullable = true)\n",
      " |-- _product_attributes: string (nullable = true)\n",
      " |-- pa_1: string (nullable = true)\n",
      " |-- pa_almacenamiento: string (nullable = true)\n",
      " |-- pa_color: string (nullable = true)\n",
      " |-- pa_condicion: string (nullable = true)\n",
      " |-- pa_disco-duro: string (nullable = true)\n",
      " |-- pa_emmc: string (nullable = true)\n",
      " |-- pa_garantia: string (nullable = true)\n",
      " |-- pa_marca: string (nullable = true)\n",
      " |-- pa_memoria-ram: string (nullable = true)\n",
      " |-- pa_pantalla: string (nullable = true)\n",
      " |-- pa_procesador: string (nullable = true)\n",
      " |-- pa_ram: string (nullable = true)\n",
      " |-- pa_sistema-operativo: string (nullable = true)\n",
      " |-- pa_tarjeta-de-video: string (nullable = true)\n",
      " |-- pa_teclado: string (nullable = true)\n",
      " |-- pa_unidad-solida: string (nullable = true)\n",
      "\n",
      "+----------+-----------------+--------------------+--------------------+-------------------+------+--------------+-----------+-----------+-----------+------+-------------+------------------------+----------------+----------+----------+--------------------+----+-----------------+--------+------------+-------------+-------+-----------+--------+--------------+-------------+-------------+------+--------------------+-------------------+----------+----------------+\n",
      "|product_id|custom_partnumber|          post_title|        post_excerpt|               _sku|_price|_regular_price|_sale_price|total_sales|_backorders|_stock|_stock_status|minimum_allowed_quantity|custom_condition|custom_eta|custom_moq| _product_attributes|pa_1|pa_almacenamiento|pa_color|pa_condicion|pa_disco-duro|pa_emmc|pa_garantia|pa_marca|pa_memoria-ram|  pa_pantalla|pa_procesador|pa_ram|pa_sistema-operativo|pa_tarjeta-de-video|pa_teclado|pa_unidad-solida|\n",
      "+----------+-----------------+--------------------+--------------------+-------------------+------+--------------+-----------+-----------+-----------+------+-------------+------------------------+----------------+----------+----------+--------------------+----+-----------------+--------+------------+-------------+-------+-----------+--------+--------------+-------------+-------------+------+--------------------+-------------------+----------+----------------+\n",
      "|       521|     NX.KJBAA.001|ACER ASPIRE A315-...|AMD RYZEN 3 7320U...|   NX.KJBAA.001-B1S|   0.0|           0.0|       NULL|          0|         no|   0.0|   outofstock|                       1|           Nuevo|     7Dias|         1|a:9:{s:8:\"pa_marc...|NULL|             NULL|Plateado|       Nuevo|         NULL|   NULL|       NULL|    Acer|      8GB DDR4|15.6 Pulgadas|  AMD Ryzen 3|  NULL|          Windows 11|AMD RADEON GRAPHICS|      NULL|           128gb|\n",
      "|       524|     NX.KSJAA.004|ACER ASPIRE 3 A31...|AMD RYZEN 7 5700U...|       NX.KSJAA.004| 385.0|         385.0|       NULL|          7|         no|   0.0|   outofstock|                       1|           Nuevo|    7 DIAS|         1|a:9:{s:8:\"pa_marc...|NULL|             NULL|    Gris|       Nuevo|         NULL|   NULL|       NULL|    Acer|     16GB DDR4|15.6 Pulgadas|  AMD RYZEN 7|  NULL|          Windows 11|AMD RADEON GRAPHICS|      NULL|           512GB|\n",
      "|       528|        MGND3LL/A|APPLE MACBOOK AIR...|APPLE CHIP M1 OCT...|          MGND3LL/A| 650.0|         650.0|       NULL|          5|         no|   0.0|   outofstock|                       1|           Nuevo|    7 DIAS|         1|a:8:{s:8:\"pa_marc...|NULL|             NULL|  Dorado|       Nuevo|         NULL|   NULL|       NULL|   Apple|      8GB DDR4|13.3 Pulgadas|     Apple M1|  NULL|              MAC OS|               NULL|      NULL|           256GB|\n",
      "|       534|  M1603QA-R712512|ASUS VIVOBOOK M16...|AMD RYZEN 7 5800H...|M1603QA-R712512-B1S| 523.0|         523.0|       NULL|          0|         no|   0.0|   outofstock|                       1|           Nuevo|   12 Dias|         1|a:9:{s:8:\"pa_marc...|NULL|             NULL|   Negro|       Nuevo|         NULL|   NULL|       NULL|    Asus|     12GB DDR4|  16 Pulgadas|  AMD RYZEN 7|  NULL|          Windows 11|AMD RADEON GRAPHICS|      NULL|           512GB|\n",
      "|       535|     M1605XA-EB96|ASUS VIVOBOOK M16...|AMD RYZEN 9 7940H...|   M1605XA-EB96-B1S| 738.0|         738.0|       NULL|          0|         no|   0.0|   outofstock|                       1|           Nuevo|   14 DIAS|         1|a:9:{s:8:\"pa_marc...|NULL|             NULL|Plateado|       Nuevo|         NULL|   NULL|       NULL|    Asus|     16GB DDR5|  16 Pulgadas|  AMD RYZEN 9|  NULL|          Windows 11|AMD RADEON GRAPHICS|      NULL|             1TB|\n",
      "|       536|      L210MA-DS02|ASUS VIVOBOOK GO ...|INTEL CELERON N40...|    L210MA-DS02-B1S|   0.0|           0.0|       NULL|          0|         no|   0.0|   outofstock|                       1|           Nuevo|     7Dias|         1|a:8:{s:8:\"pa_marc...|NULL|             NULL|   Negro|       Nuevo|         NULL|   NULL|       NULL|    Asus|      4GB DDR4|11.6 Pulgadas|Intel Celeron|  NULL|          Windows 11|               NULL|      NULL|            64GB|\n",
      "|       537|      L510MA-AS02|ASUS VIVOBOOK GO ...|INTEL CELERON N40...|    L510MA-AS02-B1S| 200.0|         200.0|       NULL|          0|         no| 204.0|      instock|                      10|           Nuevo|   13 Dias|        10|a:10:{s:8:\"pa_mar...|NULL|             64GB|   Negro|       Nuevo|         NULL|   NULL|       NULL|    Asus|      4GB DDR4|15.6 Pulgadas|Intel Celeron|  NULL|          Windows 11| INTEL UHD GRAPHICS|      NULL|            64GB|\n",
      "|       538|     F1504ZA-AS34|ASUS VIVOBOOK 15 ...|INTEL CORE I3 121...|   F1504ZA-AS34-B1S| 339.0|         339.0|       NULL|          0|         no|   0.0|   outofstock|                       1|           Nuevo|     7Dias|         1|a:9:{s:8:\"pa_marc...|NULL|             NULL|    Azul|       Nuevo|         NULL|   NULL|       NULL|    Asus|      8GB DDR4|15.6 Pulgadas|Intel Core i3|  NULL|          Windows 11| INTEL UHD GRAPHICS|      NULL|           128gb|\n",
      "|       539|     F1500EA-WB51|ASUS VIVOBOOK 15 ...|INTEL CORE I5 113...|   F1500EA-WB51-B1S| 398.0|         398.0|       NULL|          0|         no|  59.0|      instock|                      10|           Nuevo|   13 Dias|        10|a:8:{s:8:\"pa_marc...|NULL|             NULL|   Negro|       Nuevo|         NULL|   NULL|       NULL|    Asus|      8GB DDR4|15.6 Pulgadas|Intel Core i5|  NULL|          Windows 11|               NULL|      NULL|           256GB|\n",
      "|       540|   TP3604VA-DS51T|ASUS VIVOBOOK 2-IN-1|INTEL CORE I5 135...| TP3604VA-DS51T-B1S| 617.0|         617.0|       NULL|          3|         no|   0.0|   outofstock|                       1|           Nuevo|   14 DIAS|         1|a:8:{s:8:\"pa_marc...|NULL|             NULL|   Negro|       Nuevo|         NULL|   NULL|       NULL|    Asus|      8GB DDR4|  16 Pulgadas|Intel Core i5|  NULL|          Windows 11|               NULL|      NULL|           512GB|\n",
      "+----------+-----------------+--------------------+--------------------+-------------------+------+--------------+-----------+-----------+-----------+------+-------------+------------------------+----------------+----------+----------+--------------------+----+-----------------+--------+------------+-------------+-------+-----------+--------+--------------+-------------+-------------+------+--------------------+-------------------+----------+----------------+\n",
      "only showing top 10 rows\n",
      "\n"
     ]
    }
   ],
   "source": [
    "df_produtos = spark.read.csv(path_produtos, header=True, inferSchema=False, sep=',', multiLine=True, escape='\"')\n",
    "df_produtos = df_produtos.withColumn(\"product_id\", col(\"product_id\").cast(IntegerType())) \\\n",
    "                       .withColumn(\"_price\", col(\"_price\").cast(FloatType())) \\\n",
    "                       .withColumn(\"_regular_price\", col(\"_regular_price\").cast(FloatType())) \\\n",
    "                       .withColumn(\"_sale_price\", col(\"_sale_price\").cast(FloatType())) \\\n",
    "                       .withColumn(\"total_sales\", col(\"total_sales\").cast(IntegerType())) \\\n",
    "                       .withColumn(\"_stock\", col(\"_stock\").cast(FloatType()))\n",
    "df_produtos.printSchema()\n",
    "df_produtos.show(10, truncate=True)"
   ]
  },
  {
   "cell_type": "code",
   "execution_count": 6,
   "id": "8758c01b",
   "metadata": {},
   "outputs": [
    {
     "name": "stdout",
     "output_type": "stream",
     "text": [
      "+----------+-----------------+--------------------+--------------------+-------------------+------+--------------+-----------+-----------+-----------+------+-------------+------------------------+----------------+----------+----------+--------------------+----+-----------------+--------+------------+-------------+-------+-----------+--------+--------------+-------------+-------------+------+--------------------+-------------------+----------+----------------+\n",
      "|product_id|custom_partnumber|          post_title|        post_excerpt|               _sku|_price|_regular_price|_sale_price|total_sales|_backorders|_stock|_stock_status|minimum_allowed_quantity|custom_condition|custom_eta|custom_moq| _product_attributes|pa_1|pa_almacenamiento|pa_color|pa_condicion|pa_disco-duro|pa_emmc|pa_garantia|pa_marca|pa_memoria-ram|  pa_pantalla|pa_procesador|pa_ram|pa_sistema-operativo|pa_tarjeta-de-video|pa_teclado|pa_unidad-solida|\n",
      "+----------+-----------------+--------------------+--------------------+-------------------+------+--------------+-----------+-----------+-----------+------+-------------+------------------------+----------------+----------+----------+--------------------+----+-----------------+--------+------------+-------------+-------+-----------+--------+--------------+-------------+-------------+------+--------------------+-------------------+----------+----------------+\n",
      "|       521|     NX.KJBAA.001|ACER ASPIRE A315-...|AMD RYZEN 3 7320U...|   NX.KJBAA.001-B1S|   0.0|           0.0|       NULL|          0|         no|   0.0|   outofstock|                       1|           Nuevo|     7Dias|         1|a:9:{s:8:\"pa_marc...|NULL|             NULL|Plateado|       Nuevo|         NULL|   NULL|       NULL|    Acer|      8GB DDR4|15.6 Pulgadas|  AMD Ryzen 3|  NULL|          Windows 11|AMD RADEON GRAPHICS|      NULL|           128gb|\n",
      "|       524|     NX.KSJAA.004|ACER ASPIRE 3 A31...|AMD RYZEN 7 5700U...|       NX.KSJAA.004| 385.0|         385.0|       NULL|          7|         no|   0.0|   outofstock|                       1|           Nuevo|    7 DIAS|         1|a:9:{s:8:\"pa_marc...|NULL|             NULL|    Gris|       Nuevo|         NULL|   NULL|       NULL|    Acer|     16GB DDR4|15.6 Pulgadas|  AMD RYZEN 7|  NULL|          Windows 11|AMD RADEON GRAPHICS|      NULL|           512GB|\n",
      "|       528|        MGND3LL/A|APPLE MACBOOK AIR...|APPLE CHIP M1 OCT...|          MGND3LL/A| 650.0|         650.0|       NULL|          5|         no|   0.0|   outofstock|                       1|           Nuevo|    7 DIAS|         1|a:8:{s:8:\"pa_marc...|NULL|             NULL|  Dorado|       Nuevo|         NULL|   NULL|       NULL|   Apple|      8GB DDR4|13.3 Pulgadas|     Apple M1|  NULL|              MAC OS|               NULL|      NULL|           256GB|\n",
      "|       534|  M1603QA-R712512|ASUS VIVOBOOK M16...|AMD RYZEN 7 5800H...|M1603QA-R712512-B1S| 523.0|         523.0|       NULL|          0|         no|   0.0|   outofstock|                       1|           Nuevo|   12 Dias|         1|a:9:{s:8:\"pa_marc...|NULL|             NULL|   Negro|       Nuevo|         NULL|   NULL|       NULL|    Asus|     12GB DDR4|  16 Pulgadas|  AMD RYZEN 7|  NULL|          Windows 11|AMD RADEON GRAPHICS|      NULL|           512GB|\n",
      "|       535|     M1605XA-EB96|ASUS VIVOBOOK M16...|AMD RYZEN 9 7940H...|   M1605XA-EB96-B1S| 738.0|         738.0|       NULL|          0|         no|   0.0|   outofstock|                       1|           Nuevo|   14 DIAS|         1|a:9:{s:8:\"pa_marc...|NULL|             NULL|Plateado|       Nuevo|         NULL|   NULL|       NULL|    Asus|     16GB DDR5|  16 Pulgadas|  AMD RYZEN 9|  NULL|          Windows 11|AMD RADEON GRAPHICS|      NULL|             1TB|\n",
      "|       536|      L210MA-DS02|ASUS VIVOBOOK GO ...|INTEL CELERON N40...|    L210MA-DS02-B1S|   0.0|           0.0|       NULL|          0|         no|   0.0|   outofstock|                       1|           Nuevo|     7Dias|         1|a:8:{s:8:\"pa_marc...|NULL|             NULL|   Negro|       Nuevo|         NULL|   NULL|       NULL|    Asus|      4GB DDR4|11.6 Pulgadas|Intel Celeron|  NULL|          Windows 11|               NULL|      NULL|            64GB|\n",
      "|       537|      L510MA-AS02|ASUS VIVOBOOK GO ...|INTEL CELERON N40...|    L510MA-AS02-B1S| 200.0|         200.0|       NULL|          0|         no| 204.0|      instock|                      10|           Nuevo|   13 Dias|        10|a:10:{s:8:\"pa_mar...|NULL|             64GB|   Negro|       Nuevo|         NULL|   NULL|       NULL|    Asus|      4GB DDR4|15.6 Pulgadas|Intel Celeron|  NULL|          Windows 11| INTEL UHD GRAPHICS|      NULL|            64GB|\n",
      "|       538|     F1504ZA-AS34|ASUS VIVOBOOK 15 ...|INTEL CORE I3 121...|   F1504ZA-AS34-B1S| 339.0|         339.0|       NULL|          0|         no|   0.0|   outofstock|                       1|           Nuevo|     7Dias|         1|a:9:{s:8:\"pa_marc...|NULL|             NULL|    Azul|       Nuevo|         NULL|   NULL|       NULL|    Asus|      8GB DDR4|15.6 Pulgadas|Intel Core i3|  NULL|          Windows 11| INTEL UHD GRAPHICS|      NULL|           128gb|\n",
      "|       539|     F1500EA-WB51|ASUS VIVOBOOK 15 ...|INTEL CORE I5 113...|   F1500EA-WB51-B1S| 398.0|         398.0|       NULL|          0|         no|  59.0|      instock|                      10|           Nuevo|   13 Dias|        10|a:8:{s:8:\"pa_marc...|NULL|             NULL|   Negro|       Nuevo|         NULL|   NULL|       NULL|    Asus|      8GB DDR4|15.6 Pulgadas|Intel Core i5|  NULL|          Windows 11|               NULL|      NULL|           256GB|\n",
      "|       540|   TP3604VA-DS51T|ASUS VIVOBOOK 2-IN-1|INTEL CORE I5 135...| TP3604VA-DS51T-B1S| 617.0|         617.0|       NULL|          3|         no|   0.0|   outofstock|                       1|           Nuevo|   14 DIAS|         1|a:8:{s:8:\"pa_marc...|NULL|             NULL|   Negro|       Nuevo|         NULL|   NULL|       NULL|    Asus|      8GB DDR4|  16 Pulgadas|Intel Core i5|  NULL|          Windows 11|               NULL|      NULL|           512GB|\n",
      "+----------+-----------------+--------------------+--------------------+-------------------+------+--------------+-----------+-----------+-----------+------+-------------+------------------------+----------------+----------+----------+--------------------+----+-----------------+--------+------------+-------------+-------+-----------+--------+--------------+-------------+-------------+------+--------------------+-------------------+----------+----------------+\n",
      "only showing top 10 rows\n",
      "\n"
     ]
    }
   ],
   "source": [
    "df_produtos.show(10, truncate=True)"
   ]
  },
  {
   "cell_type": "code",
   "execution_count": 7,
   "id": "360e8fb7",
   "metadata": {},
   "outputs": [
    {
     "name": "stdout",
     "output_type": "stream",
     "text": [
      "root\n",
      " |-- order_id: integer (nullable = true)\n",
      " |-- order_date: string (nullable = true)\n",
      " |-- order_device_type: string (nullable = true)\n",
      " |-- order_session_visited_pages: integer (nullable = true)\n",
      " |-- order_session_start_time: string (nullable = true)\n",
      " |-- order_traffic_source_type: string (nullable = true)\n",
      " |-- order_utm_source_campaign: string (nullable = true)\n",
      " |-- product_id: integer (nullable = true)\n",
      " |-- customer_id: integer (nullable = true)\n",
      " |-- product_qty: integer (nullable = true)\n",
      " |-- product_net_revenue: double (nullable = true)\n",
      " |-- tax_amount: double (nullable = true)\n",
      " |-- product_gross_revenue: double (nullable = true)\n",
      " |-- status: string (nullable = true)\n",
      "\n",
      "+--------+-------------------+-----------------+---------------------------+------------------------+-------------------------+-------------------------+----------+-----------+-----------+-------------------+----------+---------------------+------------+\n",
      "|order_id|order_date         |order_device_type|order_session_visited_pages|order_session_start_time|order_traffic_source_type|order_utm_source_campaign|product_id|customer_id|product_qty|product_net_revenue|tax_amount|product_gross_revenue|status      |\n",
      "+--------+-------------------+-----------------+---------------------------+------------------------+-------------------------+-------------------------+----------+-----------+-----------+-------------------+----------+---------------------+------------+\n",
      "|1918    |2024-04-16 23:14:42|Mobile           |98                         |2024-04-17 03:31:44     |referral                 |com.google.android.gm    |540       |29         |3          |1821.0             |327.78    |2148.78              |wc-completed|\n",
      "|2092    |2024-04-18 10:06:57|Desktop          |3                          |2024-04-18 14:20:47     |typein                   |(direct)                 |2082      |26         |5          |3090.0             |556.2     |3646.2               |wc-completed|\n",
      "|2289    |2024-04-18 17:45:10|Desktop          |10                         |2024-04-18 21:02:59     |typein                   |(direct)                 |2081      |72         |1          |1427.0             |256.86    |1683.86              |wc-completed|\n",
      "|2319    |2024-04-19 09:53:17|Desktop          |8                          |2024-04-19 14:47:29     |typein                   |(direct)                 |2221      |29         |2          |1582.0             |284.76    |1866.76              |wc-completed|\n",
      "|2392    |2024-04-19 15:12:21|Desktop          |20                         |2024-04-18 21:55:53     |typein                   |(direct)                 |2221      |26         |4          |3164.0             |569.52    |3733.52              |wc-completed|\n",
      "+--------+-------------------+-----------------+---------------------------+------------------------+-------------------------+-------------------------+----------+-----------+-----------+-------------------+----------+---------------------+------------+\n",
      "only showing top 5 rows\n",
      "\n"
     ]
    }
   ],
   "source": [
    "df_ordens = spark.read.csv(path_ordens, header=True, inferSchema=True, sep=',')\n",
    "df_ordens.printSchema()\n",
    "df_ordens.show(5, truncate=False)"
   ]
  },
  {
   "cell_type": "markdown",
   "id": "e9c2fb2d",
   "metadata": {},
   "source": [
    "3. Limpieza y pré procesamiento de los datos"
   ]
  },
  {
   "cell_type": "markdown",
   "id": "f8f5aad3",
   "metadata": {},
   "source": [
    "3.1 Dataset Clientes"
   ]
  },
  {
   "cell_type": "code",
   "execution_count": 8,
   "id": "cc080a2f",
   "metadata": {},
   "outputs": [
    {
     "name": "stdout",
     "output_type": "stream",
     "text": [
      "+-------+---------------+-----------+------------+---------------+-------------+\n",
      "|user_id|user_registered|user_status|billing_city|billing_country|billing_state|\n",
      "+-------+---------------+-----------+------------+---------------+-------------+\n",
      "|      0|              0|          0|          13|             13|           14|\n",
      "+-------+---------------+-----------+------------+---------------+-------------+\n",
      "\n"
     ]
    }
   ],
   "source": [
    "# Verificar nulos\n",
    "df_clientes.select([count(when(isnan(c) | col(c).isNull(), c)).alias(c) for c in df_clientes.columns]).show()"
   ]
  },
  {
   "cell_type": "code",
   "execution_count": 9,
   "id": "cf3a4d91",
   "metadata": {},
   "outputs": [
    {
     "name": "stdout",
     "output_type": "stream",
     "text": [
      "Registros antes de remover duplicatas (clientes): 253\n",
      "Registros despues de remover duplicatas (clientes): 253\n"
     ]
    }
   ],
   "source": [
    "# Remover duplicatas basadas en el user_id\n",
    "print(f\"Registros antes de remover duplicatas (clientes): {df_clientes.count()}\")\n",
    "df_clientes = df_clientes.dropDuplicates(['user_id'])\n",
    "print(f\"Registros despues de remover duplicatas (clientes): {df_clientes.count()}\")"
   ]
  },
  {
   "cell_type": "code",
   "execution_count": 10,
   "id": "dbd095c6",
   "metadata": {},
   "outputs": [
    {
     "name": "stdout",
     "output_type": "stream",
     "text": [
      "+-------+-------------------+-------------------+-------------------+\n",
      "|user_id|    user_registered| user_registered_ts|dias_desde_registro|\n",
      "+-------+-------------------+-------------------+-------------------+\n",
      "|      4|2024-04-05 15:38:09|2024-04-05 15:38:09|                395|\n",
      "|      8|2024-04-12 16:09:39|2024-04-12 16:09:39|                388|\n",
      "|     10|2024-04-12 17:03:18|2024-04-12 17:03:18|                388|\n",
      "|     13|2024-04-15 22:08:21|2024-04-15 22:08:21|                385|\n",
      "|     14|2024-04-15 22:16:09|2024-04-15 22:16:09|                385|\n",
      "+-------+-------------------+-------------------+-------------------+\n",
      "only showing top 5 rows\n",
      "\n"
     ]
    }
   ],
   "source": [
    "# Normalizar columna de fecha 'user_registered.\n",
    "df_clientes = df_clientes.withColumn(\"user_registered_ts\", to_timestamp(col(\"user_registered\"), \"yyyy-MM-dd HH:mm:ss\"))\n",
    "df_clientes = df_clientes.withColumn(\"dias_desde_registro\", datediff(current_date(), col(\"user_registered_ts\")))\n",
    "df_clientes.select(\"user_id\", \"user_registered\", \"user_registered_ts\", \"dias_desde_registro\").show(5)"
   ]
  },
  {
   "cell_type": "markdown",
   "id": "428ea2de",
   "metadata": {},
   "source": [
    "3.2 Dataset Produtos"
   ]
  },
  {
   "cell_type": "code",
   "execution_count": 11,
   "id": "0fc48bd1",
   "metadata": {},
   "outputs": [
    {
     "name": "stdout",
     "output_type": "stream",
     "text": [
      "+----------+-----------------+----------+------------+----+------+--------------+-----------+-----------+-----------+------+-------------+------------------------+----------------+----------+----------+-------------------+----+-----------------+--------+------------+-------------+-------+-----------+--------+--------------+-----------+-------------+------+--------------------+-------------------+----------+----------------+\n",
      "|product_id|custom_partnumber|post_title|post_excerpt|_sku|_price|_regular_price|_sale_price|total_sales|_backorders|_stock|_stock_status|minimum_allowed_quantity|custom_condition|custom_eta|custom_moq|_product_attributes|pa_1|pa_almacenamiento|pa_color|pa_condicion|pa_disco-duro|pa_emmc|pa_garantia|pa_marca|pa_memoria-ram|pa_pantalla|pa_procesador|pa_ram|pa_sistema-operativo|pa_tarjeta-de-video|pa_teclado|pa_unidad-solida|\n",
      "+----------+-----------------+----------+------------+----+------+--------------+-----------+-----------+-----------+------+-------------+------------------------+----------------+----------+----------+-------------------+----+-----------------+--------+------------+-------------+-------+-----------+--------+--------------+-----------+-------------+------+--------------------+-------------------+----------+----------------+\n",
      "|         0|               66|         0|         163|  58|    57|            57|       5805|         24|         24|    25|           24|                      70|              78|        57|        65|                 59|5822|             5543|     772|         179|         5735|   5686|       2647|     130|          1954|       2503|         1959|  5821|                2113|               4640|      3951|            2508|\n",
      "+----------+-----------------+----------+------------+----+------+--------------+-----------+-----------+-----------+------+-------------+------------------------+----------------+----------+----------+-------------------+----+-----------------+--------+------------+-------------+-------+-----------+--------+--------------+-----------+-------------+------+--------------------+-------------------+----------+----------------+\n",
      "\n"
     ]
    }
   ],
   "source": [
    "df_produtos.select([count(when(isnan(c) | col(c).isNull(), c)).alias(c) for c in df_produtos.columns]).show()"
   ]
  },
  {
   "cell_type": "code",
   "execution_count": 13,
   "id": "51d0c39b",
   "metadata": {},
   "outputs": [
    {
     "name": "stdout",
     "output_type": "stream",
     "text": [
      "Registros antes da remoção de duplicatas (produtos): 5823\n",
      "Registros após a remoção de duplicatas (produtos): 5823\n"
     ]
    }
   ],
   "source": [
    "# Remover duplicatas basadas en product_id\n",
    "print(f\"Registros antes da remoção de duplicatas (produtos): {df_produtos.count()}\")\n",
    "df_produtos = df_produtos.dropDuplicates(['product_id'])\n",
    "print(f\"Registros após a remoção de duplicatas (produtos): {df_produtos.count()}\")"
   ]
  },
  {
   "cell_type": "code",
   "execution_count": 19,
   "id": "a3922f8c",
   "metadata": {},
   "outputs": [
    {
     "name": "stdout",
     "output_type": "stream",
     "text": [
      "+----------+-----------------+--------------------+--------------------+------------------+------+--------------+-----------+-----------+-----------+------+-------------+------------------------+----------------+----------+----------+--------------------+----+-----------------+--------+------------+-------------+-------+-----------+--------+--------------+-------------+-------------+------+--------------------+--------------------+----------+----------------+\n",
      "|product_id|custom_partnumber|          post_title|        post_excerpt|              _sku|_price|_regular_price|_sale_price|total_sales|_backorders|_stock|_stock_status|minimum_allowed_quantity|custom_condition|custom_eta|custom_moq| _product_attributes|pa_1|pa_almacenamiento|pa_color|pa_condicion|pa_disco-duro|pa_emmc|pa_garantia|pa_marca|pa_memoria-ram|  pa_pantalla|pa_procesador|pa_ram|pa_sistema-operativo| pa_tarjeta-de-video|pa_teclado|pa_unidad-solida|\n",
      "+----------+-----------------+--------------------+--------------------+------------------+------+--------------+-----------+-----------+-----------+------+-------------+------------------------+----------------+----------+----------+--------------------+----+-----------------+--------+------------+-------------+-------+-----------+--------+--------------+-------------+-------------+------+--------------------+--------------------+----------+----------------+\n",
      "|       539|     F1500EA-WB51|ASUS VIVOBOOK 15 ...|INTEL CORE I5 113...|  F1500EA-WB51-B1S| 398.0|         398.0|       NULL|          0|         no|  59.0|      instock|                      10|           Nuevo|   13 Dias|        10|a:8:{s:8:\"pa_marc...|NULL|             NULL|   Negro|       Nuevo|         NULL|   NULL|       NULL|    Asus|      8GB DDR4|15.6 Pulgadas|Intel Core i5|  NULL|          Windows 11|                NULL|      NULL|           256GB|\n",
      "|       540|   TP3604VA-DS51T|ASUS VIVOBOOK 2-IN-1|INTEL CORE I5 135...|TP3604VA-DS51T-B1S| 617.0|         617.0|       NULL|          3|         no|   0.0|   outofstock|                       1|           Nuevo|   14 DIAS|         1|a:8:{s:8:\"pa_marc...|NULL|             NULL|   Negro|       Nuevo|         NULL|   NULL|       NULL|    Asus|      8GB DDR4|  16 Pulgadas|Intel Core i5|  NULL|          Windows 11|                NULL|      NULL|           512GB|\n",
      "|       570|        MLXY3LL/A|APPLE MACBOOK AIR...|APPLE CHIP M2 OCT...|     MLXY3LL/A-B1S| 784.0|         784.0|       NULL|          3|         no|   0.0|   outofstock|                       1|           Nuevo|   14 DIAS|         1|a:8:{s:8:\"pa_marc...|NULL|             NULL|Plateado|       Nuevo|         NULL|   NULL|       NULL|   Apple|      8GB DDR4|13.6 Pulgadas|     Apple M2|  NULL|              MAC OS|                NULL|      NULL|           256GB|\n",
      "|       572|     K6602VV-AS96|ASUS VIVOBOOK PRO...|INTEL CORE I9 139...|  K6602VV-AS96-B1S|1432.0|        1432.0|       NULL|          0|         no|   0.0|   outofstock|                       1|           Nuevo|    9 DIAS|         1|a:11:{s:8:\"pa_mar...|NULL|             NULL|    Azul|       Nuevo|         NULL|   NULL|   12 Meses|    Asus|     16GB DDR5|  16 Pulgadas|INTEL CORE I9|  NULL|          Windows 11|NVIDIA GEFORCE RT...|    Ingles|             1TB|\n",
      "|       606|            NV0JJ|DELL MOBILE PRECI...|INTEL CORE I7 128...|         NV0JJ-B1S|   0.0|           0.0|       NULL|          0|         no|   0.0|   outofstock|                       1|           Nuevo|     7Dias|         1|a:8:{s:8:\"pa_marc...|NULL|             NULL|    Gris|       Nuevo|         NULL|   NULL|       NULL|    Dell|     32GB DDR5|15.6 Pulgadas|Intel Core i7|  NULL|      WINDOWS 10 PRO|                NULL|      NULL|           512GB|\n",
      "+----------+-----------------+--------------------+--------------------+------------------+------+--------------+-----------+-----------+-----------+------+-------------+------------------------+----------------+----------+----------+--------------------+----+-----------------+--------+------------+-------------+-------+-----------+--------+--------------+-------------+-------------+------+--------------------+--------------------+----------+----------------+\n",
      "only showing top 5 rows\n",
      "\n"
     ]
    }
   ],
   "source": [
    "df_produtos.show(5)"
   ]
  },
  {
   "cell_type": "markdown",
   "id": "6a1535d7",
   "metadata": {},
   "source": [
    "3.3 Dataset Ordens"
   ]
  },
  {
   "cell_type": "code",
   "execution_count": 20,
   "id": "5b138ee7",
   "metadata": {},
   "outputs": [
    {
     "name": "stdout",
     "output_type": "stream",
     "text": [
      "+--------+----------+-----------------+---------------------------+------------------------+-------------------------+-------------------------+----------+-----------+-----------+-------------------+----------+---------------------+------+\n",
      "|order_id|order_date|order_device_type|order_session_visited_pages|order_session_start_time|order_traffic_source_type|order_utm_source_campaign|product_id|customer_id|product_qty|product_net_revenue|tax_amount|product_gross_revenue|status|\n",
      "+--------+----------+-----------------+---------------------------+------------------------+-------------------------+-------------------------+----------+-----------+-----------+-------------------+----------+---------------------+------+\n",
      "|       0|         0|              402|                        402|                     402|                        0|                      402|         0|          0|          0|                  0|         0|                    0|     0|\n",
      "+--------+----------+-----------------+---------------------------+------------------------+-------------------------+-------------------------+----------+-----------+-----------+-------------------+----------+---------------------+------+\n",
      "\n"
     ]
    }
   ],
   "source": [
    "#Verificando Nulos\n",
    "df_ordens.select([count(when(isnan(c) | col(c).isNull(), c)).alias(c) for c in df_ordens.columns]).show()"
   ]
  },
  {
   "cell_type": "code",
   "execution_count": null,
   "id": "527732e0",
   "metadata": {},
   "outputs": [
    {
     "name": "stdout",
     "output_type": "stream",
     "text": [
      "Registros antes da remoção de duplicatas (ordens): 845\n",
      "Registros após a remoção de duplicatas (ordens): 845\n"
     ]
    }
   ],
   "source": [
    "# Remover duplicatas (consideramos una chave compuesta con order_id, product_id)\n",
    "print(f\"Registros antes da remoção de duplicatas (ordens): {df_ordens.count()}\")\n",
    "df_ordens = df_ordens.dropDuplicates(['order_id', 'product_id'])\n",
    "print(f\"Registros após a remoção de duplicatas (ordens): {df_ordens.count()}\")"
   ]
  },
  {
   "cell_type": "code",
   "execution_count": 22,
   "id": "9fed9d1e",
   "metadata": {},
   "outputs": [],
   "source": [
    "# Normalizar colunas de data 'order_date', 'order_session_start_time'\n",
    "df_ordens = df_ordens.withColumn(\"order_date_ts\", to_timestamp(col(\"order_date\"), \"yyyy-MM-dd HH:mm:ss\"))\n",
    "df_ordens = df_ordens.withColumn(\"session_start_ts\", to_timestamp(col(\"order_session_start_time\"), \"yyyy-MM-dd HH:mm:ss\"))"
   ]
  },
  {
   "cell_type": "code",
   "execution_count": 23,
   "id": "f669a8bf",
   "metadata": {},
   "outputs": [],
   "source": [
    "# Calcular recência de la orden en dias - Usaremos en el RFM\n",
    "df_ordens = df_ordens.withColumn(\"recencia_ordem_dias\", datediff(current_date(), col(\"order_date_ts\")))"
   ]
  },
  {
   "cell_type": "code",
   "execution_count": 26,
   "id": "8b5727f8",
   "metadata": {},
   "outputs": [
    {
     "name": "stdout",
     "output_type": "stream",
     "text": [
      "+--------+-------------------+-------------------+-------------------+\n",
      "|order_id|         order_date|      order_date_ts|recencia_ordem_dias|\n",
      "+--------+-------------------+-------------------+-------------------+\n",
      "|    1918|2024-04-16 23:14:42|2024-04-16 23:14:42|                384|\n",
      "|    2092|2024-04-18 10:06:57|2024-04-18 10:06:57|                382|\n",
      "|    2289|2024-04-18 17:45:10|2024-04-18 17:45:10|                382|\n",
      "|    2319|2024-04-19 09:53:17|2024-04-19 09:53:17|                381|\n",
      "|    2392|2024-04-19 15:12:21|2024-04-19 15:12:21|                381|\n",
      "+--------+-------------------+-------------------+-------------------+\n",
      "only showing top 5 rows\n",
      "\n"
     ]
    }
   ],
   "source": [
    "df_ordens.select(\"order_id\", \"order_date\", \"order_date_ts\", \"recencia_ordem_dias\").show(5)"
   ]
  },
  {
   "cell_type": "markdown",
   "id": "5b6c6fff",
   "metadata": {},
   "source": [
    "4. Análise RFM (Recência, Frequência, Monetário)"
   ]
  },
  {
   "cell_type": "code",
   "execution_count": 27,
   "id": "e116c135",
   "metadata": {},
   "outputs": [],
   "source": [
    "from pyspark.sql.functions import max, countDistinct, sum, min , avg\n"
   ]
  },
  {
   "cell_type": "code",
   "execution_count": 28,
   "id": "c75f9dca",
   "metadata": {},
   "outputs": [],
   "source": [
    "# Calcular Recência (R): Mínimo de dias desde la última compra por cliente\n",
    "rfm_r = df_ordens.groupBy(\"customer_id\") \\\n",
    "                 .agg(min(\"recencia_ordem_dias\").alias(\"Recencia\"))"
   ]
  },
  {
   "cell_type": "code",
   "execution_count": 29,
   "id": "83a0c604",
   "metadata": {},
   "outputs": [],
   "source": [
    "# Calcular Frecuencia (F): Número total de ordenes distintas por cliente\n",
    "rfm_f = df_ordens.groupBy(\"customer_id\") \\\n",
    "                 .agg(countDistinct(\"order_id\").alias(\"Frequencia\"))"
   ]
  },
  {
   "cell_type": "code",
   "execution_count": 31,
   "id": "360cf248",
   "metadata": {},
   "outputs": [],
   "source": [
    "# Calcular Monetário (M): Soma total del valor bruto gastado por cliente usando product_gross_revenue.\n",
    "rfm_m = df_ordens.groupBy(\"customer_id\") \\\n",
    "                 .agg(sum(\"product_gross_revenue\").alias(\"Monetario\"))"
   ]
  },
  {
   "cell_type": "code",
   "execution_count": 32,
   "id": "52cb8fbf",
   "metadata": {},
   "outputs": [],
   "source": [
    "# Juntar R, F, M\n",
    "rfm_table = rfm_r.join(rfm_f, \"customer_id\", \"inner\") \\\n",
    "                 .join(rfm_m, \"customer_id\", \"inner\")"
   ]
  },
  {
   "cell_type": "code",
   "execution_count": 33,
   "id": "4c1b2a9c",
   "metadata": {},
   "outputs": [
    {
     "name": "stdout",
     "output_type": "stream",
     "text": [
      "Tabla RFM:\n",
      "+-----------+--------+----------+------------------+\n",
      "|customer_id|Recencia|Frequencia|         Monetario|\n",
      "+-----------+--------+----------+------------------+\n",
      "|        737|     137|         2|           4715.28|\n",
      "|        516|     157|         1|            1044.3|\n",
      "|        580|     200|         2|            1770.0|\n",
      "|        513|     201|        13| 50761.23999999999|\n",
      "|        613|     213|         1|            1534.0|\n",
      "|        406|     202|         4| 9355.039999999999|\n",
      "|        587|     224|         1|            1451.4|\n",
      "|         26|     215|        53|218783.79999999996|\n",
      "|        501|     179|         5|          24134.54|\n",
      "|        577|     143|         1|             831.9|\n",
      "+-----------+--------+----------+------------------+\n",
      "only showing top 10 rows\n",
      "\n"
     ]
    }
   ],
   "source": [
    "print(\"Tabla RFM:\")\n",
    "rfm_table.show(10)"
   ]
  },
  {
   "cell_type": "code",
   "execution_count": 34,
   "id": "b6db4dea",
   "metadata": {},
   "outputs": [],
   "source": [
    "# Atribuir Scores RFM\n",
    "# Dividir cada métrica em N quantis \n",
    "\n",
    "from pyspark.ml.feature import QuantileDiscretizer"
   ]
  },
  {
   "cell_type": "markdown",
   "id": "2fa183fc",
   "metadata": {},
   "source": [
    "Scores: 1 (pior) a 5 (melhor). Recência: menor = melhor. Frequência/Monetário: maior = melhor."
   ]
  },
  {
   "cell_type": "code",
   "execution_count": 35,
   "id": "2795475e",
   "metadata": {},
   "outputs": [],
   "source": [
    "# Recência Score (menor es mejor, así que invertemos las labels)\n",
    "quantile_discretizer_r = QuantileDiscretizer(numBuckets=5, inputCol=\"Recencia\", outputCol=\"R_Score_temp\", relativeError=0.01)\n",
    "rfm_table = quantile_discretizer_r.fit(rfm_table).transform(rfm_table)\n",
    "rfm_table = rfm_table.withColumn(\"R_Score\", (5 - col(\"R_Score_temp\")).cast(IntegerType())) # Inverte para 5 ser o melhor"
   ]
  },
  {
   "cell_type": "code",
   "execution_count": 36,
   "id": "8f3dfa6f",
   "metadata": {},
   "outputs": [],
   "source": [
    "# Frecuencia Score (mayor es mejor)\n",
    "quantile_discretizer_f = QuantileDiscretizer(numBuckets=5, inputCol=\"Frequencia\", outputCol=\"F_Score_temp\", relativeError=0.01)\n",
    "rfm_table = quantile_discretizer_f.fit(rfm_table).transform(rfm_table)\n",
    "rfm_table = rfm_table.withColumn(\"F_Score\", (col(\"F_Score_temp\") + 1).cast(IntegerType())) # Ajusta para 1-5"
   ]
  },
  {
   "cell_type": "code",
   "execution_count": 37,
   "id": "192a8793",
   "metadata": {},
   "outputs": [],
   "source": [
    "# Monetário Score (mayor es mejor)\n",
    "quantile_discretizer_m = QuantileDiscretizer(numBuckets=5, inputCol=\"Monetario\", outputCol=\"M_Score_temp\", relativeError=0.01)\n",
    "rfm_table = quantile_discretizer_m.fit(rfm_table).transform(rfm_table)\n",
    "rfm_table = rfm_table.withColumn(\"M_Score\", (col(\"M_Score_temp\") + 1).cast(IntegerType())) # Ajusta para 1-5"
   ]
  },
  {
   "cell_type": "code",
   "execution_count": 38,
   "id": "9788d034",
   "metadata": {},
   "outputs": [],
   "source": [
    "# Combinar Scores RFM (concatenar como string)\n",
    "from pyspark.sql.functions import concat_ws"
   ]
  },
  {
   "cell_type": "code",
   "execution_count": 39,
   "id": "32b64c03",
   "metadata": {},
   "outputs": [],
   "source": [
    "rfm_final = rfm_table.withColumn(\"RFM_Score\", concat_ws(\"\", col(\"R_Score\"), col(\"F_Score\"), col(\"M_Score\")))\n",
    "rfm_final = rfm_final.select(\"customer_id\", \"Recencia\", \"Frequencia\", \"Monetario\", \"R_Score\", \"F_Score\", \"M_Score\", \"RFM_Score\")"
   ]
  },
  {
   "cell_type": "code",
   "execution_count": 42,
   "id": "87a2a855",
   "metadata": {},
   "outputs": [
    {
     "name": "stdout",
     "output_type": "stream",
     "text": [
      "Tabla RFM final con Scores:\n",
      "+-----------+--------+----------+------------------+-------+-------+-------+---------+\n",
      "|customer_id|Recencia|Frequencia|         Monetario|R_Score|F_Score|M_Score|RFM_Score|\n",
      "+-----------+--------+----------+------------------+-------+-------+-------+---------+\n",
      "|        737|     137|         2|           4715.28|      5|      2|      3|      523|\n",
      "|        516|     157|         1|            1044.3|      4|      2|      2|      422|\n",
      "|        580|     200|         2|            1770.0|      3|      2|      2|      322|\n",
      "|        513|     201|        13| 50761.23999999999|      3|      4|      5|      345|\n",
      "|        613|     213|         1|            1534.0|      3|      2|      2|      322|\n",
      "|        406|     202|         4| 9355.039999999999|      3|      3|      4|      334|\n",
      "|        587|     224|         1|            1451.4|      2|      2|      2|      222|\n",
      "|         26|     215|        53|218783.79999999996|      3|      4|      5|      345|\n",
      "|        501|     179|         5|          24134.54|      4|      3|      4|      434|\n",
      "|        577|     143|         1|             831.9|      5|      2|      1|      521|\n",
      "+-----------+--------+----------+------------------+-------+-------+-------+---------+\n",
      "only showing top 10 rows\n",
      "\n"
     ]
    }
   ],
   "source": [
    "print(\"Tabla RFM final con Scores:\")\n",
    "rfm_final.show(10)"
   ]
  },
  {
   "cell_type": "markdown",
   "id": "363820c7",
   "metadata": {},
   "source": [
    "5. Clusterizacion de Clientes com K-Means (basado en RFM)"
   ]
  },
  {
   "cell_type": "code",
   "execution_count": 43,
   "id": "531ea4d2",
   "metadata": {},
   "outputs": [],
   "source": [
    "from pyspark.ml.feature import VectorAssembler, StandardScaler\n",
    "from pyspark.ml.clustering import KMeans\n",
    "from pyspark.ml.evaluation import ClusteringEvaluator"
   ]
  },
  {
   "cell_type": "code",
   "execution_count": 44,
   "id": "4fac5b36",
   "metadata": {},
   "outputs": [],
   "source": [
    "# Seleccionar las colunas RFM para clusterizacion\n",
    "rfm_features = rfm_final.select(\"customer_id\", \"Recencia\", \"Frequencia\", \"Monetario\")"
   ]
  },
  {
   "cell_type": "code",
   "execution_count": 45,
   "id": "7f43e769",
   "metadata": {},
   "outputs": [],
   "source": [
    "# Montar los vectores de las features\n",
    "vec_assembler = VectorAssembler(inputCols=[\"Recencia\", \"Frequencia\", \"Monetario\"], outputCol=\"rfm_features_raw\")\n",
    "rfm_vector = vec_assembler.transform(rfm_features)"
   ]
  },
  {
   "cell_type": "code",
   "execution_count": 46,
   "id": "bed72d1a",
   "metadata": {},
   "outputs": [],
   "source": [
    "# Escalar las features (K-Means es sensible a escala)\n",
    "scaler = StandardScaler(inputCol=\"rfm_features_raw\", outputCol=\"features\", withStd=True, withMean=False)\n",
    "scaler_model = scaler.fit(rfm_vector)\n",
    "rfm_scaled = scaler_model.transform(rfm_vector)"
   ]
  },
  {
   "cell_type": "code",
   "execution_count": 47,
   "id": "85ddcd89",
   "metadata": {},
   "outputs": [
    {
     "name": "stdout",
     "output_type": "stream",
     "text": [
      "Features RFM montadas y escaladas:\n",
      "+-----------+-------------------------------------------------------------+\n",
      "|customer_id|features                                                     |\n",
      "+-----------+-------------------------------------------------------------+\n",
      "|737        |[2.180569373061795,0.09615619884527073,0.06954858691027146]  |\n",
      "|516        |[2.4989006683992834,0.04807809942263536,0.01540302788177934] |\n",
      "|580        |[3.183312953374883,0.09615619884527073,0.02610682691827007]  |\n",
      "|513        |[3.1992295181417574,0.6250152924942597,0.7487089869134278]   |\n",
      "|613        |[3.3902282953442504,0.04807809942263536,0.022625916662500727]|\n",
      "+-----------+-------------------------------------------------------------+\n",
      "only showing top 5 rows\n",
      "\n"
     ]
    }
   ],
   "source": [
    "print(\"Features RFM montadas y escaladas:\")\n",
    "rfm_scaled.select(\"customer_id\", \"features\").show(5, truncate=False)"
   ]
  },
  {
   "cell_type": "code",
   "execution_count": 49,
   "id": "1772c31e",
   "metadata": {},
   "outputs": [
    {
     "name": "stdout",
     "output_type": "stream",
     "text": [
      "Silhouette Score com k=2: 0.9606580962300374\n",
      "Silhouette Score com k=3: 0.5946984813461699\n",
      "Silhouette Score com k=4: 0.6476355037702873\n",
      "Silhouette Score com k=5: 0.5710270590536604\n",
      "Silhouette Score com k=6: 0.6190047449347134\n",
      "Silhouette Score com k=7: 0.5259010354077953\n",
      "Silhouette Score com k=8: 0.5713526302998704\n",
      "Silhouette Score com k=9: 0.6430396058868162\n",
      "Silhouette Score com k=10: 0.5248360202549096\n",
      "Silhouette Score com k=11: 0.5570061832930827\n",
      "Silhouette Score com k=12: 0.605476155496353\n",
      "Silhouette Score com k=13: 0.6005809723648616\n",
      "Silhouette Score com k=14: 0.6330763168813027\n",
      "Silhouette Score com k=15: 0.6002216988755624\n",
      "Silhouette Score com k=16: 0.6369364198443971\n",
      "Silhouette Score com k=17: 0.5741561718774943\n",
      "Silhouette Score com k=18: 0.5559253895031256\n",
      "Silhouette Score com k=19: 0.5497770624382743\n"
     ]
    }
   ],
   "source": [
    "# Usando Silhouette para decidir la cantidad de clusters\n",
    "\n",
    "k = 2\n",
    "while k < 20:\n",
    "    kmeans = KMeans(featuresCol=\"features\", k=k, seed=1)\n",
    "    model = kmeans.fit(rfm_scaled)\n",
    "    predictions = model.transform(rfm_scaled)\n",
    "    evaluator = ClusteringEvaluator(featuresCol='features', metricName='silhouette', distanceMeasure='squaredEuclidean')\n",
    "    silhouette = evaluator.evaluate(predictions)\n",
    "    print(f\"Silhouette Score com k={k}: {silhouette}\")\n",
    "    k+=1"
   ]
  },
  {
   "cell_type": "markdown",
   "id": "e5451048",
   "metadata": {},
   "source": [
    "# 📘 ¿Qué es el *Silhouette Score* en Machine Learning y Clustering?\n",
    "\n",
    "El **Silhouette Score** es una métrica que evalúa la calidad de los clusters generados por un algoritmo de *clustering* no supervisado, como **K-Means**, **DBSCAN**, o **clustering jerárquico**.\n",
    "\n",
    "## 🧮 ¿Cómo se calcula?\n",
    "\n",
    "Para cada punto \\( i \\):\n",
    "\n",
    "- \\( a(i) \\): Distancia media a los demás puntos dentro del mismo cluster.\n",
    "- \\( b(i) \\): Distancia media al cluster más cercano al que no pertenece.\n",
    "\n",
    "\\[\n",
    "s(i) = \\frac{b(i) - a(i)}{\\max(a(i), b(i))}\n",
    "\\]\n",
    "\n",
    "- \\( s(i) \\) cercano a **1** → buena asignación.\n",
    "- \\( s(i) \\) cercano a **0** → punto entre dos clusters.\n",
    "- \\( s(i) \\) negativo → probablemente mal asignado.\n",
    "\n",
    "## 📊 Interpretación del promedio\n",
    "\n",
    "\\[\n",
    "\\text{Silhouette Score promedio} = \\frac{1}{n} \\sum_{i=1}^{n} s(i)\n",
    "\\]\n",
    "\n",
    "- **> 0.7** → Clustering fuerte y bien definido.\n",
    "- **0.5 a 0.7** → Estructura razonable.\n",
    "- **< 0.5** → Clusters solapados o mal definidos.\n",
    "\n",
    "## 🎯 Usos\n",
    "\n",
    "- Comparar diferentes configuraciones de clustering (por ejemplo, distintos valores de \\( k \\) en K-Means).\n",
    "- Identificar posibles outliers.\n",
    "- Elegir el número óptimo de clusters."
   ]
  },
  {
   "cell_type": "code",
   "execution_count": 50,
   "id": "cbfca445",
   "metadata": {},
   "outputs": [
    {
     "name": "stdout",
     "output_type": "stream",
     "text": [
      "Clientes atribuídos a 4 clusters:\n",
      "+-----------+----------+\n",
      "|customer_id|prediction|\n",
      "+-----------+----------+\n",
      "|        737|         0|\n",
      "|        516|         0|\n",
      "|        580|         0|\n",
      "|        513|         0|\n",
      "|        613|         0|\n",
      "|        406|         0|\n",
      "|        587|         0|\n",
      "|         26|         2|\n",
      "|        501|         0|\n",
      "|        577|         0|\n",
      "+-----------+----------+\n",
      "only showing top 10 rows\n",
      "\n"
     ]
    }
   ],
   "source": [
    "# Despues de medir la cantidad de clusters, nos quedamos con 4, \n",
    "# pues se considera 2 poco y con 4 tenemos una clusterizacion cerca de 0.7.\n",
    "\n",
    "k = 4\n",
    "kmeans = KMeans(featuresCol=\"features\", k=k, seed=1)\n",
    "model = kmeans.fit(rfm_scaled)\n",
    "\n",
    "# Predicir (poner clusters a los clientes)\n",
    "predictions = model.transform(rfm_scaled)\n",
    "\n",
    "print(f\"Clientes atribuídos a {k} clusters:\")\n",
    "predictions.select(\"customer_id\", \"prediction\").show(10)"
   ]
  },
  {
   "cell_type": "code",
   "execution_count": 51,
   "id": "c4b9854a",
   "metadata": {},
   "outputs": [
    {
     "name": "stdout",
     "output_type": "stream",
     "text": [
      "Silhouette Score com k=4: 0.6476355037702873\n"
     ]
    }
   ],
   "source": [
    "# Avaliar la clusterizacion (Silhouette Score)\n",
    "\n",
    "evaluator = ClusteringEvaluator(featuresCol='features', metricName='silhouette', distanceMeasure='squaredEuclidean')\n",
    "silhouette = evaluator.evaluate(predictions)\n",
    "print(f\"Silhouette Score com k={k}: {silhouette}\")"
   ]
  },
  {
   "cell_type": "code",
   "execution_count": 53,
   "id": "58d51a7d",
   "metadata": {},
   "outputs": [
    {
     "data": {
      "image/png": "[encoded data removed]",
      "text/plain": [
       "<Figure size 1000x600 with 1 Axes>"
      ]
     },
     "metadata": {},
     "output_type": "display_data"
    }
   ],
   "source": [
    "import numpy as np\n",
    "import matplotlib.pyplot as plt\n",
    "from sklearn.metrics import silhouette_samples\n",
    "\n",
    "# Graficamos Silhouette score.\n",
    "\n",
    "pred_pd = predictions.select(\"features\", \"prediction\").toPandas()\n",
    "X = np.vstack(pred_pd[\"features\"].values)\n",
    "labels = pred_pd[\"prediction\"].values\n",
    "\n",
    "sample_values = silhouette_samples(X, labels)\n",
    "\n",
    "plt.figure(figsize=(10, 6))\n",
    "y_lower = 10\n",
    "for i in np.unique(labels):\n",
    "    ith_cluster_silhouette_values = sample_values[labels == i]\n",
    "    ith_cluster_silhouette_values.sort()\n",
    "    size_cluster_i = ith_cluster_silhouette_values.shape[0]\n",
    "    y_upper = y_lower + size_cluster_i\n",
    "    plt.fill_betweenx(np.arange(y_lower, y_upper),\n",
    "                      0, ith_cluster_silhouette_values)\n",
    "    plt.text(-0.05, y_lower + 0.5 * size_cluster_i, str(i))\n",
    "    y_lower = y_upper + 10\n",
    "\n",
    "plt.axvline(x=silhouette, color=\"red\", linestyle=\"--\")\n",
    "plt.xlabel(\"Silhouette coefficient values\")\n",
    "plt.ylabel(\"Cluster\")\n",
    "plt.title(\"Grafica de Silhouette\")\n",
    "plt.show()"
   ]
  },
  {
   "cell_type": "code",
   "execution_count": 54,
   "id": "ff9822af",
   "metadata": {},
   "outputs": [
    {
     "name": "stdout",
     "output_type": "stream",
     "text": [
      "Tabela final com RFM Scores e Cluster:\n",
      "+-----------+--------+----------+------------------+-------+-------+-------+---------+-------+\n",
      "|customer_id|Recencia|Frequencia|         Monetario|R_Score|F_Score|M_Score|RFM_Score|cluster|\n",
      "+-----------+--------+----------+------------------+-------+-------+-------+---------+-------+\n",
      "|         26|     215|        53|218783.79999999996|      3|      4|      5|      345|      2|\n",
      "|         29|     154|        26| 72460.25999999998|      4|      4|      5|      445|      2|\n",
      "|         30|     192|        19|43949.100000000006|      3|      4|      5|      345|      0|\n",
      "|         43|     149|        27|          65978.52|      4|      4|      5|      445|      2|\n",
      "|         60|     200|        30|          79364.44|      3|      4|      5|      345|      2|\n",
      "|         69|     361|         1|            1439.6|      1|      2|      2|      122|      3|\n",
      "|         72|     382|         1|           1683.86|      1|      2|      2|      122|      3|\n",
      "|         75|     255|         5|           16449.2|      2|      3|      4|      234|      3|\n",
      "|         80|     145|        24|         152726.22|      4|      4|      5|      445|      2|\n",
      "|        119|     138|        34|          91871.26|      5|      4|      5|      545|      2|\n",
      "+-----------+--------+----------+------------------+-------+-------+-------+---------+-------+\n",
      "only showing top 10 rows\n",
      "\n"
     ]
    }
   ],
   "source": [
    "# Juntar las previsiones de cluster con la tabla RFM final\n",
    "clientes_clusterizados = rfm_final.join(predictions.select(\"customer_id\", col(\"prediction\").alias(\"cluster\")), \"customer_id\", \"inner\")\n",
    "print(\"Tabela final com RFM Scores e Cluster:\")\n",
    "clientes_clusterizados.show(10)"
   ]
  },
  {
   "cell_type": "code",
   "execution_count": 55,
   "id": "e3c64ad3",
   "metadata": {},
   "outputs": [
    {
     "name": "stdout",
     "output_type": "stream",
     "text": [
      "\n",
      "Análise das características médias por cluster:\n",
      "+-------+------------------+------------------+------------------+------------+\n",
      "|cluster|    Recencia_Media|  Frequencia_Media|   Monetario_Medio|Num_Clientes|\n",
      "+-------+------------------+------------------+------------------+------------+\n",
      "|      0|183.04255319148936|  5.51063829787234|14892.252765957457|          47|\n",
      "|      1|             133.0|             172.0| 528263.5800000001|           1|\n",
      "|      2|174.55555555555554|28.444444444444443|106955.37310666667|           9|\n",
      "|      3| 295.0869565217391|1.3043478260869565|2943.0739130434786|          23|\n",
      "+-------+------------------+------------------+------------------+------------+\n",
      "\n"
     ]
    }
   ],
   "source": [
    "# Analisar las características de cada cluster\n",
    "print(\"\\nAnálise das características médias por cluster:\")\n",
    "clientes_clusterizados.groupBy(\"cluster\") \\\n",
    "    .agg(avg(\"Recencia\").alias(\"Recencia_Media\"), \\\n",
    "         avg(\"Frequencia\").alias(\"Frequencia_Media\"), \\\n",
    "         avg(\"Monetario\").alias(\"Monetario_Medio\"), \\\n",
    "         countDistinct(\"customer_id\").alias(\"Num_Clientes\")) \\\n",
    "    .orderBy(\"cluster\") \\\n",
    "    .show()"
   ]
  },
  {
   "cell_type": "markdown",
   "id": "ae5adaa6",
   "metadata": {},
   "source": [
    "6. Modelo de Recomendação de Produtos (ALS - Collaborative Filtering)"
   ]
  },
  {
   "cell_type": "code",
   "execution_count": 56,
   "id": "e85d294a",
   "metadata": {},
   "outputs": [],
   "source": [
    "from pyspark.ml.recommendation import ALS\n",
    "from pyspark.sql.functions import expr"
   ]
  },
  {
   "cell_type": "code",
   "execution_count": 57,
   "id": "674e88fb",
   "metadata": {},
   "outputs": [],
   "source": [
    "# Certificar que os IDs são inteiros e não nulos\n",
    "als_data = df_ordens.select(\n",
    "    col(\"customer_id\").cast(IntegerType()),\n",
    "    col(\"product_id\").cast(IntegerType()),\n",
    "    col(\"product_qty\").cast(FloatType()) # Usando cantidad como 'rating' implícito\n",
    ").na.drop() # Quitar lineas donde customer_id o product_id son nulos mismo despues del cast"
   ]
  },
  {
   "cell_type": "code",
   "execution_count": 58,
   "id": "01b2b385",
   "metadata": {},
   "outputs": [],
   "source": [
    "# renombrar columnas para el patron de ALS\n",
    "als_data = als_data.withColumnRenamed(\"customer_id\", \"userCol\") \\\n",
    "                   .withColumnRenamed(\"product_id\", \"itemCol\") \\\n",
    "                   .withColumnRenamed(\"product_qty\", \"ratingCol\")"
   ]
  },
  {
   "cell_type": "code",
   "execution_count": 59,
   "id": "113ec314",
   "metadata": {},
   "outputs": [],
   "source": [
    "# Dividir datos en train y test \n",
    "(training, test) = als_data.randomSplit([0.8, 0.2], seed=1234)"
   ]
  },
  {
   "cell_type": "code",
   "execution_count": 60,
   "id": "0ddff4a1",
   "metadata": {},
   "outputs": [],
   "source": [
    "# Construir modelo ALS con una configuracion basica\n",
    "als_model = ALS(userCol=\"userCol\", itemCol=\"itemCol\", ratingCol=\"ratingCol\",\n",
    "          implicitPrefs=True, coldStartStrategy=\"drop\",\n",
    "          nonnegative=True)"
   ]
  },
  {
   "cell_type": "code",
   "execution_count": 62,
   "id": "91371b80",
   "metadata": {},
   "outputs": [
    {
     "name": "stdout",
     "output_type": "stream",
     "text": [
      "Melhor RMSE no teste: 75.3878123470439\n",
      "Mean Absolute Error (MAE):    14.5052\n"
     ]
    }
   ],
   "source": [
    "from pyspark.sql.functions import explode\n",
    "from pyspark.ml.tuning import CrossValidator, ParamGridBuilder\n",
    "from pyspark.ml.evaluation import RegressionEvaluator\n",
    "\n",
    "# test de los hiperparametros para ajuste.\n",
    "paramGrid = ParamGridBuilder() \\\n",
    "    .addGrid(als_model.rank, [10, 20, 30]) \\\n",
    "    .addGrid(als_model.regParam, [0.01, 0.1, 1.0]) \\\n",
    "    .addGrid(als_model.alpha, [0.5, 1.0, 2.0]) \\\n",
    "    .build()\n",
    "\n",
    "\n",
    "#cross validator Evaluator\n",
    "\n",
    "evaluator = RegressionEvaluator(metricName=\"rmse\", labelCol=\"ratingCol\", predictionCol=\"prediction\")\n",
    "\n",
    "cv = CrossValidator(estimator=als_model,\n",
    "                    estimatorParamMaps=paramGrid,\n",
    "                    evaluator=evaluator,\n",
    "                    numFolds=3)\n",
    "\n",
    "# Entrenar el modelo\n",
    "cv_model = cv.fit(training)\n",
    "\n",
    "# Mejor modelo\n",
    "mejor_modelo = cv_model.bestModel\n",
    "\n",
    "# Previsiones en el conjunto de test\n",
    "previsoes = mejor_modelo.transform(test)\n",
    "\n",
    "# Cálculo de RMSE y MAE\n",
    "rmse = evaluator.evaluate(previsoes.na.drop(subset=[\"prediction\"]))\n",
    "print(f\"Melhor RMSE no teste: {rmse}\")\n",
    "evaluator_mae = RegressionEvaluator(metricName=\"mae\", labelCol=\"ratingCol\", predictionCol=\"prediction\")\n",
    "mae = evaluator_mae.evaluate(previsoes)\n",
    "print(f\"Mean Absolute Error (MAE):    {mae:.4f}\")\n",
    "\n",
    "# Generar las recomendaciones formatadas\n",
    "recomendaciones = mejor_modelo.recommendForAllUsers(5)\n"
   ]
  },
  {
   "cell_type": "code",
   "execution_count": 63,
   "id": "c2f272ec",
   "metadata": {},
   "outputs": [
    {
     "name": "stdout",
     "output_type": "stream",
     "text": [
      "Top 5 Recomendaciones por usuario (IDs de Produto):\n",
      "+-------+----------------------------------------------------------------------------------------------------------------+\n",
      "|userCol|recommendations                                                                                                 |\n",
      "+-------+----------------------------------------------------------------------------------------------------------------+\n",
      "|580    |[{5674, 0.81703234}, {20412, 0.795498}, {19808, 0.78540576}, {14536, 0.7109094}, {17766, 0.6718696}]            |\n",
      "|470    |[{5674, 0.95439374}, {20412, 0.92168146}, {19808, 0.9102767}, {14536, 0.81114125}, {17766, 0.7665971}]          |\n",
      "|430    |[{2678, 1.1936221}, {13610, 1.1393023}, {13609, 1.1090592}, {16620, 1.099915}, {10594, 1.0756879}]              |\n",
      "|450    |[{13442, 0.8765648}, {12936, 0.69863206}, {1584, 0.5896245}, {14745, 0.5780283}, {14288, 0.5502549}]            |\n",
      "|80     |[{11668, 1.0677543}, {4189, 1.0367855}, {16596, 1.015159}, {5095, 1.0010126}, {6685, 0.99768794}]               |\n",
      "|60     |[{14592, 1.2626305}, {13594, 1.1501839}, {2786, 1.1468323}, {10184, 1.1145697}, {5542, 1.0753316}]              |\n",
      "|260    |[{11668, 0.0030456255}, {4189, 0.0028630823}, {5095, 0.0028523027}, {6685, 0.0028208126}, {16596, 0.0028196976}]|\n",
      "|270    |[{15167, 0.9894009}, {10181, 0.8863047}, {6786, 0.7955334}, {10945, 0.6011962}, {15468, 0.5963257}]             |\n",
      "|690    |[{14028, 0.08843748}, {2786, 0.08395982}, {21651, 0.0810721}, {963, 0.07302286}, {1136, 0.07232077}]            |\n",
      "|30     |[{20120, 0.999479}, {11668, 0.9892586}, {4189, 0.96236897}, {16596, 0.94241476}, {5095, 0.92596865}]            |\n",
      "+-------+----------------------------------------------------------------------------------------------------------------+\n",
      "only showing top 10 rows\n",
      "\n"
     ]
    }
   ],
   "source": [
    "print(\"Top 5 Recomendaciones por usuario (IDs de Produto):\")\n",
    "recomendaciones.show(10, truncate=False)"
   ]
  },
  {
   "cell_type": "code",
   "execution_count": 64,
   "id": "84ce206f",
   "metadata": {},
   "outputs": [
    {
     "name": "stdout",
     "output_type": "stream",
     "text": [
      "Recomendaciones formateadas (Usuário, Produto ID, Rating Predito):\n",
      "+-------+----------+----------------+\n",
      "|userCol|product_id|predicted_rating|\n",
      "+-------+----------+----------------+\n",
      "|    580|      5674|      0.81703234|\n",
      "|    580|     20412|        0.795498|\n",
      "|    580|     19808|      0.78540576|\n",
      "|    580|     14536|       0.7109094|\n",
      "|    580|     17766|       0.6718696|\n",
      "|    470|      5674|      0.95439374|\n",
      "|    470|     20412|      0.92168146|\n",
      "|    470|     19808|       0.9102767|\n",
      "|    470|     14536|      0.81114125|\n",
      "|    470|     17766|       0.7665971|\n",
      "|    430|      2678|       1.1936221|\n",
      "|    430|     13610|       1.1393023|\n",
      "|    430|     13609|       1.1090592|\n",
      "|    430|     16620|        1.099915|\n",
      "|    430|     10594|       1.0756879|\n",
      "|    450|     13442|       0.8765648|\n",
      "|    450|     12936|      0.69863206|\n",
      "|    450|      1584|       0.5896245|\n",
      "|    450|     14745|       0.5780283|\n",
      "|    450|     14288|       0.5502549|\n",
      "+-------+----------+----------------+\n",
      "only showing top 20 rows\n",
      "\n"
     ]
    }
   ],
   "source": [
    "# Formatear las recomendaciones para mejor visualizarlas\n",
    "user_recs_formatted = recomendaciones.withColumn(\"rec_exp\", expr(\"explode(recommendations)\")) \\\n",
    "                               .select(\"userCol\", col(\"rec_exp.itemCol\").alias(\"product_id\"), col(\"rec_exp.rating\").alias(\"predicted_rating\"))\n",
    "print(\"Recomendaciones formateadas (Usuário, Produto ID, Rating Predito):\")\n",
    "user_recs_formatted.show(20)"
   ]
  },
  {
   "cell_type": "code",
   "execution_count": 65,
   "id": "bb7e8d8a",
   "metadata": {},
   "outputs": [],
   "source": [
    "# Juntar con nombres de productos para que sean mas legíveis\n",
    "# Seleccionar apenas id e nombre del producto para el join\n",
    "df_produtos_nomes = df_produtos.select(col(\"product_id\").cast(IntegerType()), \"post_title\")\n",
    "\n",
    "user_recs_final = user_recs_formatted.join(df_produtos_nomes, user_recs_formatted.product_id == df_produtos_nomes.product_id, \"left\") \\\n",
    "                                  .select(\n",
    "    col(\"userCol\"),\n",
    "    df_produtos_nomes.product_id.alias(\"product_id\"),\n",
    "    col(\"post_title\"),\n",
    "    col(\"predicted_rating\")\n",
    ")"
   ]
  },
  {
   "cell_type": "code",
   "execution_count": null,
   "id": "e04f9f62",
   "metadata": {},
   "outputs": [
    {
     "name": "stdout",
     "output_type": "stream",
     "text": [
      "+-------+------------------------------------------------------------------------------------------------------------------------------------------------------------------------------------------------------------------------------------------------------------------------------------------------------+\n",
      "|userCol|top_5_recomendacoes                                                                                                                                                                                                                                                                                   |\n",
      "+-------+------------------------------------------------------------------------------------------------------------------------------------------------------------------------------------------------------------------------------------------------------------------------------------------------------+\n",
      "|26     |[{614, HP 15-EF2747WM, 1.3718138}, {14215, ASROCK A520M PRO4, 1.3688942}, {10320, HP PAVILION X360 14-EK1008CA, 1.1954261}, {2485, ZOTAC GAMING GEFORCE GTX 1650, 1.1511242}, {12956, LENOVO IDEAPAD SLIM 3 15ABR8-SM, 1.1451079}]                                                                    |\n",
      "|29     |[{2418, LENOVO IDEAPAD 1 14IGL7, 1.3544142}, {12956, LENOVO IDEAPAD SLIM 3 15ABR8-SM, 1.1113567}, {6685, ACER ASPIRE 3 A315-24PT-R90Z, 1.0343732}, {13594, HP VICTUS 15-FB2082WM, 0.9395251}, {14443, HP 15-FC0037WM, 0.8939899}]                                                                     |\n",
      "|30     |[{20120, LENOVO LEGION SLIM 5, 0.999479}, {11668, ACER ASPIRE 3 A315-24PT-R90Z, 0.9892586}, {4189, HP ENVY X360 14-ES0013DX, 0.96236897}, {16596, DELL LATITUDE 3190 2-IN-1, 0.94241476}, {5095, HP PAVILION PLUS 14-EH1047NR, 0.92596865}]                                                           |\n",
      "|43     |[{15167, XIAOMI MONITOR A27I US, 2.150487}, {10945, HP VICTUS 15-FB1013DX, 1.3067144}, {6786, LENOVO FLEX 5 14ABR8, 1.0623506}, {14808, LENOVO IDEAPAD 1 14IGL7, 1.0275514}, {15468, LENOVO IDEAPAD FLEX 5 14ABR8, 0.9925642}]                                                                        |\n",
      "|60     |[{14592, HP ENVY 16-H1053DX-SM, 1.2626305}, {13594, HP VICTUS 15-FB2082WM, 1.1501839}, {2786, MSI CYBORG A13VE-218US, 1.1468323}, {10184, GEIL EVO POTENZA RED DDR4 8GBX1, 1.1145697}, {5542, HP BIWIN S1 SERIES 8GB DDR4, 1.0753316}]                                                                |\n",
      "|69     |[{11668, ACER ASPIRE 3 A315-24PT-R90Z, 0.3093509}, {4189, HP ENVY X360 14-ES0013DX, 0.2908096}, {5095, HP PAVILION PLUS 14-EH1047NR, 0.2897147}, {6685, ACER ASPIRE 3 A315-24PT-R90Z, 0.2865162}, {16596, DELL LATITUDE 3190 2-IN-1, 0.2864029}]                                                      |\n",
      "|72     |[{13442, GEIL EVO POTENZA RED DDR4 16GBX1-SM, 7.10056E-10}, {12936, ZOTAC GAMING GEFORCE GTX 1660 SUPER TWIN FAN BLACK-SM, 5.6592264E-10}, {1584, HP V20 HD+ MONITOR 1H848AA, 4.776217E-10}, {14745, LENOVO IDEACENTRE 5 14IRB8, 4.6822834E-10}, {14288, POS IMPRESORA TERMICA 38T-SM, 4.4573062E-10}]|\n",
      "|75     |[{15167, XIAOMI MONITOR A27I US, 1.0158885}, {10945, HP VICTUS 15-FB1013DX, 0.6260619}, {6786, LENOVO FLEX 5 14ABR8, 0.49907622}, {14808, LENOVO IDEAPAD 1 14IGL7, 0.48609185}, {15468, LENOVO IDEAPAD FLEX 5 14ABR8, 0.46767527}]                                                                    |\n",
      "|80     |[{11668, ACER ASPIRE 3 A315-24PT-R90Z, 1.0677543}, {4189, HP ENVY X360 14-ES0013DX, 1.0367855}, {16596, DELL LATITUDE 3190 2-IN-1, 1.015159}, {5095, HP PAVILION PLUS 14-EH1047NR, 1.0010126}, {6685, ACER ASPIRE 3 A315-24PT-R90Z, 0.99768794}]                                                      |\n",
      "|119    |[{6786, LENOVO FLEX 5 14ABR8, 1.1702634}, {4189, HP ENVY X360 14-ES0013DX, 1.0730069}, {20412, ONN GOOGLE TV FULL HD 2023, 1.0232837}, {5674, ONN GOOGLE TV 4K STREAMING BOX, 1.0093452}, {19808, ONN GOOGLE TV 4K STREAMING BOX, 1.008755}]                                                          |\n",
      "+-------+------------------------------------------------------------------------------------------------------------------------------------------------------------------------------------------------------------------------------------------------------------------------------------------------------+\n",
      "only showing top 10 rows\n",
      "\n"
     ]
    }
   ],
   "source": [
    "# Agruparlos para ver los top 5 por usuário de forma mais clara\n",
    "from pyspark.sql.window import Window\n",
    "from pyspark.sql.functions import rank, collect_list\n",
    "from pyspark.sql.functions import struct\n",
    "\n",
    "window_spec = Window.partitionBy(\"userCol\").orderBy(col(\"predicted_rating\").desc())\n",
    "\n",
    "user_recs_grouped = user_recs_final \\\n",
    "    .withColumn(\"rank\", rank().over(window_spec)) \\\n",
    "    .where(col(\"rank\") <= 5) \\\n",
    "    .groupBy(\"userCol\") \\\n",
    "    .agg(collect_list(struct(\"product_id\", \"post_title\", \"predicted_rating\")).alias(\"top_5_recomendaciones\"))\n",
    "    \n",
    "user_recs_grouped.show(10, truncate=False)"
   ]
  },
  {
   "cell_type": "markdown",
   "id": "b5eedcdb",
   "metadata": {},
   "source": [
    "#### CHURN\n",
    "\n",
    "NO ESTÁ BIEN."
   ]
  },
  {
   "cell_type": "markdown",
   "id": "bf2466b7",
   "metadata": {},
   "source": [
    "7. Modelo de Previsão de Churn"
   ]
  },
  {
   "cell_type": "code",
   "execution_count": 81,
   "id": "6afe14bb",
   "metadata": {},
   "outputs": [],
   "source": [
    "from pyspark.sql.functions import datediff, current_date, lit, avg as spark_avg, count as spark_count, max as spark_max, struct\n",
    "from pyspark.ml.feature import VectorAssembler, StringIndexer, OneHotEncoder, StandardScaler\n",
    "from pyspark.ml.classification import LogisticRegression, RandomForestClassifier\n",
    "from pyspark.ml.evaluation import BinaryClassificationEvaluator, MulticlassClassificationEvaluator\n",
    "from pyspark.ml import Pipeline"
   ]
  },
  {
   "cell_type": "code",
   "execution_count": 82,
   "id": "3e4f3861",
   "metadata": {},
   "outputs": [],
   "source": [
    "# 7.1 Definição de Churn e Criação de Labels\n",
    "# Definir churn: Cliente que não fez compra nos últimos X dias (ex: 90 dias)\n",
    "# Este valor pode ser ajustado com base no conhecimento do negócio\n",
    "churn_threshold_days = 90"
   ]
  },
  {
   "cell_type": "code",
   "execution_count": 83,
   "id": "6c03077f",
   "metadata": {},
   "outputs": [],
   "source": [
    "# Usar a tabela RFM que já tem a Recência (dias desde a última compra)\n",
    "# Se Recencia > churn_threshold_days, então churn = 1, senão 0\n",
    "# Certificar que rfm_final está disponível\n",
    "if 'rfm_final' not in locals():\n",
    "    print(\"Erro: Tabela rfm_final não encontrada. Execute a etapa RFM primeiro.\")\n",
    "    # Adicionar código para recarregar ou recalcular rfm_final se necessário\n",
    "    # Por exemplo:\n",
    "    # rfm_r = df_ordens.groupBy(\"customer_id\").agg(spark_min(\"recencia_ordem_dias\").alias(\"Recencia\"))\n",
    "    # rfm_f = df_ordens.groupBy(\"customer_id\").agg(countDistinct(\"order_id\").alias(\"Frequencia\"))\n",
    "    # rfm_m = df_ordens.groupBy(\"customer_id\").agg(spark_sum(\"product_gross_revenue\").alias(\"Monetario\"))\n",
    "    # rfm_final = rfm_r.join(rfm_f, \"customer_id\", \"inner\").join(rfm_m, \"customer_id\", \"inner\")"
   ]
  },
  {
   "cell_type": "code",
   "execution_count": 84,
   "id": "0259e1b4",
   "metadata": {},
   "outputs": [],
   "source": [
    "churn_labels = rfm_final.withColumn(\"churn_label\",\n",
    "                                    when(col(\"Recencia\") > churn_threshold_days, 1).otherwise(0))"
   ]
  },
  {
   "cell_type": "code",
   "execution_count": 85,
   "id": "842012db",
   "metadata": {},
   "outputs": [
    {
     "name": "stdout",
     "output_type": "stream",
     "text": [
      "Definindo churn como inatividade > 90 dias.\n",
      "+-----------+-----+\n",
      "|churn_label|count|\n",
      "+-----------+-----+\n",
      "|          1|   80|\n",
      "+-----------+-----+\n",
      "\n"
     ]
    }
   ],
   "source": [
    "print(f\"Definindo churn como inatividade > {churn_threshold_days} dias.\")\n",
    "churn_labels.groupBy(\"churn_label\").count().show()"
   ]
  },
  {
   "cell_type": "code",
   "execution_count": 86,
   "id": "270120a4",
   "metadata": {},
   "outputs": [],
   "source": [
    "# 7.2 Feature Engineering Adicional\n",
    "# Juntar com df_clientes para obter 'dias_desde_registro'\n",
    "# Certificar que df_clientes está disponível e processado\n",
    "if 'df_clientes' not in locals() or 'dias_desde_registro' not in df_clientes.columns:\n",
    "     print(\"Erro: df_clientes ou coluna 'dias_desde_registro' não encontrada.\")\n",
    "     # Recarregar/reprocessar df_clientes se necessário\n",
    "     # df_clientes = spark.read.csv(path_clientes, header=True, inferSchema=True, sep=',')\n",
    "     # df_clientes = df_clientes.dropDuplicates(['user_id'])\n",
    "     # df_clientes = df_clientes.withColumn(\"user_registered_ts\", to_timestamp(col(\"user_registered\"), \"yyyy-MM-dd HH:mm:ss\"))\n",
    "     # df_clientes = df_clientes.withColumn(\"dias_desde_registro\", datediff(current_date(), col(\"user_registered_ts\")))"
   ]
  },
  {
   "cell_type": "code",
   "execution_count": 87,
   "id": "f221022c",
   "metadata": {},
   "outputs": [],
   "source": [
    "churn_data = churn_labels.join(df_clientes.select(col(\"user_id\").alias(\"customer_id_ref\"), \"dias_desde_registro\"),\n",
    "                               churn_labels.customer_id == col(\"customer_id_ref\"), \"left\") \\\n",
    "                         .select(\"customer_id\", \"Recencia\", \"Frequencia\", \"Monetario\", \"dias_desde_registro\", \"churn_label\") \\\n",
    "                         .na.fill(0, subset=[\"dias_desde_registro\"]) # Preencher nulos em dias_desde_registro (ex: se cliente não encontrado)"
   ]
  },
  {
   "cell_type": "code",
   "execution_count": 88,
   "id": "ed95efef",
   "metadata": {},
   "outputs": [
    {
     "name": "stdout",
     "output_type": "stream",
     "text": [
      "Dados preparados para modelo de churn:\n",
      "+-----------+--------+----------+-----------------+-------------------+-----------+\n",
      "|customer_id|Recencia|Frequencia|        Monetario|dias_desde_registro|churn_label|\n",
      "+-----------+--------+----------+-----------------+-------------------+-----------+\n",
      "|        737|     134|         2|          4715.28|                  0|          1|\n",
      "|        516|     154|         1|           1044.3|                  0|          1|\n",
      "|        580|     197|         2|           1770.0|                  0|          1|\n",
      "|        513|     198|        13|50761.23999999999|                  0|          1|\n",
      "|        613|     210|         1|           1534.0|                  0|          1|\n",
      "+-----------+--------+----------+-----------------+-------------------+-----------+\n",
      "only showing top 5 rows\n",
      "\n"
     ]
    }
   ],
   "source": [
    "print(\"Dados preparados para modelo de churn:\")\n",
    "churn_data.show(5)"
   ]
  },
  {
   "cell_type": "code",
   "execution_count": 89,
   "id": "a1f0b408",
   "metadata": {},
   "outputs": [],
   "source": [
    "# 7.3 Preparação para Modelagem (VectorAssembler, Scaler, Split)\n",
    "# Colunas de features\n",
    "feature_cols = [\"Recencia\", \"Frequencia\", \"Monetario\", \"dias_desde_registro\"]"
   ]
  },
  {
   "cell_type": "code",
   "execution_count": 90,
   "id": "ba93366a",
   "metadata": {},
   "outputs": [],
   "source": [
    "# Montar vetor de features\n",
    "assembler = VectorAssembler(inputCols=feature_cols, outputCol=\"features_raw\", handleInvalid=\"skip\") # Skip rows with nulls"
   ]
  },
  {
   "cell_type": "code",
   "execution_count": 91,
   "id": "90164802",
   "metadata": {},
   "outputs": [],
   "source": [
    "# Escalar features numéricas (importante para regressão logística)\n",
    "scaler_churn = StandardScaler(inputCol=\"features_raw\", outputCol=\"features\", withStd=True, withMean=True)"
   ]
  },
  {
   "cell_type": "code",
   "execution_count": 92,
   "id": "b2198c44",
   "metadata": {},
   "outputs": [],
   "source": [
    "# Criar pipeline para pré-processamento\n",
    "preprocess_pipeline = Pipeline(stages=[assembler, scaler_churn])\n",
    "preprocess_model = preprocess_pipeline.fit(churn_data)\n",
    "final_churn_data = preprocess_model.transform(churn_data)"
   ]
  },
  {
   "cell_type": "code",
   "execution_count": 93,
   "id": "2121db8b",
   "metadata": {},
   "outputs": [],
   "source": [
    "# Selecionar colunas finais e renomear label\n",
    "final_churn_data = final_churn_data.select(col(\"customer_id\"), col(\"features\"), col(\"churn_label\").alias(\"label\"))"
   ]
  },
  {
   "cell_type": "code",
   "execution_count": 94,
   "id": "1bdf8267",
   "metadata": {},
   "outputs": [
    {
     "name": "stdout",
     "output_type": "stream",
     "text": [
      "Dados finais com features escaladas e label:\n",
      "+-----------+------------------------------------------------------------------------------------+-----+\n",
      "|customer_id|features                                                                            |label|\n",
      "+-----------+------------------------------------------------------------------------------------+-----+\n",
      "|737        |[-1.2204026035000965,-0.33474376723009847,-0.34684949808465804,-0.6423398862187408] |1    |\n",
      "|516        |[-0.9020713081626082,-0.3828218666527338,-0.40099505711315014,-0.6423398862187408]  |1    |\n",
      "|580        |[-0.21765902318700828,-0.33474376723009847,-0.39029125807665943,-0.6423398862187408]|1    |\n",
      "|513        |[-0.20174245842013386,0.1941153264188905,0.3323109019184983,-0.6423398862187408]    |1    |\n",
      "|613        |[-0.010743681217640863,-0.3828218666527338,-0.39377216833242873,-0.6423398862187408]|1    |\n",
      "+-----------+------------------------------------------------------------------------------------+-----+\n",
      "only showing top 5 rows\n",
      "\n"
     ]
    }
   ],
   "source": [
    "print(\"Dados finais com features escaladas e label:\")\n",
    "final_churn_data.show(5, truncate=False)"
   ]
  },
  {
   "cell_type": "code",
   "execution_count": 95,
   "id": "bc099b9c",
   "metadata": {},
   "outputs": [
    {
     "name": "stdout",
     "output_type": "stream",
     "text": [
      "Registros de treino: 63, Registros de teste: 17\n",
      "Modelo de Regressão Logística treinado.\n",
      "Predições no conjunto de teste:\n",
      "+-----------+-----+-----------+----------+\n",
      "|customer_id|label|probability|prediction|\n",
      "+-----------+-----+-----------+----------+\n",
      "|30         |1    |[0.0,1.0]  |1.0       |\n",
      "|72         |1    |[0.0,1.0]  |1.0       |\n",
      "|80         |1    |[0.0,1.0]  |1.0       |\n",
      "|172        |1    |[0.0,1.0]  |1.0       |\n",
      "|244        |1    |[0.0,1.0]  |1.0       |\n",
      "|260        |1    |[0.0,1.0]  |1.0       |\n",
      "|279        |1    |[0.0,1.0]  |1.0       |\n",
      "|327        |1    |[0.0,1.0]  |1.0       |\n",
      "|432        |1    |[0.0,1.0]  |1.0       |\n",
      "|435        |1    |[0.0,1.0]  |1.0       |\n",
      "+-----------+-----+-----------+----------+\n",
      "only showing top 10 rows\n",
      "\n",
      "Área sob a curva ROC (AUC) no conjunto de teste: 1.0\n",
      "Accuracy: 1.0\n",
      "Precision: 1.0\n",
      "Recall: 1.0\n",
      "F1 Score: 1.0\n"
     ]
    }
   ],
   "source": [
    "# Verificar se há dados suficientes após pré-processamento\n",
    "if final_churn_data.count() == 0:\n",
    "    print(\"Erro: Nenhum dado restante após pré-processamento para o modelo de churn.\")\n",
    "else:\n",
    "    # Dividir em treino e teste\n",
    "    (train_data, test_data) = final_churn_data.randomSplit([0.8, 0.2], seed=42)\n",
    "    print(f\"Registros de treino: {train_data.count()}, Registros de teste: {test_data.count()}\")\n",
    "\n",
    "    # 7.4 Treinamento do Modelo (Ex: Regressão Logística)\n",
    "    if train_data.count() > 0:\n",
    "        lr = LogisticRegression(featuresCol=\"features\", labelCol=\"label\")\n",
    "        lr_model = lr.fit(train_data)\n",
    "        print(\"Modelo de Regressão Logística treinado.\")\n",
    "\n",
    "        # 7.5 Avaliação do Modelo\n",
    "        if test_data.count() > 0:\n",
    "            predictions_lr = lr_model.transform(test_data)\n",
    "            print(\"Predições no conjunto de teste:\")\n",
    "            predictions_lr.select(\"customer_id\", \"label\", \"probability\", \"prediction\").show(10, truncate=False)\n",
    "\n",
    "            # Avaliar usando AUC\n",
    "            evaluator_auc = BinaryClassificationEvaluator(rawPredictionCol=\"rawPrediction\", labelCol=\"label\", metricName=\"areaUnderROC\")\n",
    "            # Lidar com possíveis NaNs na coluna de predição se houver\n",
    "            auc = evaluator_auc.evaluate(predictions_lr.na.drop(subset=[\"rawPrediction\"]))\n",
    "            print(f\"Área sob a curva ROC (AUC) no conjunto de teste: {auc}\")\n",
    "\n",
    "            # Avaliar usando outras métricas (Accuracy, Precision, Recall, F1)\n",
    "            evaluator_multi = MulticlassClassificationEvaluator(labelCol=\"label\", predictionCol=\"prediction\")\n",
    "            accuracy = evaluator_multi.evaluate(predictions_lr, {evaluator_multi.metricName: \"accuracy\"})\n",
    "            precision = evaluator_multi.evaluate(predictions_lr, {evaluator_multi.metricName: \"weightedPrecision\"})\n",
    "            recall = evaluator_multi.evaluate(predictions_lr, {evaluator_multi.metricName: \"weightedRecall\"})\n",
    "            f1 = evaluator_multi.evaluate(predictions_lr, {evaluator_multi.metricName: \"f1\"})\n",
    "\n",
    "            print(f\"Accuracy: {accuracy}\")\n",
    "            print(f\"Precision: {precision}\")\n",
    "            print(f\"Recall: {recall}\")\n",
    "            print(f\"F1 Score: {f1}\")\n",
    "        else:\n",
    "            print(\"Não há dados de teste suficientes para avaliação.\")\n",
    "    else:\n",
    "        print(\"Não há dados de treino suficientes para treinar o modelo.\")"
   ]
  },
  {
   "cell_type": "code",
   "execution_count": 108,
   "id": "7c73a7f2",
   "metadata": {},
   "outputs": [
    {
     "name": "stdout",
     "output_type": "stream",
     "text": [
      "Há predições válidas para avaliação após remover NaNs.\n"
     ]
    }
   ],
   "source": [
    "# 1. Avaliador AUC e AUC-PR\n",
    "evaluator_auc = BinaryClassificationEvaluator(rawPredictionCol=\"rawPrediction\", labelCol=\"label\", metricName=\"areaUnderROC\")\n",
    "evaluator_pr = BinaryClassificationEvaluator(rawPredictionCol=\"rawPrediction\", labelCol=\"label\", metricName=\"areaUnderPR\")\n",
    "\n",
    "# Lidar com possíveis NaNs na coluna de predição se houver (ex: coldStartStrategy)\n",
    "valid_predictions = predictions_lr.na.drop(subset=[\"rawPrediction\", \"prediction\", \"label\"])\n",
    "\n",
    "if valid_predictions.count() == 0:\n",
    "    print(\"Não há predições válidas para avaliação após remover NaNs.\")\n",
    "else: \n",
    "    print(\"Há predições válidas para avaliação após remover NaNs.\")"
   ]
  },
  {
   "cell_type": "code",
   "execution_count": 109,
   "id": "7df2b255",
   "metadata": {},
   "outputs": [
    {
     "name": "stdout",
     "output_type": "stream",
     "text": [
      "Área sob a Curva ROC (AUC): 1.0000\n",
      "Área sob a Curva Precision-Recall (AUC-PR): 1.0000\n"
     ]
    }
   ],
   "source": [
    "auc_score = evaluator_auc.evaluate(valid_predictions)\n",
    "pr_auc_score = evaluator_pr.evaluate(valid_predictions)\n",
    "print(f\"Área sob a Curva ROC (AUC): {auc_score:.4f}\")\n",
    "print(f\"Área sob a Curva Precision-Recall (AUC-PR): {pr_auc_score:.4f}\")\n",
    "\n"
   ]
  },
  {
   "cell_type": "code",
   "execution_count": 110,
   "id": "4eaa5c2a",
   "metadata": {},
   "outputs": [
    {
     "name": "stdout",
     "output_type": "stream",
     "text": [
      "\n",
      "Accuracy: 1.0000\n",
      "Precision Ponderada: 1.0000\n",
      "Recall Ponderado: 1.0000\n",
      "F1-Score Ponderado: 1.0000\n"
     ]
    }
   ],
   "source": [
    "# 2. Avaliador Multiclasse para Accuracy, Precision, Recall, F1\n",
    "evaluator_multi = MulticlassClassificationEvaluator(labelCol=\"label\", predictionCol=\"prediction\")\n",
    "\n",
    "accuracy = evaluator_multi.evaluate(valid_predictions, {evaluator_multi.metricName: \"accuracy\"})\n",
    "precision_w = evaluator_multi.evaluate(valid_predictions, {evaluator_multi.metricName: \"weightedPrecision\"})\n",
    "recall_w = evaluator_multi.evaluate(valid_predictions, {evaluator_multi.metricName: \"weightedRecall\"})\n",
    "f1_w = evaluator_multi.evaluate(valid_predictions, {evaluator_multi.metricName: \"f1\"})\n",
    "\n",
    "print(f\"\\nAccuracy: {accuracy:.4f}\")\n",
    "print(f\"Precision Ponderada: {precision_w:.4f}\")\n",
    "print(f\"Recall Ponderado: {recall_w:.4f}\")\n",
    "print(f\"F1-Score Ponderado: {f1_w:.4f}\")\n",
    "\n"
   ]
  },
  {
   "cell_type": "code",
   "execution_count": 115,
   "id": "24ef997d",
   "metadata": {},
   "outputs": [
    {
     "name": "stdout",
     "output_type": "stream",
     "text": [
      "Label 1: Precision = 1.0000, Recall = 1.0000, F1 = 1.0000\n",
      "\n",
      "-- Métricas por Classe --\n",
      "\n",
      "-- Métricas por Classe (presentes nos dados) --\n",
      "Label 1: Precision = 1.0000, Recall = 1.0000, F1 = 1.0000\n"
     ]
    }
   ],
   "source": [
    "from pyspark.ml.evaluation import MulticlassClassificationEvaluator\n",
    "\n",
    "# Verifique as labels presentes\n",
    "present_labels = valid_predictions.select(\"label\").distinct().rdd.flatMap(lambda x: x).collect()\n",
    "\n",
    "evaluator_multi = MulticlassClassificationEvaluator(labelCol=\"label\", predictionCol=\"prediction\")\n",
    "\n",
    "for label in present_labels:\n",
    "    precision = evaluator_multi.evaluate(valid_predictions, {\n",
    "        evaluator_multi.metricName: \"precisionByLabel\",\n",
    "        evaluator_multi.metricLabel: label\n",
    "    })\n",
    "    recall = evaluator_multi.evaluate(valid_predictions, {\n",
    "        evaluator_multi.metricName: \"recallByLabel\",\n",
    "        evaluator_multi.metricLabel: label\n",
    "    })\n",
    "    f1 = evaluator_multi.evaluate(valid_predictions, {\n",
    "        evaluator_multi.metricName: \"f1\",\n",
    "        evaluator_multi.metricLabel: label\n",
    "    })\n",
    "\n",
    "    print(f\"Label {label}: Precision = {precision:.4f}, Recall = {recall:.4f}, F1 = {f1:.4f}\")\n",
    "\n",
    "# 3. Métricas por Classe\n",
    "print(\"\\n-- Métricas por Classe --\")\n",
    "labels = [0.0, 1.0]\n",
    "evaluator = MulticlassClassificationEvaluator(labelCol=\"label\", predictionCol=\"prediction\")\n",
    "\n",
    "# 🔍 Verifique quais classes realmente estão presentes\n",
    "labels_presentes = valid_predictions.select(\"label\").distinct().rdd.flatMap(lambda x: x).collect()\n",
    "\n",
    "print(\"\\n-- Métricas por Classe (presentes nos dados) --\")\n",
    "for label in sorted(labels_presentes):\n",
    "    evaluator.setMetricLabel(label)\n",
    "\n",
    "    evaluator.setMetricName(\"precisionByLabel\")\n",
    "    precision = evaluator.evaluate(valid_predictions)\n",
    "\n",
    "    evaluator.setMetricName(\"recallByLabel\")\n",
    "    recall = evaluator.evaluate(valid_predictions)\n",
    "\n",
    "    evaluator.setMetricName(\"f1\")\n",
    "    f1 = evaluator.evaluate(valid_predictions)\n",
    "\n",
    "    print(f\"Label {label}: Precision = {precision:.4f}, Recall = {recall:.4f}, F1 = {f1:.4f}\")\n",
    "\n",
    "    \n"
   ]
  },
  {
   "cell_type": "code",
   "execution_count": 116,
   "id": "fe65bea1",
   "metadata": {},
   "outputs": [
    {
     "name": "stdout",
     "output_type": "stream",
     "text": [
      "\n",
      "-- Matriz de Confusão --\n",
      "                 Predito 0 | Predito 1\n",
      "Real 0 (Não Churn):     0     |    0    \n",
      "Real 1 (Churn):         0     |    17   \n"
     ]
    }
   ],
   "source": [
    "# 4. Matriz de Confusão (Cálculo com PySpark)\n",
    "print(\"\\n-- Matriz de Confusão --\")\n",
    "# Calcula TP, TN, FP, FN diretamente\n",
    "tp = valid_predictions.filter(\"label = 1.0 AND prediction = 1.0\").count()\n",
    "tn = valid_predictions.filter(\"label = 0.0 AND prediction = 0.0\").count()\n",
    "fp = valid_predictions.filter(\"label = 0.0 AND prediction = 1.0\").count()\n",
    "fn = valid_predictions.filter(\"label = 1.0 AND prediction = 0.0\").count()\n",
    "\n",
    "print(f\"                 Predito 0 | Predito 1\")\n",
    "print(f\"Real 0 (Não Churn):  {tn:^8} | {fp:^8}\")\n",
    "print(f\"Real 1 (Churn):      {fn:^8} | {tp:^8}\")"
   ]
  },
  {
   "cell_type": "markdown",
   "id": "8fc32010",
   "metadata": {},
   "source": [
    "Próximo passo: Finalizar e entregar o notebook"
   ]
  },
  {
   "cell_type": "code",
   "execution_count": null,
   "id": "946b308e",
   "metadata": {
    "lines_to_next_cell": 2
   },
   "outputs": [],
   "source": [
    "# Finalizar SparkSession\n",
    "spark.stop()\n",
    "print(\"SparkSession finalizada.\")"
   ]
  }
 ],
 "metadata": {
  "jupytext": {
   "cell_metadata_filter": "-all",
   "encoding": "# -*- coding: utf-8 -*-",
   "main_language": "python",
   "notebook_metadata_filter": "-all"
  },
  "kernelspec": {
   "display_name": "Python 3 (ipykernel)",
   "language": "python",
   "name": "python3"
  },
  "language_info": {
   "codemirror_mode": {
    "name": "ipython",
    "version": 3
   },
   "file_extension": ".py",
   "mimetype": "text/x-python",
   "name": "python",
   "nbconvert_exporter": "python",
   "pygments_lexer": "ipython3",
   "version": "3.11.6"
  }
 },
 "nbformat": 4,
 "nbformat_minor": 5
}
