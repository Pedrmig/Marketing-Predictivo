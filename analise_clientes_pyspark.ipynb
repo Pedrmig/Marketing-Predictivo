{
 "cells": [
  {
   "cell_type": "code",
   "execution_count": 175,
   "id": "ca721bd1",
   "metadata": {},
   "outputs": [],
   "source": [
    "# Importar bibliotecas necesarias\n",
    "from pyspark.sql import SparkSession\n",
    "import pyspark.sql.functions as F\n",
    "from pyspark.sql.functions import col, count, isnan, when, trim, to_timestamp, datediff, current_date, unix_timestamp,col, udf, when\n",
    "from pyspark.sql.types import StringType, IntegerType, FloatType, TimestampType\n",
    "from pyspark.sql.window import Window\n",
    "from functools import reduce\n",
    "from pyspark.sql import Row\n",
    "from pyspark.sql.functions import lit, sum as spark_sum, avg"
   ]
  },
  {
   "cell_type": "markdown",
   "id": "93ee4aa2",
   "metadata": {},
   "source": [
    "1. Crear y inicializar SPARK"
   ]
  },
  {
   "cell_type": "code",
   "execution_count": 176,
   "id": "6cd78884",
   "metadata": {},
   "outputs": [],
   "source": [
    "# Inicializar SparkSession\n",
    "spark = SparkSession.builder \\\n",
    "    .appName(\"Marketin-predictivo\") \\\n",
    "    .config(\"spark.sql.legacy.timeParserPolicy\", \"LEGACY\") \\\n",
    "    .getOrCreate()"
   ]
  },
  {
   "cell_type": "markdown",
   "id": "a131e745",
   "metadata": {},
   "source": [
    "2. Leer los datasets"
   ]
  },
  {
   "cell_type": "code",
   "execution_count": 177,
   "id": "10581092",
   "metadata": {},
   "outputs": [],
   "source": [
    "# Caminos para los archivos\n",
    "path_clientes_emp1 = \"/home/jovyan/Marketing-Predictivo/CSV/emp1_clientes_anonimizados.csv\"\n",
    "path_produtos_emp1 = \"/home/jovyan/Marketing-Predictivo/CSV/emp1_productos_con_atributos.csv\"\n",
    "path_ordens_emp1 = \"/home/jovyan/Marketing-Predictivo/CSV/emp1_historico_ordenes.csv\"\n",
    "\n",
    "path_clientes_emp2 = \"/home/jovyan/Marketing-Predictivo/CSV/emp2_clientes_anonimizados.csv\"\n",
    "path_produtos_emp2 = \"/home/jovyan/Marketing-Predictivo/CSV/emp2_productos_con_atributos.csv\"\n",
    "path_ordens_emp2 = \"/home/jovyan/Marketing-Predictivo/CSV/emp2_historico_ordenes.csv\"\n",
    "\n"
   ]
  },
  {
   "cell_type": "code",
   "execution_count": 178,
   "id": "753bc6b8",
   "metadata": {},
   "outputs": [
    {
     "name": "stdout",
     "output_type": "stream",
     "text": [
      "root\n",
      " |-- user_id: integer (nullable = true)\n",
      " |-- user_registered: date (nullable = true)\n",
      " |-- user_status: integer (nullable = true)\n",
      " |-- billing_city: string (nullable = true)\n",
      " |-- billing_country: string (nullable = true)\n",
      " |-- billing_state: string (nullable = true)\n",
      "\n",
      "+-------+---------------+-----------+------------+---------------+-------------+\n",
      "|user_id|user_registered|user_status|billing_city|billing_country|billing_state|\n",
      "+-------+---------------+-----------+------------+---------------+-------------+\n",
      "|4      |2024-04-05     |0          |Lima        |PE             |LMA          |\n",
      "|8      |2024-04-12     |0          |AREQUIPA    |PE             |ARE          |\n",
      "|10     |2024-04-12     |0          |LIMA        |PE             |LIM          |\n",
      "|13     |2024-04-15     |0          |Arequipa    |PE             |ARE          |\n",
      "|14     |2024-04-15     |0          |NULL        |NULL           |NULL         |\n",
      "+-------+---------------+-----------+------------+---------------+-------------+\n",
      "only showing top 5 rows\n",
      "\n"
     ]
    }
   ],
   "source": [
    "df_clientes_emp1 = spark.read.csv(path_clientes_emp1, header=True, inferSchema=True, sep=',')\n",
    "df_clientes_emp1.printSchema()\n",
    "df_clientes_emp1.show(5, truncate=False)"
   ]
  },
  {
   "cell_type": "code",
   "execution_count": 179,
   "id": "806d28a1",
   "metadata": {},
   "outputs": [
    {
     "name": "stdout",
     "output_type": "stream",
     "text": [
      "root\n",
      " |-- user_id: integer (nullable = true)\n",
      " |-- user_registered: date (nullable = true)\n",
      " |-- user_status: integer (nullable = true)\n",
      " |-- billing_city: string (nullable = true)\n",
      " |-- billing_country: string (nullable = true)\n",
      " |-- billing_state: string (nullable = true)\n",
      "\n",
      "+-------+---------------+-----------+------------+---------------+-------------+\n",
      "|user_id|user_registered|user_status|billing_city|billing_country|billing_state|\n",
      "+-------+---------------+-----------+------------+---------------+-------------+\n",
      "|3      |2020-07-13     |0          |Peru        |PE             |LMA          |\n",
      "|9      |2020-12-07     |0          |NULL        |NULL           |NULL         |\n",
      "|12     |2020-12-11     |0          |NULL        |NULL           |NULL         |\n",
      "|13     |2020-12-12     |0          |NULL        |NULL           |NULL         |\n",
      "|18     |2020-12-13     |0          |NULL        |NULL           |NULL         |\n",
      "+-------+---------------+-----------+------------+---------------+-------------+\n",
      "only showing top 5 rows\n",
      "\n"
     ]
    }
   ],
   "source": [
    "df_clientes_emp2 = spark.read.csv(path_clientes_emp2, header=True, inferSchema=True, sep=',')\n",
    "df_clientes_emp2.printSchema()\n",
    "df_clientes_emp2.show(5, truncate=False)"
   ]
  },
  {
   "cell_type": "code",
   "execution_count": 180,
   "id": "9279f785",
   "metadata": {},
   "outputs": [
    {
     "name": "stdout",
     "output_type": "stream",
     "text": [
      "root\n",
      " |-- product_id: integer (nullable = true)\n",
      " |-- custom_partnumber: string (nullable = true)\n",
      " |-- post_title: string (nullable = true)\n",
      " |-- post_excerpt: string (nullable = true)\n",
      " |-- _sku: string (nullable = true)\n",
      " |-- _price: float (nullable = true)\n",
      " |-- _regular_price: float (nullable = true)\n",
      " |-- _sale_price: float (nullable = true)\n",
      " |-- total_sales: integer (nullable = true)\n",
      " |-- _backorders: string (nullable = true)\n",
      " |-- _stock: float (nullable = true)\n",
      " |-- _stock_status: string (nullable = true)\n",
      " |-- minimum_allowed_quantity: string (nullable = true)\n",
      " |-- custom_condition: string (nullable = true)\n",
      " |-- custom_eta: string (nullable = true)\n",
      " |-- custom_moq: string (nullable = true)\n",
      " |-- _product_attributes: string (nullable = true)\n",
      " |-- pa_1: string (nullable = true)\n",
      " |-- pa_almacenamiento: string (nullable = true)\n",
      " |-- pa_color: string (nullable = true)\n",
      " |-- pa_condicion: string (nullable = true)\n",
      " |-- pa_disco-duro: string (nullable = true)\n",
      " |-- pa_emmc: string (nullable = true)\n",
      " |-- pa_garantia: string (nullable = true)\n",
      " |-- pa_marca: string (nullable = true)\n",
      " |-- pa_memoria-ram: string (nullable = true)\n",
      " |-- pa_pantalla: string (nullable = true)\n",
      " |-- pa_procesador: string (nullable = true)\n",
      " |-- pa_ram: string (nullable = true)\n",
      " |-- pa_sistema-operativo: string (nullable = true)\n",
      " |-- pa_tarjeta-de-video: string (nullable = true)\n",
      " |-- pa_teclado: string (nullable = true)\n",
      " |-- pa_unidad-solida: string (nullable = true)\n",
      "\n",
      "+----------+-----------------+--------------------+--------------------+-------------------+------+--------------+-----------+-----------+-----------+------+-------------+------------------------+----------------+----------+----------+--------------------+----+-----------------+--------+------------+-------------+-------+-----------+--------+--------------+-------------+-------------+------+--------------------+-------------------+----------+----------------+\n",
      "|product_id|custom_partnumber|          post_title|        post_excerpt|               _sku|_price|_regular_price|_sale_price|total_sales|_backorders|_stock|_stock_status|minimum_allowed_quantity|custom_condition|custom_eta|custom_moq| _product_attributes|pa_1|pa_almacenamiento|pa_color|pa_condicion|pa_disco-duro|pa_emmc|pa_garantia|pa_marca|pa_memoria-ram|  pa_pantalla|pa_procesador|pa_ram|pa_sistema-operativo|pa_tarjeta-de-video|pa_teclado|pa_unidad-solida|\n",
      "+----------+-----------------+--------------------+--------------------+-------------------+------+--------------+-----------+-----------+-----------+------+-------------+------------------------+----------------+----------+----------+--------------------+----+-----------------+--------+------------+-------------+-------+-----------+--------+--------------+-------------+-------------+------+--------------------+-------------------+----------+----------------+\n",
      "|       521|     NX.KJBAA.001|ACER ASPIRE A315-...|AMD RYZEN 3 7320U...|   NX.KJBAA.001-B1S|   0.0|           0.0|       NULL|          0|         no|   0.0|   outofstock|                       1|           Nuevo|     7Dias|         1|a:9:{s:8:\"pa_marc...|NULL|             NULL|Plateado|       Nuevo|         NULL|   NULL|       NULL|    Acer|      8GB DDR4|15.6 Pulgadas|  AMD Ryzen 3|  NULL|          Windows 11|AMD RADEON GRAPHICS|      NULL|           128gb|\n",
      "|       524|     NX.KSJAA.004|ACER ASPIRE 3 A31...|AMD RYZEN 7 5700U...|       NX.KSJAA.004| 385.0|         385.0|       NULL|          7|         no|   0.0|   outofstock|                       1|           Nuevo|    7 DIAS|         1|a:9:{s:8:\"pa_marc...|NULL|             NULL|    Gris|       Nuevo|         NULL|   NULL|       NULL|    Acer|     16GB DDR4|15.6 Pulgadas|  AMD RYZEN 7|  NULL|          Windows 11|AMD RADEON GRAPHICS|      NULL|           512GB|\n",
      "|       528|        MGND3LL/A|APPLE MACBOOK AIR...|APPLE CHIP M1 OCT...|          MGND3LL/A| 650.0|         650.0|       NULL|          5|         no|   0.0|   outofstock|                       1|           Nuevo|    7 DIAS|         1|a:8:{s:8:\"pa_marc...|NULL|             NULL|  Dorado|       Nuevo|         NULL|   NULL|       NULL|   Apple|      8GB DDR4|13.3 Pulgadas|     Apple M1|  NULL|              MAC OS|               NULL|      NULL|           256GB|\n",
      "|       534|  M1603QA-R712512|ASUS VIVOBOOK M16...|AMD RYZEN 7 5800H...|M1603QA-R712512-B1S| 523.0|         523.0|       NULL|          0|         no|   0.0|   outofstock|                       1|           Nuevo|   12 Dias|         1|a:9:{s:8:\"pa_marc...|NULL|             NULL|   Negro|       Nuevo|         NULL|   NULL|       NULL|    Asus|     12GB DDR4|  16 Pulgadas|  AMD RYZEN 7|  NULL|          Windows 11|AMD RADEON GRAPHICS|      NULL|           512GB|\n",
      "|       535|     M1605XA-EB96|ASUS VIVOBOOK M16...|AMD RYZEN 9 7940H...|   M1605XA-EB96-B1S| 738.0|         738.0|       NULL|          0|         no|   0.0|   outofstock|                       1|           Nuevo|   14 DIAS|         1|a:9:{s:8:\"pa_marc...|NULL|             NULL|Plateado|       Nuevo|         NULL|   NULL|       NULL|    Asus|     16GB DDR5|  16 Pulgadas|  AMD RYZEN 9|  NULL|          Windows 11|AMD RADEON GRAPHICS|      NULL|             1TB|\n",
      "|       536|      L210MA-DS02|ASUS VIVOBOOK GO ...|INTEL CELERON N40...|    L210MA-DS02-B1S|   0.0|           0.0|       NULL|          0|         no|   0.0|   outofstock|                       1|           Nuevo|     7Dias|         1|a:8:{s:8:\"pa_marc...|NULL|             NULL|   Negro|       Nuevo|         NULL|   NULL|       NULL|    Asus|      4GB DDR4|11.6 Pulgadas|Intel Celeron|  NULL|          Windows 11|               NULL|      NULL|            64GB|\n",
      "|       537|      L510MA-AS02|ASUS VIVOBOOK GO ...|INTEL CELERON N40...|    L510MA-AS02-B1S| 200.0|         200.0|       NULL|          0|         no| 204.0|      instock|                      10|           Nuevo|   13 Dias|        10|a:10:{s:8:\"pa_mar...|NULL|             64GB|   Negro|       Nuevo|         NULL|   NULL|       NULL|    Asus|      4GB DDR4|15.6 Pulgadas|Intel Celeron|  NULL|          Windows 11| INTEL UHD GRAPHICS|      NULL|            64GB|\n",
      "|       538|     F1504ZA-AS34|ASUS VIVOBOOK 15 ...|INTEL CORE I3 121...|   F1504ZA-AS34-B1S| 339.0|         339.0|       NULL|          0|         no|   0.0|   outofstock|                       1|           Nuevo|     7Dias|         1|a:9:{s:8:\"pa_marc...|NULL|             NULL|    Azul|       Nuevo|         NULL|   NULL|       NULL|    Asus|      8GB DDR4|15.6 Pulgadas|Intel Core i3|  NULL|          Windows 11| INTEL UHD GRAPHICS|      NULL|           128gb|\n",
      "|       539|     F1500EA-WB51|ASUS VIVOBOOK 15 ...|INTEL CORE I5 113...|   F1500EA-WB51-B1S| 398.0|         398.0|       NULL|          0|         no|  59.0|      instock|                      10|           Nuevo|   13 Dias|        10|a:8:{s:8:\"pa_marc...|NULL|             NULL|   Negro|       Nuevo|         NULL|   NULL|       NULL|    Asus|      8GB DDR4|15.6 Pulgadas|Intel Core i5|  NULL|          Windows 11|               NULL|      NULL|           256GB|\n",
      "|       540|   TP3604VA-DS51T|ASUS VIVOBOOK 2-IN-1|INTEL CORE I5 135...| TP3604VA-DS51T-B1S| 617.0|         617.0|       NULL|          3|         no|   0.0|   outofstock|                       1|           Nuevo|   14 DIAS|         1|a:8:{s:8:\"pa_marc...|NULL|             NULL|   Negro|       Nuevo|         NULL|   NULL|       NULL|    Asus|      8GB DDR4|  16 Pulgadas|Intel Core i5|  NULL|          Windows 11|               NULL|      NULL|           512GB|\n",
      "+----------+-----------------+--------------------+--------------------+-------------------+------+--------------+-----------+-----------+-----------+------+-------------+------------------------+----------------+----------+----------+--------------------+----+-----------------+--------+------------+-------------+-------+-----------+--------+--------------+-------------+-------------+------+--------------------+-------------------+----------+----------------+\n",
      "only showing top 10 rows\n",
      "\n"
     ]
    }
   ],
   "source": [
    "df_produtos_emp1 = spark.read.csv(path_produtos_emp1, header=True, inferSchema=False, sep=',', multiLine=True, escape='\"')\n",
    "df_produtos_emp1 = df_produtos_emp1.withColumn(\"product_id\", col(\"product_id\").cast(IntegerType())) \\\n",
    "                       .withColumn(\"_price\", col(\"_price\").cast(FloatType())) \\\n",
    "                       .withColumn(\"_regular_price\", col(\"_regular_price\").cast(FloatType())) \\\n",
    "                       .withColumn(\"_sale_price\", col(\"_sale_price\").cast(FloatType())) \\\n",
    "                       .withColumn(\"total_sales\", col(\"total_sales\").cast(IntegerType())) \\\n",
    "                       .withColumn(\"_stock\", col(\"_stock\").cast(FloatType()))\n",
    "df_produtos_emp1.printSchema()\n",
    "df_produtos_emp1.show(10, truncate=True)"
   ]
  },
  {
   "cell_type": "code",
   "execution_count": 181,
   "id": "8758c01b",
   "metadata": {},
   "outputs": [
    {
     "name": "stdout",
     "output_type": "stream",
     "text": [
      "+----------+-----------------+--------------------+--------------------+-------------------+------+--------------+-----------+-----------+-----------+------+-------------+------------------------+----------------+----------+----------+--------------------+----+-----------------+--------+------------+-------------+-------+-----------+--------+--------------+-------------+-------------+------+--------------------+-------------------+----------+----------------+\n",
      "|product_id|custom_partnumber|          post_title|        post_excerpt|               _sku|_price|_regular_price|_sale_price|total_sales|_backorders|_stock|_stock_status|minimum_allowed_quantity|custom_condition|custom_eta|custom_moq| _product_attributes|pa_1|pa_almacenamiento|pa_color|pa_condicion|pa_disco-duro|pa_emmc|pa_garantia|pa_marca|pa_memoria-ram|  pa_pantalla|pa_procesador|pa_ram|pa_sistema-operativo|pa_tarjeta-de-video|pa_teclado|pa_unidad-solida|\n",
      "+----------+-----------------+--------------------+--------------------+-------------------+------+--------------+-----------+-----------+-----------+------+-------------+------------------------+----------------+----------+----------+--------------------+----+-----------------+--------+------------+-------------+-------+-----------+--------+--------------+-------------+-------------+------+--------------------+-------------------+----------+----------------+\n",
      "|       521|     NX.KJBAA.001|ACER ASPIRE A315-...|AMD RYZEN 3 7320U...|   NX.KJBAA.001-B1S|   0.0|           0.0|       NULL|          0|         no|   0.0|   outofstock|                       1|           Nuevo|     7Dias|         1|a:9:{s:8:\"pa_marc...|NULL|             NULL|Plateado|       Nuevo|         NULL|   NULL|       NULL|    Acer|      8GB DDR4|15.6 Pulgadas|  AMD Ryzen 3|  NULL|          Windows 11|AMD RADEON GRAPHICS|      NULL|           128gb|\n",
      "|       524|     NX.KSJAA.004|ACER ASPIRE 3 A31...|AMD RYZEN 7 5700U...|       NX.KSJAA.004| 385.0|         385.0|       NULL|          7|         no|   0.0|   outofstock|                       1|           Nuevo|    7 DIAS|         1|a:9:{s:8:\"pa_marc...|NULL|             NULL|    Gris|       Nuevo|         NULL|   NULL|       NULL|    Acer|     16GB DDR4|15.6 Pulgadas|  AMD RYZEN 7|  NULL|          Windows 11|AMD RADEON GRAPHICS|      NULL|           512GB|\n",
      "|       528|        MGND3LL/A|APPLE MACBOOK AIR...|APPLE CHIP M1 OCT...|          MGND3LL/A| 650.0|         650.0|       NULL|          5|         no|   0.0|   outofstock|                       1|           Nuevo|    7 DIAS|         1|a:8:{s:8:\"pa_marc...|NULL|             NULL|  Dorado|       Nuevo|         NULL|   NULL|       NULL|   Apple|      8GB DDR4|13.3 Pulgadas|     Apple M1|  NULL|              MAC OS|               NULL|      NULL|           256GB|\n",
      "|       534|  M1603QA-R712512|ASUS VIVOBOOK M16...|AMD RYZEN 7 5800H...|M1603QA-R712512-B1S| 523.0|         523.0|       NULL|          0|         no|   0.0|   outofstock|                       1|           Nuevo|   12 Dias|         1|a:9:{s:8:\"pa_marc...|NULL|             NULL|   Negro|       Nuevo|         NULL|   NULL|       NULL|    Asus|     12GB DDR4|  16 Pulgadas|  AMD RYZEN 7|  NULL|          Windows 11|AMD RADEON GRAPHICS|      NULL|           512GB|\n",
      "|       535|     M1605XA-EB96|ASUS VIVOBOOK M16...|AMD RYZEN 9 7940H...|   M1605XA-EB96-B1S| 738.0|         738.0|       NULL|          0|         no|   0.0|   outofstock|                       1|           Nuevo|   14 DIAS|         1|a:9:{s:8:\"pa_marc...|NULL|             NULL|Plateado|       Nuevo|         NULL|   NULL|       NULL|    Asus|     16GB DDR5|  16 Pulgadas|  AMD RYZEN 9|  NULL|          Windows 11|AMD RADEON GRAPHICS|      NULL|             1TB|\n",
      "|       536|      L210MA-DS02|ASUS VIVOBOOK GO ...|INTEL CELERON N40...|    L210MA-DS02-B1S|   0.0|           0.0|       NULL|          0|         no|   0.0|   outofstock|                       1|           Nuevo|     7Dias|         1|a:8:{s:8:\"pa_marc...|NULL|             NULL|   Negro|       Nuevo|         NULL|   NULL|       NULL|    Asus|      4GB DDR4|11.6 Pulgadas|Intel Celeron|  NULL|          Windows 11|               NULL|      NULL|            64GB|\n",
      "|       537|      L510MA-AS02|ASUS VIVOBOOK GO ...|INTEL CELERON N40...|    L510MA-AS02-B1S| 200.0|         200.0|       NULL|          0|         no| 204.0|      instock|                      10|           Nuevo|   13 Dias|        10|a:10:{s:8:\"pa_mar...|NULL|             64GB|   Negro|       Nuevo|         NULL|   NULL|       NULL|    Asus|      4GB DDR4|15.6 Pulgadas|Intel Celeron|  NULL|          Windows 11| INTEL UHD GRAPHICS|      NULL|            64GB|\n",
      "|       538|     F1504ZA-AS34|ASUS VIVOBOOK 15 ...|INTEL CORE I3 121...|   F1504ZA-AS34-B1S| 339.0|         339.0|       NULL|          0|         no|   0.0|   outofstock|                       1|           Nuevo|     7Dias|         1|a:9:{s:8:\"pa_marc...|NULL|             NULL|    Azul|       Nuevo|         NULL|   NULL|       NULL|    Asus|      8GB DDR4|15.6 Pulgadas|Intel Core i3|  NULL|          Windows 11| INTEL UHD GRAPHICS|      NULL|           128gb|\n",
      "|       539|     F1500EA-WB51|ASUS VIVOBOOK 15 ...|INTEL CORE I5 113...|   F1500EA-WB51-B1S| 398.0|         398.0|       NULL|          0|         no|  59.0|      instock|                      10|           Nuevo|   13 Dias|        10|a:8:{s:8:\"pa_marc...|NULL|             NULL|   Negro|       Nuevo|         NULL|   NULL|       NULL|    Asus|      8GB DDR4|15.6 Pulgadas|Intel Core i5|  NULL|          Windows 11|               NULL|      NULL|           256GB|\n",
      "|       540|   TP3604VA-DS51T|ASUS VIVOBOOK 2-IN-1|INTEL CORE I5 135...| TP3604VA-DS51T-B1S| 617.0|         617.0|       NULL|          3|         no|   0.0|   outofstock|                       1|           Nuevo|   14 DIAS|         1|a:8:{s:8:\"pa_marc...|NULL|             NULL|   Negro|       Nuevo|         NULL|   NULL|       NULL|    Asus|      8GB DDR4|  16 Pulgadas|Intel Core i5|  NULL|          Windows 11|               NULL|      NULL|           512GB|\n",
      "+----------+-----------------+--------------------+--------------------+-------------------+------+--------------+-----------+-----------+-----------+------+-------------+------------------------+----------------+----------+----------+--------------------+----+-----------------+--------+------------+-------------+-------+-----------+--------+--------------+-------------+-------------+------+--------------------+-------------------+----------+----------------+\n",
      "only showing top 10 rows\n",
      "\n"
     ]
    }
   ],
   "source": [
    "df_produtos_emp1.show(10, truncate=True)"
   ]
  },
  {
   "cell_type": "code",
   "execution_count": 182,
   "id": "af6a41f4",
   "metadata": {},
   "outputs": [
    {
     "name": "stdout",
     "output_type": "stream",
     "text": [
      "root\n",
      " |-- product_id: integer (nullable = true)\n",
      " |-- custom_partnumber: string (nullable = true)\n",
      " |-- post_title: string (nullable = true)\n",
      " |-- post_excerpt: string (nullable = true)\n",
      " |-- _sku: string (nullable = true)\n",
      " |-- _price: float (nullable = true)\n",
      " |-- _regular_price: float (nullable = true)\n",
      " |-- total_sales: integer (nullable = true)\n",
      " |-- _backorders: string (nullable = true)\n",
      " |-- _stock: float (nullable = true)\n",
      " |-- _stock_status: string (nullable = true)\n",
      " |-- minimum_allowed_quantity: string (nullable = true)\n",
      " |-- custom_condition: string (nullable = true)\n",
      " |-- custom_eta: string (nullable = true)\n",
      " |-- _product_attributes: string (nullable = true)\n",
      " |-- pa_brand: string (nullable = true)\n",
      " |-- pa_cell-phone-display-size: string (nullable = true)\n",
      " |-- pa_color: string (nullable = true)\n",
      " |-- pa_computer-operating-system: string (nullable = true)\n",
      " |-- pa_computer-processor-type: string (nullable = true)\n",
      " |-- pa_computer-ram-capacity: string (nullable = true)\n",
      " |-- pa_condition: string (nullable = true)\n",
      " |-- pa_graphic-card: string (nullable = true)\n",
      " |-- pa_hard-disk-size: string (nullable = true)\n",
      " |-- pa_keyboard: string (nullable = true)\n",
      " |-- pa_laptop-display-size: string (nullable = true)\n",
      " |-- pa_notes: string (nullable = true)\n",
      " |-- pa_solid-disk-size: string (nullable = true)\n",
      " |-- pa_storage: string (nullable = true)\n",
      " |-- pa_warranty: string (nullable = true)\n",
      "\n",
      "+----------+-----------------+--------------------+--------------------+----------------+------+--------------+-----------+-----------+------+-------------+------------------------+----------------+----------+--------------------+--------+--------------------------+--------+----------------------------+--------------------------+------------------------+------------+---------------+-----------------+-----------+----------------------+--------+------------------+----------+---------------+\n",
      "|product_id|custom_partnumber|          post_title|        post_excerpt|            _sku|_price|_regular_price|total_sales|_backorders|_stock|_stock_status|minimum_allowed_quantity|custom_condition|custom_eta| _product_attributes|pa_brand|pa_cell-phone-display-size|pa_color|pa_computer-operating-system|pa_computer-processor-type|pa_computer-ram-capacity|pa_condition|pa_graphic-card|pa_hard-disk-size|pa_keyboard|pa_laptop-display-size|pa_notes|pa_solid-disk-size|pa_storage|    pa_warranty|\n",
      "+----------+-----------------+--------------------+--------------------+----------------+------+--------------+-----------+-----------+------+-------------+------------------------+----------------+----------+--------------------+--------+--------------------------+--------+----------------------------+--------------------------+------------------------+------------+---------------+-----------------+-----------+----------------------+--------+------------------+----------+---------------+\n",
      "|       353|    TUF506IU-ES74|       TUF506IU-ES74|Procesador AMD Ry...|   TUF506IU-ES74|3000.0|        3000.0|          0|         no|   0.0|   outofstock|                    NULL|             New|  In Stock|a:2:{s:8:\"pa_bran...|    Asus|                      NULL|    NULL|                        NULL|               AMD Ryzen 7|                    NULL|        NULL|           NULL|             NULL|       NULL|                  NULL|    NULL|              NULL|      NULL|           NULL|\n",
      "|      1049|     2Z155UAR#ABA|      HP 15-DW2025CL|INTEL CORE I5 103...|  2Z155UAR#ABA-R| 519.0|         519.0|          1|         no|   0.0|   outofstock|                       0|     Refurbished|         0|a:8:{s:8:\"pa_bran...|      HP|               15.6 Inches|  Silver|                  Windows 10|             Intel Core i5|               12GB DDR4| Refurbished|           NULL|              1TB|       NULL|                  NULL|    NULL|              NULL|      NULL|           NULL|\n",
      "|      1050|     7UQ84UAR#ABA|HP PAVILION X360 ...|INTEL CORE I3 101...|  7UQ84UAR#ABA-R| 399.0|         399.0|          0|         no|   0.0|   outofstock|                       0|     Refurbished|         0|a:8:{s:8:\"pa_bran...|      HP|                 14 Inches|  Silver|                  Windows 10|             Intel Core i3|                8GB DDR4| Refurbished|           NULL|             NULL|       NULL|                  NULL|    NULL|             128GB|      NULL|           NULL|\n",
      "|      1292|   JB-BOX-31006WH|       JABEES JB-BOX|MULTI-PURPOSE STE...|  JB-BOX-31006WH|   2.0|           2.0|         41|         no|   0.0|   outofstock|                       0|             New|         0|a:4:{s:8:\"pa_bran...|  JABEES|                      NULL|   White|                        NULL|                      NULL|                    NULL|         New|           NULL|             NULL|       NULL|                  NULL|    NULL|              NULL|      NULL|1 Year Warranty|\n",
      "|      1831|       B07YNLBS7R|AMAZON FIRE TV ST...|STREAM MOVIES DUA...|      B07YNLBS7R|  23.0|          23.0|          4|         no|   0.0|   outofstock|                       0|             New|         0|a:4:{s:8:\"pa_bran...|  Amazon|                      NULL|   Black|                        NULL|                      NULL|                    NULL|         New|           NULL|             NULL|       NULL|                  NULL|    NULL|              NULL|      NULL|1 Year Warranty|\n",
      "|      2017|     NH.Q7YAA.004|ACER PREDATOR HEL...|INTEL CORE I7 107...|    NH.Q7YAA.004|1299.0|        1299.0|          0|         no|   0.0|   outofstock|                       0|             New|         0|a:9:{s:8:\"pa_bran...|    Acer|                      NULL|   Black|                  Windows 10|             Intel Core i7|               16GB DDR4|         New|           NULL|             NULL|       NULL|           15.6 Inches|    NULL|             512GB|      NULL|         1 Year|\n",
      "|      2213|      225L5UA#ABA|HP PAVILION 16-A0...|INTEL CORE I7 107...|     225L5UA#ABA| 860.0|         860.0|          3|         no|   0.0|   outofstock|                       0|             New|         3|a:8:{s:8:\"pa_bran...|      HP|               16.1 Inches|    NULL|                  Windows 10|             Intel Core i7|                8GB DDR4|         New|           NULL|             NULL|       NULL|                  NULL|    NULL|             256GB|      NULL|1 Year Warranty|\n",
      "|      2220|     NH.Q96AA.003|ACER NITRO 5 AN51...|INTEL CORE I7 975...|NH.Q96AA.003-R-A| 800.0|         800.0|         13|         no|   0.0|   outofstock|                       0|     Refurbished|         0|a:8:{s:8:\"pa_bran...|    Acer|               15.6 Inches|    NULL|                  Windows 10|             Intel Core i7|               16GB DDR4| Refurbished|           NULL|             NULL|       NULL|                  NULL|    NULL|             256GB|      NULL|        90 Days|\n",
      "|      2305|     8QB48UAR#ABL|      HP 15-EF0008CA|AMD RYZEN 3 3200U...|  8QB48UAR#ABL-R| 319.0|         319.0|          0|         no|   0.0|   outofstock|                       0|     Refurbished|         0|a:8:{s:8:\"pa_bran...|      HP|               15.6 Inches|  Silver|                  Windows 10|               AMD Ryzen 3|                8GB DDR4| Refurbished|           NULL|             NULL|       NULL|                  NULL|    NULL|             128GB|      NULL|           NULL|\n",
      "|      2530|       B07TMJ1R3X|AMAZON FIRE HD 8 ...|MEDIATEK MT8168 1...|       FIRE HD 8|  65.0|          65.0|         16|         no|   0.0|   outofstock|                       0|             New|         0|a:5:{s:8:\"pa_bran...|  Amazon|                      NULL|   Black|                        NULL|                      NULL|                    NULL|         New|           NULL|             NULL|       NULL|                  NULL|    NULL|              NULL|      32GB|         1 Year|\n",
      "+----------+-----------------+--------------------+--------------------+----------------+------+--------------+-----------+-----------+------+-------------+------------------------+----------------+----------+--------------------+--------+--------------------------+--------+----------------------------+--------------------------+------------------------+------------+---------------+-----------------+-----------+----------------------+--------+------------------+----------+---------------+\n",
      "only showing top 10 rows\n",
      "\n"
     ]
    }
   ],
   "source": [
    "df_produtos_emp2 = spark.read.csv(path_produtos_emp2, header=True, inferSchema=False, sep=',', multiLine=True, escape='\"')\n",
    "df_produtos_emp2 = df_produtos_emp2.withColumn(\"product_id\", col(\"product_id\").cast(IntegerType())) \\\n",
    "                       .withColumn(\"_price\", col(\"_price\").cast(FloatType())) \\\n",
    "                       .withColumn(\"_regular_price\", col(\"_regular_price\").cast(FloatType())) \\\n",
    "                       .withColumn(\"total_sales\", col(\"total_sales\").cast(IntegerType())) \\\n",
    "                       .withColumn(\"_stock\", col(\"_stock\").cast(FloatType()))\n",
    "df_produtos_emp2.printSchema()\n",
    "df_produtos_emp2.show(10, truncate=True)"
   ]
  },
  {
   "cell_type": "code",
   "execution_count": 183,
   "id": "527958ce",
   "metadata": {},
   "outputs": [
    {
     "name": "stdout",
     "output_type": "stream",
     "text": [
      "+----------+-----------------+--------------------+--------------------+----------------+------+--------------+-----------+-----------+------+-------------+------------------------+----------------+----------+--------------------+--------+--------------------------+--------+----------------------------+--------------------------+------------------------+------------+---------------+-----------------+-----------+----------------------+--------+------------------+----------+---------------+\n",
      "|product_id|custom_partnumber|          post_title|        post_excerpt|            _sku|_price|_regular_price|total_sales|_backorders|_stock|_stock_status|minimum_allowed_quantity|custom_condition|custom_eta| _product_attributes|pa_brand|pa_cell-phone-display-size|pa_color|pa_computer-operating-system|pa_computer-processor-type|pa_computer-ram-capacity|pa_condition|pa_graphic-card|pa_hard-disk-size|pa_keyboard|pa_laptop-display-size|pa_notes|pa_solid-disk-size|pa_storage|    pa_warranty|\n",
      "+----------+-----------------+--------------------+--------------------+----------------+------+--------------+-----------+-----------+------+-------------+------------------------+----------------+----------+--------------------+--------+--------------------------+--------+----------------------------+--------------------------+------------------------+------------+---------------+-----------------+-----------+----------------------+--------+------------------+----------+---------------+\n",
      "|       353|    TUF506IU-ES74|       TUF506IU-ES74|Procesador AMD Ry...|   TUF506IU-ES74|3000.0|        3000.0|          0|         no|   0.0|   outofstock|                    NULL|             New|  In Stock|a:2:{s:8:\"pa_bran...|    Asus|                      NULL|    NULL|                        NULL|               AMD Ryzen 7|                    NULL|        NULL|           NULL|             NULL|       NULL|                  NULL|    NULL|              NULL|      NULL|           NULL|\n",
      "|      1049|     2Z155UAR#ABA|      HP 15-DW2025CL|INTEL CORE I5 103...|  2Z155UAR#ABA-R| 519.0|         519.0|          1|         no|   0.0|   outofstock|                       0|     Refurbished|         0|a:8:{s:8:\"pa_bran...|      HP|               15.6 Inches|  Silver|                  Windows 10|             Intel Core i5|               12GB DDR4| Refurbished|           NULL|              1TB|       NULL|                  NULL|    NULL|              NULL|      NULL|           NULL|\n",
      "|      1050|     7UQ84UAR#ABA|HP PAVILION X360 ...|INTEL CORE I3 101...|  7UQ84UAR#ABA-R| 399.0|         399.0|          0|         no|   0.0|   outofstock|                       0|     Refurbished|         0|a:8:{s:8:\"pa_bran...|      HP|                 14 Inches|  Silver|                  Windows 10|             Intel Core i3|                8GB DDR4| Refurbished|           NULL|             NULL|       NULL|                  NULL|    NULL|             128GB|      NULL|           NULL|\n",
      "|      1292|   JB-BOX-31006WH|       JABEES JB-BOX|MULTI-PURPOSE STE...|  JB-BOX-31006WH|   2.0|           2.0|         41|         no|   0.0|   outofstock|                       0|             New|         0|a:4:{s:8:\"pa_bran...|  JABEES|                      NULL|   White|                        NULL|                      NULL|                    NULL|         New|           NULL|             NULL|       NULL|                  NULL|    NULL|              NULL|      NULL|1 Year Warranty|\n",
      "|      1831|       B07YNLBS7R|AMAZON FIRE TV ST...|STREAM MOVIES DUA...|      B07YNLBS7R|  23.0|          23.0|          4|         no|   0.0|   outofstock|                       0|             New|         0|a:4:{s:8:\"pa_bran...|  Amazon|                      NULL|   Black|                        NULL|                      NULL|                    NULL|         New|           NULL|             NULL|       NULL|                  NULL|    NULL|              NULL|      NULL|1 Year Warranty|\n",
      "|      2017|     NH.Q7YAA.004|ACER PREDATOR HEL...|INTEL CORE I7 107...|    NH.Q7YAA.004|1299.0|        1299.0|          0|         no|   0.0|   outofstock|                       0|             New|         0|a:9:{s:8:\"pa_bran...|    Acer|                      NULL|   Black|                  Windows 10|             Intel Core i7|               16GB DDR4|         New|           NULL|             NULL|       NULL|           15.6 Inches|    NULL|             512GB|      NULL|         1 Year|\n",
      "|      2213|      225L5UA#ABA|HP PAVILION 16-A0...|INTEL CORE I7 107...|     225L5UA#ABA| 860.0|         860.0|          3|         no|   0.0|   outofstock|                       0|             New|         3|a:8:{s:8:\"pa_bran...|      HP|               16.1 Inches|    NULL|                  Windows 10|             Intel Core i7|                8GB DDR4|         New|           NULL|             NULL|       NULL|                  NULL|    NULL|             256GB|      NULL|1 Year Warranty|\n",
      "|      2220|     NH.Q96AA.003|ACER NITRO 5 AN51...|INTEL CORE I7 975...|NH.Q96AA.003-R-A| 800.0|         800.0|         13|         no|   0.0|   outofstock|                       0|     Refurbished|         0|a:8:{s:8:\"pa_bran...|    Acer|               15.6 Inches|    NULL|                  Windows 10|             Intel Core i7|               16GB DDR4| Refurbished|           NULL|             NULL|       NULL|                  NULL|    NULL|             256GB|      NULL|        90 Days|\n",
      "|      2305|     8QB48UAR#ABL|      HP 15-EF0008CA|AMD RYZEN 3 3200U...|  8QB48UAR#ABL-R| 319.0|         319.0|          0|         no|   0.0|   outofstock|                       0|     Refurbished|         0|a:8:{s:8:\"pa_bran...|      HP|               15.6 Inches|  Silver|                  Windows 10|               AMD Ryzen 3|                8GB DDR4| Refurbished|           NULL|             NULL|       NULL|                  NULL|    NULL|             128GB|      NULL|           NULL|\n",
      "|      2530|       B07TMJ1R3X|AMAZON FIRE HD 8 ...|MEDIATEK MT8168 1...|       FIRE HD 8|  65.0|          65.0|         16|         no|   0.0|   outofstock|                       0|             New|         0|a:5:{s:8:\"pa_bran...|  Amazon|                      NULL|   Black|                        NULL|                      NULL|                    NULL|         New|           NULL|             NULL|       NULL|                  NULL|    NULL|              NULL|      32GB|         1 Year|\n",
      "+----------+-----------------+--------------------+--------------------+----------------+------+--------------+-----------+-----------+------+-------------+------------------------+----------------+----------+--------------------+--------+--------------------------+--------+----------------------------+--------------------------+------------------------+------------+---------------+-----------------+-----------+----------------------+--------+------------------+----------+---------------+\n",
      "only showing top 10 rows\n",
      "\n"
     ]
    }
   ],
   "source": [
    "df_produtos_emp2.show(10, truncate=True)"
   ]
  },
  {
   "cell_type": "code",
   "execution_count": 184,
   "id": "360e8fb7",
   "metadata": {},
   "outputs": [
    {
     "name": "stdout",
     "output_type": "stream",
     "text": [
      "root\n",
      " |-- order_id: integer (nullable = true)\n",
      " |-- order_date: date (nullable = true)\n",
      " |-- order_device_type: string (nullable = true)\n",
      " |-- order_session_visited_pages: integer (nullable = true)\n",
      " |-- order_session_start_time: date (nullable = true)\n",
      " |-- order_traffic_source_type: string (nullable = true)\n",
      " |-- order_utm_source_campaign: string (nullable = true)\n",
      " |-- product_id: integer (nullable = true)\n",
      " |-- customer_id: integer (nullable = true)\n",
      " |-- product_qty: integer (nullable = true)\n",
      " |-- product_net_revenue: double (nullable = true)\n",
      " |-- tax_amount: double (nullable = true)\n",
      " |-- product_gross_revenue: double (nullable = true)\n",
      " |-- status: string (nullable = true)\n",
      "\n",
      "+--------+----------+-----------------+---------------------------+------------------------+-------------------------+-------------------------+----------+-----------+-----------+-------------------+----------+---------------------+------------+\n",
      "|order_id|order_date|order_device_type|order_session_visited_pages|order_session_start_time|order_traffic_source_type|order_utm_source_campaign|product_id|customer_id|product_qty|product_net_revenue|tax_amount|product_gross_revenue|status      |\n",
      "+--------+----------+-----------------+---------------------------+------------------------+-------------------------+-------------------------+----------+-----------+-----------+-------------------+----------+---------------------+------------+\n",
      "|1918    |2024-04-16|Mobile           |98                         |2024-04-17              |referral                 |com.google.android.gm    |540       |29         |3          |1821.0             |327.78    |2148.78              |wc-completed|\n",
      "|2092    |2024-04-18|Desktop          |3                          |2024-04-18              |typein                   |(direct)                 |2082      |26         |5          |3090.0             |556.2     |3646.2               |wc-completed|\n",
      "|2289    |2024-04-18|Desktop          |10                         |2024-04-18              |typein                   |(direct)                 |2081      |72         |1          |1427.0             |256.86    |1683.86              |wc-completed|\n",
      "|2319    |2024-04-19|Desktop          |8                          |2024-04-19              |typein                   |(direct)                 |2221      |29         |2          |1582.0             |284.76    |1866.76              |wc-completed|\n",
      "|2392    |2024-04-19|Desktop          |20                         |2024-04-18              |typein                   |(direct)                 |2221      |26         |4          |3164.0             |569.52    |3733.52              |wc-completed|\n",
      "+--------+----------+-----------------+---------------------------+------------------------+-------------------------+-------------------------+----------+-----------+-----------+-------------------+----------+---------------------+------------+\n",
      "only showing top 5 rows\n",
      "\n"
     ]
    }
   ],
   "source": [
    "df_ordens_emp1 = spark.read.csv(path_ordens_emp1, header=True, inferSchema=True, sep=',')\n",
    "df_ordens_emp1.printSchema()\n",
    "df_ordens_emp1.show(5, truncate=False)"
   ]
  },
  {
   "cell_type": "code",
   "execution_count": 185,
   "id": "0d0f21d0",
   "metadata": {},
   "outputs": [
    {
     "name": "stdout",
     "output_type": "stream",
     "text": [
      "root\n",
      " |-- order_id: integer (nullable = true)\n",
      " |-- order_date: date (nullable = true)\n",
      " |-- product_id: integer (nullable = true)\n",
      " |-- customer_id: integer (nullable = true)\n",
      " |-- product_qty: integer (nullable = true)\n",
      " |-- product_net_revenue: string (nullable = true)\n",
      " |-- tax_amount: integer (nullable = true)\n",
      " |-- product_gross_revenue: string (nullable = true)\n",
      " |-- status: string (nullable = true)\n",
      "\n",
      "+--------+----------+----------+-----------+-----------+-------------------+----------+---------------------+-------------+\n",
      "|order_id|order_date|product_id|customer_id|product_qty|product_net_revenue|tax_amount|product_gross_revenue|status       |\n",
      "+--------+----------+----------+-----------+-----------+-------------------+----------+---------------------+-------------+\n",
      "|3065    |2021-03-01|3055      |1          |1          |599                |0         |599                  |wc-completed |\n",
      "|3066    |2021-03-01|3055      |1          |1          |599                |0         |599                  |wc-completed |\n",
      "|3070    |2021-03-02|3055      |1          |1          |599                |0         |599                  |wc-processing|\n",
      "|3071    |2021-03-02|3055      |1          |1          |599                |0         |599                  |wc-processing|\n",
      "|3072    |2021-03-02|3055      |1          |1          |599                |0         |599                  |wc-processing|\n",
      "+--------+----------+----------+-----------+-----------+-------------------+----------+---------------------+-------------+\n",
      "only showing top 5 rows\n",
      "\n"
     ]
    }
   ],
   "source": [
    "df_ordens_emp2 = spark.read.csv(path_ordens_emp2, header=True, inferSchema=True, sep=',')\n",
    "df_ordens_emp2.printSchema()\n",
    "df_ordens_emp2.show(5, truncate=False)"
   ]
  },
  {
   "cell_type": "code",
   "execution_count": 186,
   "id": "144f773d",
   "metadata": {},
   "outputs": [
    {
     "data": {
      "text/plain": [
       "['order_id',\n",
       " 'order_date',\n",
       " 'product_id',\n",
       " 'customer_id',\n",
       " 'product_qty',\n",
       " 'product_net_revenue',\n",
       " 'tax_amount',\n",
       " 'product_gross_revenue',\n",
       " 'status']"
      ]
     },
     "execution_count": 186,
     "metadata": {},
     "output_type": "execute_result"
    }
   ],
   "source": [
    "df_ordens_emp2.columns"
   ]
  },
  {
   "cell_type": "code",
   "execution_count": 187,
   "id": "6a790ea8",
   "metadata": {},
   "outputs": [],
   "source": [
    "#Igualamos las columnas de los datasets\n",
    "\n",
    "df_ordens_emp1 = df_ordens_emp1.select('order_id',\n",
    " 'order_date',\n",
    " 'product_id',\n",
    " 'customer_id',\n",
    " 'product_qty',\n",
    " 'product_net_revenue',\n",
    " 'tax_amount',\n",
    " 'product_gross_revenue',\n",
    " 'status')"
   ]
  },
  {
   "cell_type": "markdown",
   "id": "e9c2fb2d",
   "metadata": {},
   "source": [
    "3. Limpieza y pré procesamiento de los datos"
   ]
  },
  {
   "cell_type": "markdown",
   "id": "f8f5aad3",
   "metadata": {},
   "source": [
    "3.1 Dataset Clientes"
   ]
  },
  {
   "cell_type": "code",
   "execution_count": 188,
   "id": "cc080a2f",
   "metadata": {},
   "outputs": [
    {
     "ename": "AnalysisException",
     "evalue": "[DATATYPE_MISMATCH.UNEXPECTED_INPUT_TYPE] Cannot resolve \"isnan(user_registered)\" due to data type mismatch: Parameter 1 requires the (\"DOUBLE\" or \"FLOAT\") type, however \"user_registered\" has the type \"DATE\".;\n'Aggregate [count(CASE WHEN (isnan(cast(user_id#62852 as double)) OR isnull(user_id#62852)) THEN user_id END) AS user_id#64287L, count(CASE WHEN (isnan(user_registered#62853) OR isnull(user_registered#62853)) THEN user_registered END) AS user_registered#64289, count(CASE WHEN (isnan(cast(user_status#62854 as double)) OR isnull(user_status#62854)) THEN user_status END) AS user_status#64291L, count(CASE WHEN (isnan(cast(billing_city#62855 as double)) OR isnull(billing_city#62855)) THEN billing_city END) AS billing_city#64293L, count(CASE WHEN (isnan(cast(billing_country#62856 as double)) OR isnull(billing_country#62856)) THEN billing_country END) AS billing_country#64295L, count(CASE WHEN (isnan(cast(billing_state#62857 as double)) OR isnull(billing_state#62857)) THEN billing_state END) AS billing_state#64297L]\n+- Relation [user_id#62852,user_registered#62853,user_status#62854,billing_city#62855,billing_country#62856,billing_state#62857] csv\n",
     "output_type": "error",
     "traceback": [
      "\u001b[0;31m---------------------------------------------------------------------------\u001b[0m",
      "\u001b[0;31mAnalysisException\u001b[0m                         Traceback (most recent call last)",
      "Cell \u001b[0;32mIn[188], line 2\u001b[0m\n\u001b[1;32m      1\u001b[0m \u001b[38;5;66;03m# Verificar nulos\u001b[39;00m\n\u001b[0;32m----> 2\u001b[0m \u001b[43mdf_clientes_emp1\u001b[49m\u001b[38;5;241;43m.\u001b[39;49m\u001b[43mselect\u001b[49m\u001b[43m(\u001b[49m\u001b[43m[\u001b[49m\u001b[43mcount\u001b[49m\u001b[43m(\u001b[49m\u001b[43mwhen\u001b[49m\u001b[43m(\u001b[49m\u001b[43misnan\u001b[49m\u001b[43m(\u001b[49m\u001b[43mc\u001b[49m\u001b[43m)\u001b[49m\u001b[43m \u001b[49m\u001b[38;5;241;43m|\u001b[39;49m\u001b[43m \u001b[49m\u001b[43mcol\u001b[49m\u001b[43m(\u001b[49m\u001b[43mc\u001b[49m\u001b[43m)\u001b[49m\u001b[38;5;241;43m.\u001b[39;49m\u001b[43misNull\u001b[49m\u001b[43m(\u001b[49m\u001b[43m)\u001b[49m\u001b[43m,\u001b[49m\u001b[43m \u001b[49m\u001b[43mc\u001b[49m\u001b[43m)\u001b[49m\u001b[43m)\u001b[49m\u001b[38;5;241;43m.\u001b[39;49m\u001b[43malias\u001b[49m\u001b[43m(\u001b[49m\u001b[43mc\u001b[49m\u001b[43m)\u001b[49m\u001b[43m \u001b[49m\u001b[38;5;28;43;01mfor\u001b[39;49;00m\u001b[43m \u001b[49m\u001b[43mc\u001b[49m\u001b[43m \u001b[49m\u001b[38;5;129;43;01min\u001b[39;49;00m\u001b[43m \u001b[49m\u001b[43mdf_clientes_emp1\u001b[49m\u001b[38;5;241;43m.\u001b[39;49m\u001b[43mcolumns\u001b[49m\u001b[43m]\u001b[49m\u001b[43m)\u001b[49m\u001b[38;5;241m.\u001b[39mshow()\n",
      "File \u001b[0;32m/usr/local/spark/python/pyspark/sql/dataframe.py:3223\u001b[0m, in \u001b[0;36mDataFrame.select\u001b[0;34m(self, *cols)\u001b[0m\n\u001b[1;32m   3178\u001b[0m \u001b[38;5;28;01mdef\u001b[39;00m \u001b[38;5;21mselect\u001b[39m(\u001b[38;5;28mself\u001b[39m, \u001b[38;5;241m*\u001b[39mcols: \u001b[38;5;124m\"\u001b[39m\u001b[38;5;124mColumnOrName\u001b[39m\u001b[38;5;124m\"\u001b[39m) \u001b[38;5;241m-\u001b[39m\u001b[38;5;241m>\u001b[39m \u001b[38;5;124m\"\u001b[39m\u001b[38;5;124mDataFrame\u001b[39m\u001b[38;5;124m\"\u001b[39m:  \u001b[38;5;66;03m# type: ignore[misc]\u001b[39;00m\n\u001b[1;32m   3179\u001b[0m \u001b[38;5;250m    \u001b[39m\u001b[38;5;124;03m\"\"\"Projects a set of expressions and returns a new :class:`DataFrame`.\u001b[39;00m\n\u001b[1;32m   3180\u001b[0m \n\u001b[1;32m   3181\u001b[0m \u001b[38;5;124;03m    .. versionadded:: 1.3.0\u001b[39;00m\n\u001b[0;32m   (...)\u001b[0m\n\u001b[1;32m   3221\u001b[0m \u001b[38;5;124;03m    +-----+---+\u001b[39;00m\n\u001b[1;32m   3222\u001b[0m \u001b[38;5;124;03m    \"\"\"\u001b[39;00m\n\u001b[0;32m-> 3223\u001b[0m     jdf \u001b[38;5;241m=\u001b[39m \u001b[38;5;28;43mself\u001b[39;49m\u001b[38;5;241;43m.\u001b[39;49m\u001b[43m_jdf\u001b[49m\u001b[38;5;241;43m.\u001b[39;49m\u001b[43mselect\u001b[49m\u001b[43m(\u001b[49m\u001b[38;5;28;43mself\u001b[39;49m\u001b[38;5;241;43m.\u001b[39;49m\u001b[43m_jcols\u001b[49m\u001b[43m(\u001b[49m\u001b[38;5;241;43m*\u001b[39;49m\u001b[43mcols\u001b[49m\u001b[43m)\u001b[49m\u001b[43m)\u001b[49m\n\u001b[1;32m   3224\u001b[0m     \u001b[38;5;28;01mreturn\u001b[39;00m DataFrame(jdf, \u001b[38;5;28mself\u001b[39m\u001b[38;5;241m.\u001b[39msparkSession)\n",
      "File \u001b[0;32m/usr/local/spark/python/lib/py4j-0.10.9.7-src.zip/py4j/java_gateway.py:1322\u001b[0m, in \u001b[0;36mJavaMember.__call__\u001b[0;34m(self, *args)\u001b[0m\n\u001b[1;32m   1316\u001b[0m command \u001b[38;5;241m=\u001b[39m proto\u001b[38;5;241m.\u001b[39mCALL_COMMAND_NAME \u001b[38;5;241m+\u001b[39m\\\n\u001b[1;32m   1317\u001b[0m     \u001b[38;5;28mself\u001b[39m\u001b[38;5;241m.\u001b[39mcommand_header \u001b[38;5;241m+\u001b[39m\\\n\u001b[1;32m   1318\u001b[0m     args_command \u001b[38;5;241m+\u001b[39m\\\n\u001b[1;32m   1319\u001b[0m     proto\u001b[38;5;241m.\u001b[39mEND_COMMAND_PART\n\u001b[1;32m   1321\u001b[0m answer \u001b[38;5;241m=\u001b[39m \u001b[38;5;28mself\u001b[39m\u001b[38;5;241m.\u001b[39mgateway_client\u001b[38;5;241m.\u001b[39msend_command(command)\n\u001b[0;32m-> 1322\u001b[0m return_value \u001b[38;5;241m=\u001b[39m \u001b[43mget_return_value\u001b[49m\u001b[43m(\u001b[49m\n\u001b[1;32m   1323\u001b[0m \u001b[43m    \u001b[49m\u001b[43manswer\u001b[49m\u001b[43m,\u001b[49m\u001b[43m \u001b[49m\u001b[38;5;28;43mself\u001b[39;49m\u001b[38;5;241;43m.\u001b[39;49m\u001b[43mgateway_client\u001b[49m\u001b[43m,\u001b[49m\u001b[43m \u001b[49m\u001b[38;5;28;43mself\u001b[39;49m\u001b[38;5;241;43m.\u001b[39;49m\u001b[43mtarget_id\u001b[49m\u001b[43m,\u001b[49m\u001b[43m \u001b[49m\u001b[38;5;28;43mself\u001b[39;49m\u001b[38;5;241;43m.\u001b[39;49m\u001b[43mname\u001b[49m\u001b[43m)\u001b[49m\n\u001b[1;32m   1325\u001b[0m \u001b[38;5;28;01mfor\u001b[39;00m temp_arg \u001b[38;5;129;01min\u001b[39;00m temp_args:\n\u001b[1;32m   1326\u001b[0m     \u001b[38;5;28;01mif\u001b[39;00m \u001b[38;5;28mhasattr\u001b[39m(temp_arg, \u001b[38;5;124m\"\u001b[39m\u001b[38;5;124m_detach\u001b[39m\u001b[38;5;124m\"\u001b[39m):\n",
      "File \u001b[0;32m/usr/local/spark/python/pyspark/errors/exceptions/captured.py:185\u001b[0m, in \u001b[0;36mcapture_sql_exception.<locals>.deco\u001b[0;34m(*a, **kw)\u001b[0m\n\u001b[1;32m    181\u001b[0m converted \u001b[38;5;241m=\u001b[39m convert_exception(e\u001b[38;5;241m.\u001b[39mjava_exception)\n\u001b[1;32m    182\u001b[0m \u001b[38;5;28;01mif\u001b[39;00m \u001b[38;5;129;01mnot\u001b[39;00m \u001b[38;5;28misinstance\u001b[39m(converted, UnknownException):\n\u001b[1;32m    183\u001b[0m     \u001b[38;5;66;03m# Hide where the exception came from that shows a non-Pythonic\u001b[39;00m\n\u001b[1;32m    184\u001b[0m     \u001b[38;5;66;03m# JVM exception message.\u001b[39;00m\n\u001b[0;32m--> 185\u001b[0m     \u001b[38;5;28;01mraise\u001b[39;00m converted \u001b[38;5;28;01mfrom\u001b[39;00m \u001b[38;5;28;01mNone\u001b[39;00m\n\u001b[1;32m    186\u001b[0m \u001b[38;5;28;01melse\u001b[39;00m:\n\u001b[1;32m    187\u001b[0m     \u001b[38;5;28;01mraise\u001b[39;00m\n",
      "\u001b[0;31mAnalysisException\u001b[0m: [DATATYPE_MISMATCH.UNEXPECTED_INPUT_TYPE] Cannot resolve \"isnan(user_registered)\" due to data type mismatch: Parameter 1 requires the (\"DOUBLE\" or \"FLOAT\") type, however \"user_registered\" has the type \"DATE\".;\n'Aggregate [count(CASE WHEN (isnan(cast(user_id#62852 as double)) OR isnull(user_id#62852)) THEN user_id END) AS user_id#64287L, count(CASE WHEN (isnan(user_registered#62853) OR isnull(user_registered#62853)) THEN user_registered END) AS user_registered#64289, count(CASE WHEN (isnan(cast(user_status#62854 as double)) OR isnull(user_status#62854)) THEN user_status END) AS user_status#64291L, count(CASE WHEN (isnan(cast(billing_city#62855 as double)) OR isnull(billing_city#62855)) THEN billing_city END) AS billing_city#64293L, count(CASE WHEN (isnan(cast(billing_country#62856 as double)) OR isnull(billing_country#62856)) THEN billing_country END) AS billing_country#64295L, count(CASE WHEN (isnan(cast(billing_state#62857 as double)) OR isnull(billing_state#62857)) THEN billing_state END) AS billing_state#64297L]\n+- Relation [user_id#62852,user_registered#62853,user_status#62854,billing_city#62855,billing_country#62856,billing_state#62857] csv\n"
     ]
    }
   ],
   "source": [
    "# Verificar nulos\n",
    "df_clientes_emp1.select([count(when(isnan(c) | col(c).isNull(), c)).alias(c) for c in df_clientes_emp1.columns]).show()"
   ]
  },
  {
   "cell_type": "code",
   "execution_count": null,
   "id": "02d8f9f2",
   "metadata": {},
   "outputs": [
    {
     "name": "stdout",
     "output_type": "stream",
     "text": [
      "+-------+---------------+-----------+------------+---------------+-------------+\n",
      "|user_id|user_registered|user_status|billing_city|billing_country|billing_state|\n",
      "+-------+---------------+-----------+------------+---------------+-------------+\n",
      "|      0|              0|          0|         248|            222|          361|\n",
      "+-------+---------------+-----------+------------+---------------+-------------+\n",
      "\n"
     ]
    }
   ],
   "source": [
    "# Verificar nulos\n",
    "df_clientes_emp2.select([count(when(isnan(c) | col(c).isNull(), c)).alias(c) for c in df_clientes_emp2.columns]).show()"
   ]
  },
  {
   "cell_type": "code",
   "execution_count": null,
   "id": "cf3a4d91",
   "metadata": {},
   "outputs": [
    {
     "name": "stdout",
     "output_type": "stream",
     "text": [
      "Registros Empresa 1 antes de remover duplicatas (clientes): 253\n",
      "Registros Empresa 1 despues de remover duplicatas (clientes): 253\n",
      "Registros Empresa 2 antes de remover duplicatas (clientes): 2243\n",
      "Registros Empresa 2 despues de remover duplicatas (clientes): 2243\n"
     ]
    }
   ],
   "source": [
    "# Remover duplicatas basadas en el user_id\n",
    "print(f\"Registros Empresa 1 antes de remover duplicatas (clientes): {df_clientes_emp1.count()}\")\n",
    "df_clientes_emp1 = df_clientes_emp1.dropDuplicates(['user_id'])\n",
    "print(f\"Registros Empresa 1 despues de remover duplicatas (clientes): {df_clientes_emp1.count()}\")\n",
    "\n",
    "print(f\"Registros Empresa 2 antes de remover duplicatas (clientes): {df_clientes_emp2.count()}\")\n",
    "df_clientes_emp2 = df_clientes_emp2.dropDuplicates(['user_id'])\n",
    "print(f\"Registros Empresa 2 despues de remover duplicatas (clientes): {df_clientes_emp2.count()}\")"
   ]
  },
  {
   "cell_type": "code",
   "execution_count": null,
   "id": "dbd095c6",
   "metadata": {},
   "outputs": [
    {
     "name": "stdout",
     "output_type": "stream",
     "text": [
      "+-------+-------------------+-------------------+-------------------+\n",
      "|user_id|    user_registered| user_registered_ts|dias_desde_registro|\n",
      "+-------+-------------------+-------------------+-------------------+\n",
      "|      4|2024-04-05 15:38:09|2024-04-05 15:38:09|                400|\n",
      "|      8|2024-04-12 16:09:39|2024-04-12 16:09:39|                393|\n",
      "|     10|2024-04-12 17:03:18|2024-04-12 17:03:18|                393|\n",
      "|     13|2024-04-15 22:08:21|2024-04-15 22:08:21|                390|\n",
      "|     14|2024-04-15 22:16:09|2024-04-15 22:16:09|                390|\n",
      "+-------+-------------------+-------------------+-------------------+\n",
      "only showing top 5 rows\n",
      "\n"
     ]
    }
   ],
   "source": [
    "# Normalizar columna de fecha 'user_registered.\n",
    "df_clientes_emp1 = df_clientes_emp1.withColumn(\"user_registered_ts\", to_timestamp(col(\"user_registered\"), \"yyyy-MM-dd HH:mm:ss\"))\n",
    "df_clientes_emp1 = df_clientes_emp1.withColumn(\"dias_desde_registro\", datediff(current_date(), col(\"user_registered_ts\")))\n",
    "df_clientes_emp1.select(\"user_id\", \"user_registered\", \"user_registered_ts\", \"dias_desde_registro\").show(5)"
   ]
  },
  {
   "cell_type": "code",
   "execution_count": null,
   "id": "35851fef",
   "metadata": {},
   "outputs": [
    {
     "name": "stdout",
     "output_type": "stream",
     "text": [
      "+-------+-------------------+-------------------+-------------------+\n",
      "|user_id|    user_registered| user_registered_ts|dias_desde_registro|\n",
      "+-------+-------------------+-------------------+-------------------+\n",
      "|      3|2020-07-13 16:41:24|2020-07-13 16:41:24|               1762|\n",
      "|      9|2020-12-07 20:13:39|2020-12-07 20:13:39|               1615|\n",
      "|     12|2020-12-11 19:50:37|2020-12-11 19:50:37|               1611|\n",
      "|     13|2020-12-12 00:45:30|2020-12-12 00:45:30|               1610|\n",
      "|     18|2020-12-13 03:22:43|2020-12-13 03:22:43|               1609|\n",
      "+-------+-------------------+-------------------+-------------------+\n",
      "only showing top 5 rows\n",
      "\n"
     ]
    }
   ],
   "source": [
    "# Normalizar columna de fecha 'user_registered.\n",
    "df_clientes_emp2 = df_clientes_emp2.withColumn(\"user_registered_ts\", to_timestamp(col(\"user_registered\"), \"yyyy-MM-dd HH:mm:ss\"))\n",
    "df_clientes_emp2 = df_clientes_emp2.withColumn(\"dias_desde_registro\", datediff(current_date(), col(\"user_registered_ts\")))\n",
    "df_clientes_emp2.select(\"user_id\", \"user_registered\", \"user_registered_ts\", \"dias_desde_registro\").show(5)"
   ]
  },
  {
   "cell_type": "code",
   "execution_count": null,
   "id": "071f0002",
   "metadata": {},
   "outputs": [
    {
     "name": "stdout",
     "output_type": "stream",
     "text": [
      "+-------+-------------------+-----------+------------+---------------+-------------+-------------------+-------------------+\n",
      "|user_id|    user_registered|user_status|billing_city|billing_country|billing_state| user_registered_ts|dias_desde_registro|\n",
      "+-------+-------------------+-----------+------------+---------------+-------------+-------------------+-------------------+\n",
      "|      4|2024-04-05 15:38:09|          0|        Lima|             PE|          LMA|2024-04-05 15:38:09|                400|\n",
      "|      8|2024-04-12 16:09:39|          0|    AREQUIPA|             PE|          ARE|2024-04-12 16:09:39|                393|\n",
      "|     10|2024-04-12 17:03:18|          0|        LIMA|             PE|          LIM|2024-04-12 17:03:18|                393|\n",
      "|     13|2024-04-15 22:08:21|          0|    Arequipa|             PE|          ARE|2024-04-15 22:08:21|                390|\n",
      "|     14|2024-04-15 22:16:09|          0|        NULL|           NULL|         NULL|2024-04-15 22:16:09|                390|\n",
      "+-------+-------------------+-----------+------------+---------------+-------------+-------------------+-------------------+\n",
      "only showing top 5 rows\n",
      "\n"
     ]
    }
   ],
   "source": [
    "df_clientes_emp1.show(5)"
   ]
  },
  {
   "cell_type": "code",
   "execution_count": null,
   "id": "7b0321fb",
   "metadata": {},
   "outputs": [
    {
     "name": "stdout",
     "output_type": "stream",
     "text": [
      "+-------+-------------------+-----------+------------+---------------+-------------+-------------------+-------------------+\n",
      "|user_id|    user_registered|user_status|billing_city|billing_country|billing_state| user_registered_ts|dias_desde_registro|\n",
      "+-------+-------------------+-----------+------------+---------------+-------------+-------------------+-------------------+\n",
      "|      3|2020-07-13 16:41:24|          0|        Peru|             PE|          LMA|2020-07-13 16:41:24|               1762|\n",
      "|      9|2020-12-07 20:13:39|          0|        NULL|           NULL|         NULL|2020-12-07 20:13:39|               1615|\n",
      "|     12|2020-12-11 19:50:37|          0|        NULL|           NULL|         NULL|2020-12-11 19:50:37|               1611|\n",
      "|     13|2020-12-12 00:45:30|          0|        NULL|           NULL|         NULL|2020-12-12 00:45:30|               1610|\n",
      "|     18|2020-12-13 03:22:43|          0|        NULL|           NULL|         NULL|2020-12-13 03:22:43|               1609|\n",
      "+-------+-------------------+-----------+------------+---------------+-------------+-------------------+-------------------+\n",
      "only showing top 5 rows\n",
      "\n"
     ]
    }
   ],
   "source": [
    "df_clientes_emp2.show(5)"
   ]
  },
  {
   "cell_type": "markdown",
   "id": "428ea2de",
   "metadata": {},
   "source": [
    "3.2 Dataset Productos"
   ]
  },
  {
   "cell_type": "code",
   "execution_count": null,
   "id": "0fc48bd1",
   "metadata": {},
   "outputs": [
    {
     "name": "stderr",
     "output_type": "stream",
     "text": [
      "ERROR:root:KeyboardInterrupt while sending command.\n",
      "Traceback (most recent call last):\n",
      "  File \"/usr/local/spark/python/lib/py4j-0.10.9.7-src.zip/py4j/java_gateway.py\", line 1038, in send_command\n",
      "    response = connection.send_command(command)\n",
      "               ^^^^^^^^^^^^^^^^^^^^^^^^^^^^^^^^\n",
      "  File \"/usr/local/spark/python/lib/py4j-0.10.9.7-src.zip/py4j/clientserver.py\", line 511, in send_command\n",
      "    answer = smart_decode(self.stream.readline()[:-1])\n",
      "                          ^^^^^^^^^^^^^^^^^^^^^^\n",
      "  File \"/opt/conda/lib/python3.11/socket.py\", line 706, in readinto\n",
      "    return self._sock.recv_into(b)\n",
      "           ^^^^^^^^^^^^^^^^^^^^^^^\n",
      "KeyboardInterrupt\n"
     ]
    },
    {
     "ename": "KeyboardInterrupt",
     "evalue": "",
     "output_type": "error",
     "traceback": [
      "\u001b[0;31m---------------------------------------------------------------------------\u001b[0m",
      "\u001b[0;31mKeyboardInterrupt\u001b[0m                         Traceback (most recent call last)",
      "Cell \u001b[0;32mIn[157], line 1\u001b[0m\n\u001b[0;32m----> 1\u001b[0m df_produtos_emp1\u001b[38;5;241m.\u001b[39mselect(\u001b[43m[\u001b[49m\u001b[43mcount\u001b[49m\u001b[43m(\u001b[49m\u001b[43mwhen\u001b[49m\u001b[43m(\u001b[49m\u001b[43misnan\u001b[49m\u001b[43m(\u001b[49m\u001b[43mc\u001b[49m\u001b[43m)\u001b[49m\u001b[43m \u001b[49m\u001b[38;5;241;43m|\u001b[39;49m\u001b[43m \u001b[49m\u001b[43mcol\u001b[49m\u001b[43m(\u001b[49m\u001b[43mc\u001b[49m\u001b[43m)\u001b[49m\u001b[38;5;241;43m.\u001b[39;49m\u001b[43misNull\u001b[49m\u001b[43m(\u001b[49m\u001b[43m)\u001b[49m\u001b[43m,\u001b[49m\u001b[43m \u001b[49m\u001b[43mc\u001b[49m\u001b[43m)\u001b[49m\u001b[43m)\u001b[49m\u001b[38;5;241;43m.\u001b[39;49m\u001b[43malias\u001b[49m\u001b[43m(\u001b[49m\u001b[43mc\u001b[49m\u001b[43m)\u001b[49m\u001b[43m \u001b[49m\u001b[38;5;28;43;01mfor\u001b[39;49;00m\u001b[43m \u001b[49m\u001b[43mc\u001b[49m\u001b[43m \u001b[49m\u001b[38;5;129;43;01min\u001b[39;49;00m\u001b[43m \u001b[49m\u001b[43mdf_produtos_emp1\u001b[49m\u001b[38;5;241;43m.\u001b[39;49m\u001b[43mcolumns\u001b[49m\u001b[43m]\u001b[49m)\u001b[38;5;241m.\u001b[39mshow()\n",
      "Cell \u001b[0;32mIn[157], line 1\u001b[0m, in \u001b[0;36m<listcomp>\u001b[0;34m(.0)\u001b[0m\n\u001b[0;32m----> 1\u001b[0m df_produtos_emp1\u001b[38;5;241m.\u001b[39mselect([count(when(\u001b[43misnan\u001b[49m\u001b[43m(\u001b[49m\u001b[43mc\u001b[49m\u001b[43m)\u001b[49m\u001b[43m \u001b[49m\u001b[38;5;241;43m|\u001b[39;49m\u001b[43m \u001b[49m\u001b[43mcol\u001b[49m\u001b[43m(\u001b[49m\u001b[43mc\u001b[49m\u001b[43m)\u001b[49m\u001b[38;5;241;43m.\u001b[39;49m\u001b[43misNull\u001b[49m\u001b[43m(\u001b[49m\u001b[43m)\u001b[49m, c))\u001b[38;5;241m.\u001b[39malias(c) \u001b[38;5;28;01mfor\u001b[39;00m c \u001b[38;5;129;01min\u001b[39;00m df_produtos_emp1\u001b[38;5;241m.\u001b[39mcolumns])\u001b[38;5;241m.\u001b[39mshow()\n",
      "File \u001b[0;32m/usr/local/spark/python/pyspark/sql/column.py:163\u001b[0m, in \u001b[0;36m_bin_op.<locals>._\u001b[0;34m(self, other)\u001b[0m\n\u001b[1;32m    158\u001b[0m \u001b[38;5;28;01mdef\u001b[39;00m \u001b[38;5;21m_\u001b[39m(\n\u001b[1;32m    159\u001b[0m     \u001b[38;5;28mself\u001b[39m: \u001b[38;5;124m\"\u001b[39m\u001b[38;5;124mColumn\u001b[39m\u001b[38;5;124m\"\u001b[39m,\n\u001b[1;32m    160\u001b[0m     other: Union[\u001b[38;5;124m\"\u001b[39m\u001b[38;5;124mColumn\u001b[39m\u001b[38;5;124m\"\u001b[39m, \u001b[38;5;124m\"\u001b[39m\u001b[38;5;124mLiteralType\u001b[39m\u001b[38;5;124m\"\u001b[39m, \u001b[38;5;124m\"\u001b[39m\u001b[38;5;124mDecimalLiteral\u001b[39m\u001b[38;5;124m\"\u001b[39m, \u001b[38;5;124m\"\u001b[39m\u001b[38;5;124mDateTimeLiteral\u001b[39m\u001b[38;5;124m\"\u001b[39m],\n\u001b[1;32m    161\u001b[0m ) \u001b[38;5;241m-\u001b[39m\u001b[38;5;241m>\u001b[39m \u001b[38;5;124m\"\u001b[39m\u001b[38;5;124mColumn\u001b[39m\u001b[38;5;124m\"\u001b[39m:\n\u001b[1;32m    162\u001b[0m     jc \u001b[38;5;241m=\u001b[39m other\u001b[38;5;241m.\u001b[39m_jc \u001b[38;5;28;01mif\u001b[39;00m \u001b[38;5;28misinstance\u001b[39m(other, Column) \u001b[38;5;28;01melse\u001b[39;00m other\n\u001b[0;32m--> 163\u001b[0m     njc \u001b[38;5;241m=\u001b[39m \u001b[38;5;28;43mgetattr\u001b[39;49m\u001b[43m(\u001b[49m\u001b[38;5;28;43mself\u001b[39;49m\u001b[38;5;241;43m.\u001b[39;49m\u001b[43m_jc\u001b[49m\u001b[43m,\u001b[49m\u001b[43m \u001b[49m\u001b[43mname\u001b[49m\u001b[43m)\u001b[49m\u001b[43m(\u001b[49m\u001b[43mjc\u001b[49m\u001b[43m)\u001b[49m\n\u001b[1;32m    164\u001b[0m     \u001b[38;5;28;01mreturn\u001b[39;00m Column(njc)\n",
      "File \u001b[0;32m/usr/local/spark/python/lib/py4j-0.10.9.7-src.zip/py4j/java_gateway.py:1321\u001b[0m, in \u001b[0;36mJavaMember.__call__\u001b[0;34m(self, *args)\u001b[0m\n\u001b[1;32m   1314\u001b[0m args_command, temp_args \u001b[38;5;241m=\u001b[39m \u001b[38;5;28mself\u001b[39m\u001b[38;5;241m.\u001b[39m_build_args(\u001b[38;5;241m*\u001b[39margs)\n\u001b[1;32m   1316\u001b[0m command \u001b[38;5;241m=\u001b[39m proto\u001b[38;5;241m.\u001b[39mCALL_COMMAND_NAME \u001b[38;5;241m+\u001b[39m\\\n\u001b[1;32m   1317\u001b[0m     \u001b[38;5;28mself\u001b[39m\u001b[38;5;241m.\u001b[39mcommand_header \u001b[38;5;241m+\u001b[39m\\\n\u001b[1;32m   1318\u001b[0m     args_command \u001b[38;5;241m+\u001b[39m\\\n\u001b[1;32m   1319\u001b[0m     proto\u001b[38;5;241m.\u001b[39mEND_COMMAND_PART\n\u001b[0;32m-> 1321\u001b[0m answer \u001b[38;5;241m=\u001b[39m \u001b[38;5;28;43mself\u001b[39;49m\u001b[38;5;241;43m.\u001b[39;49m\u001b[43mgateway_client\u001b[49m\u001b[38;5;241;43m.\u001b[39;49m\u001b[43msend_command\u001b[49m\u001b[43m(\u001b[49m\u001b[43mcommand\u001b[49m\u001b[43m)\u001b[49m\n\u001b[1;32m   1322\u001b[0m return_value \u001b[38;5;241m=\u001b[39m get_return_value(\n\u001b[1;32m   1323\u001b[0m     answer, \u001b[38;5;28mself\u001b[39m\u001b[38;5;241m.\u001b[39mgateway_client, \u001b[38;5;28mself\u001b[39m\u001b[38;5;241m.\u001b[39mtarget_id, \u001b[38;5;28mself\u001b[39m\u001b[38;5;241m.\u001b[39mname)\n\u001b[1;32m   1325\u001b[0m \u001b[38;5;28;01mfor\u001b[39;00m temp_arg \u001b[38;5;129;01min\u001b[39;00m temp_args:\n",
      "File \u001b[0;32m/usr/local/spark/python/lib/py4j-0.10.9.7-src.zip/py4j/java_gateway.py:1038\u001b[0m, in \u001b[0;36mGatewayClient.send_command\u001b[0;34m(self, command, retry, binary)\u001b[0m\n\u001b[1;32m   1036\u001b[0m connection \u001b[38;5;241m=\u001b[39m \u001b[38;5;28mself\u001b[39m\u001b[38;5;241m.\u001b[39m_get_connection()\n\u001b[1;32m   1037\u001b[0m \u001b[38;5;28;01mtry\u001b[39;00m:\n\u001b[0;32m-> 1038\u001b[0m     response \u001b[38;5;241m=\u001b[39m \u001b[43mconnection\u001b[49m\u001b[38;5;241;43m.\u001b[39;49m\u001b[43msend_command\u001b[49m\u001b[43m(\u001b[49m\u001b[43mcommand\u001b[49m\u001b[43m)\u001b[49m\n\u001b[1;32m   1039\u001b[0m     \u001b[38;5;28;01mif\u001b[39;00m binary:\n\u001b[1;32m   1040\u001b[0m         \u001b[38;5;28;01mreturn\u001b[39;00m response, \u001b[38;5;28mself\u001b[39m\u001b[38;5;241m.\u001b[39m_create_connection_guard(connection)\n",
      "File \u001b[0;32m/usr/local/spark/python/lib/py4j-0.10.9.7-src.zip/py4j/clientserver.py:511\u001b[0m, in \u001b[0;36mClientServerConnection.send_command\u001b[0;34m(self, command)\u001b[0m\n\u001b[1;32m    509\u001b[0m \u001b[38;5;28;01mtry\u001b[39;00m:\n\u001b[1;32m    510\u001b[0m     \u001b[38;5;28;01mwhile\u001b[39;00m \u001b[38;5;28;01mTrue\u001b[39;00m:\n\u001b[0;32m--> 511\u001b[0m         answer \u001b[38;5;241m=\u001b[39m smart_decode(\u001b[38;5;28mself\u001b[39m\u001b[38;5;241m.\u001b[39mstream\u001b[38;5;241m.\u001b[39mreadline()[:\u001b[38;5;241m-\u001b[39m\u001b[38;5;241m1\u001b[39m])\n\u001b[1;32m    512\u001b[0m         logger\u001b[38;5;241m.\u001b[39mdebug(\u001b[38;5;124m\"\u001b[39m\u001b[38;5;124mAnswer received: \u001b[39m\u001b[38;5;132;01m{0}\u001b[39;00m\u001b[38;5;124m\"\u001b[39m\u001b[38;5;241m.\u001b[39mformat(answer))\n\u001b[1;32m    513\u001b[0m         \u001b[38;5;66;03m# Happens when a the other end is dead. There might be an empty\u001b[39;00m\n\u001b[1;32m    514\u001b[0m         \u001b[38;5;66;03m# answer before the socket raises an error.\u001b[39;00m\n",
      "File \u001b[0;32m/opt/conda/lib/python3.11/socket.py:706\u001b[0m, in \u001b[0;36mSocketIO.readinto\u001b[0;34m(self, b)\u001b[0m\n\u001b[1;32m    704\u001b[0m \u001b[38;5;28;01mwhile\u001b[39;00m \u001b[38;5;28;01mTrue\u001b[39;00m:\n\u001b[1;32m    705\u001b[0m     \u001b[38;5;28;01mtry\u001b[39;00m:\n\u001b[0;32m--> 706\u001b[0m         \u001b[38;5;28;01mreturn\u001b[39;00m \u001b[38;5;28;43mself\u001b[39;49m\u001b[38;5;241;43m.\u001b[39;49m\u001b[43m_sock\u001b[49m\u001b[38;5;241;43m.\u001b[39;49m\u001b[43mrecv_into\u001b[49m\u001b[43m(\u001b[49m\u001b[43mb\u001b[49m\u001b[43m)\u001b[49m\n\u001b[1;32m    707\u001b[0m     \u001b[38;5;28;01mexcept\u001b[39;00m timeout:\n\u001b[1;32m    708\u001b[0m         \u001b[38;5;28mself\u001b[39m\u001b[38;5;241m.\u001b[39m_timeout_occurred \u001b[38;5;241m=\u001b[39m \u001b[38;5;28;01mTrue\u001b[39;00m\n",
      "\u001b[0;31mKeyboardInterrupt\u001b[0m: "
     ]
    }
   ],
   "source": [
    "df_produtos_emp1.select([count(when(isnan(c) | col(c).isNull(), c)).alias(c) for c in df_produtos_emp1.columns]).show()"
   ]
  },
  {
   "cell_type": "code",
   "execution_count": null,
   "id": "6762d907",
   "metadata": {},
   "outputs": [
    {
     "name": "stdout",
     "output_type": "stream",
     "text": [
      "+----------+-----------------+----------+------------+----+------+--------------+-----------+-----------+------+-------------+------------------------+----------------+----------+-------------------+--------+--------------------------+--------+----------------------------+--------------------------+------------------------+------------+---------------+-----------------+-----------+----------------------+--------+------------------+----------+-----------+\n",
      "|product_id|custom_partnumber|post_title|post_excerpt|_sku|_price|_regular_price|total_sales|_backorders|_stock|_stock_status|minimum_allowed_quantity|custom_condition|custom_eta|_product_attributes|pa_brand|pa_cell-phone-display-size|pa_color|pa_computer-operating-system|pa_computer-processor-type|pa_computer-ram-capacity|pa_condition|pa_graphic-card|pa_hard-disk-size|pa_keyboard|pa_laptop-display-size|pa_notes|pa_solid-disk-size|pa_storage|pa_warranty|\n",
      "+----------+-----------------+----------+------------+----+------+--------------+-----------+-----------+------+-------------+------------------------+----------------+----------+-------------------+--------+--------------------------+--------+----------------------------+--------------------------+------------------------+------------+---------------+-----------------+-----------+----------------------+--------+------------------+----------+-----------+\n",
      "|         0|               55|         4|          29|  30|    27|            28|          1|          1|    28|            1|                     188|             223|        31|                162|     242|                      7660|    1594|                        4417|                      4281|                    4320|         463|           9574|             9491|       9525|                  6582|    8869|              5277|      8966|       1444|\n",
      "+----------+-----------------+----------+------------+----+------+--------------+-----------+-----------+------+-------------+------------------------+----------------+----------+-------------------+--------+--------------------------+--------+----------------------------+--------------------------+------------------------+------------+---------------+-----------------+-----------+----------------------+--------+------------------+----------+-----------+\n",
      "\n"
     ]
    }
   ],
   "source": [
    "df_produtos_emp2.select([count(when(isnan(c) | col(c).isNull(), c)).alias(c) for c in df_produtos_emp2.columns]).show()"
   ]
  },
  {
   "cell_type": "code",
   "execution_count": null,
   "id": "51d0c39b",
   "metadata": {},
   "outputs": [
    {
     "name": "stdout",
     "output_type": "stream",
     "text": [
      "Registros Empresa 1 antes da remoção de duplicatas (produtos): 5823\n",
      "Registros Empresa 1 após a remoção de duplicatas (produtos): 5823\n",
      "Registros Empresa 2 antes da remoção de duplicatas (produtos): 9929\n",
      "Registros Empresa 2 após a remoção de duplicatas (produtos): 9929\n"
     ]
    }
   ],
   "source": [
    "# Remover duplicatas basadas en product_id\n",
    "print(f\"Registros Empresa 1 antes da remoção de duplicatas (produtos): {df_produtos_emp1.count()}\")\n",
    "df_produtos_emp1 = df_produtos_emp1.dropDuplicates(['product_id'])\n",
    "print(f\"Registros Empresa 1 após a remoção de duplicatas (produtos): {df_produtos_emp1.count()}\")\n",
    "\n",
    "print(f\"Registros Empresa 2 antes da remoção de duplicatas (produtos): {df_produtos_emp2.count()}\")\n",
    "df_produtos_emp2 = df_produtos_emp2.dropDuplicates(['product_id'])\n",
    "print(f\"Registros Empresa 2 após a remoção de duplicatas (produtos): {df_produtos_emp2.count()}\")"
   ]
  },
  {
   "cell_type": "code",
   "execution_count": null,
   "id": "a3922f8c",
   "metadata": {},
   "outputs": [
    {
     "name": "stdout",
     "output_type": "stream",
     "text": [
      "+----------+-----------------+--------------------+--------------------+------------------+------+--------------+-----------+-----------+-----------+------+-------------+------------------------+----------------+----------+----------+--------------------+----+-----------------+--------+------------+-------------+-------+-----------+--------+--------------+-------------+-------------+------+--------------------+--------------------+----------+----------------+\n",
      "|product_id|custom_partnumber|          post_title|        post_excerpt|              _sku|_price|_regular_price|_sale_price|total_sales|_backorders|_stock|_stock_status|minimum_allowed_quantity|custom_condition|custom_eta|custom_moq| _product_attributes|pa_1|pa_almacenamiento|pa_color|pa_condicion|pa_disco-duro|pa_emmc|pa_garantia|pa_marca|pa_memoria-ram|  pa_pantalla|pa_procesador|pa_ram|pa_sistema-operativo| pa_tarjeta-de-video|pa_teclado|pa_unidad-solida|\n",
      "+----------+-----------------+--------------------+--------------------+------------------+------+--------------+-----------+-----------+-----------+------+-------------+------------------------+----------------+----------+----------+--------------------+----+-----------------+--------+------------+-------------+-------+-----------+--------+--------------+-------------+-------------+------+--------------------+--------------------+----------+----------------+\n",
      "|       539|     F1500EA-WB51|ASUS VIVOBOOK 15 ...|INTEL CORE I5 113...|  F1500EA-WB51-B1S| 398.0|         398.0|       NULL|          0|         no|  59.0|      instock|                      10|           Nuevo|   13 Dias|        10|a:8:{s:8:\"pa_marc...|NULL|             NULL|   Negro|       Nuevo|         NULL|   NULL|       NULL|    Asus|      8GB DDR4|15.6 Pulgadas|Intel Core i5|  NULL|          Windows 11|                NULL|      NULL|           256GB|\n",
      "|       540|   TP3604VA-DS51T|ASUS VIVOBOOK 2-IN-1|INTEL CORE I5 135...|TP3604VA-DS51T-B1S| 617.0|         617.0|       NULL|          3|         no|   0.0|   outofstock|                       1|           Nuevo|   14 DIAS|         1|a:8:{s:8:\"pa_marc...|NULL|             NULL|   Negro|       Nuevo|         NULL|   NULL|       NULL|    Asus|      8GB DDR4|  16 Pulgadas|Intel Core i5|  NULL|          Windows 11|                NULL|      NULL|           512GB|\n",
      "|       570|        MLXY3LL/A|APPLE MACBOOK AIR...|APPLE CHIP M2 OCT...|     MLXY3LL/A-B1S| 784.0|         784.0|       NULL|          3|         no|   0.0|   outofstock|                       1|           Nuevo|   14 DIAS|         1|a:8:{s:8:\"pa_marc...|NULL|             NULL|Plateado|       Nuevo|         NULL|   NULL|       NULL|   Apple|      8GB DDR4|13.6 Pulgadas|     Apple M2|  NULL|              MAC OS|                NULL|      NULL|           256GB|\n",
      "|       572|     K6602VV-AS96|ASUS VIVOBOOK PRO...|INTEL CORE I9 139...|  K6602VV-AS96-B1S|1432.0|        1432.0|       NULL|          0|         no|   0.0|   outofstock|                       1|           Nuevo|    9 DIAS|         1|a:11:{s:8:\"pa_mar...|NULL|             NULL|    Azul|       Nuevo|         NULL|   NULL|   12 Meses|    Asus|     16GB DDR5|  16 Pulgadas|INTEL CORE I9|  NULL|          Windows 11|NVIDIA GEFORCE RT...|    Ingles|             1TB|\n",
      "|       606|            NV0JJ|DELL MOBILE PRECI...|INTEL CORE I7 128...|         NV0JJ-B1S|   0.0|           0.0|       NULL|          0|         no|   0.0|   outofstock|                       1|           Nuevo|     7Dias|         1|a:8:{s:8:\"pa_marc...|NULL|             NULL|    Gris|       Nuevo|         NULL|   NULL|       NULL|    Dell|     32GB DDR5|15.6 Pulgadas|Intel Core i7|  NULL|      WINDOWS 10 PRO|                NULL|      NULL|           512GB|\n",
      "+----------+-----------------+--------------------+--------------------+------------------+------+--------------+-----------+-----------+-----------+------+-------------+------------------------+----------------+----------+----------+--------------------+----+-----------------+--------+------------+-------------+-------+-----------+--------+--------------+-------------+-------------+------+--------------------+--------------------+----------+----------------+\n",
      "only showing top 5 rows\n",
      "\n"
     ]
    }
   ],
   "source": [
    "df_produtos_emp1.show(5)"
   ]
  },
  {
   "cell_type": "code",
   "execution_count": null,
   "id": "f95f1553",
   "metadata": {},
   "outputs": [
    {
     "name": "stdout",
     "output_type": "stream",
     "text": [
      "+----------+-----------------+--------------------+--------------------+-------------+------+--------------+-----------+-----------+------+-------------+------------------------+----------------+----------+--------------------+--------+--------------------------+--------+----------------------------+--------------------------+------------------------+------------+---------------+-----------------+-----------+----------------------+--------+------------------+----------+---------------+\n",
      "|product_id|custom_partnumber|          post_title|        post_excerpt|         _sku|_price|_regular_price|total_sales|_backorders|_stock|_stock_status|minimum_allowed_quantity|custom_condition|custom_eta| _product_attributes|pa_brand|pa_cell-phone-display-size|pa_color|pa_computer-operating-system|pa_computer-processor-type|pa_computer-ram-capacity|pa_condition|pa_graphic-card|pa_hard-disk-size|pa_keyboard|pa_laptop-display-size|pa_notes|pa_solid-disk-size|pa_storage|    pa_warranty|\n",
      "+----------+-----------------+--------------------+--------------------+-------------+------+--------------+-----------+-----------+------+-------------+------------------------+----------------+----------+--------------------+--------+--------------------------+--------+----------------------------+--------------------------+------------------------+------------+---------------+-----------------+-----------+----------------------+--------+------------------+----------+---------------+\n",
      "|       353|    TUF506IU-ES74|       TUF506IU-ES74|Procesador AMD Ry...|TUF506IU-ES74|3000.0|        3000.0|          0|         no|   0.0|   outofstock|                    NULL|             New|  In Stock|a:2:{s:8:\"pa_bran...|    Asus|                      NULL|    NULL|                        NULL|               AMD Ryzen 7|                    NULL|        NULL|           NULL|             NULL|       NULL|                  NULL|    NULL|              NULL|      NULL|           NULL|\n",
      "|      2213|      225L5UA#ABA|HP PAVILION 16-A0...|INTEL CORE I7 107...|  225L5UA#ABA| 860.0|         860.0|          3|         no|   0.0|   outofstock|                       0|             New|         3|a:8:{s:8:\"pa_bran...|      HP|               16.1 Inches|    NULL|                  Windows 10|             Intel Core i7|                8GB DDR4|         New|           NULL|             NULL|       NULL|                  NULL|    NULL|             256GB|      NULL|1 Year Warranty|\n",
      "|      2610|          1H9N0UA|      HP 17-BY2007DS|INTEL PENTIUM GOL...|    1H9N0UA-R| 457.0|         457.0|          0|         no|   0.0|   outofstock|                       0|     Refurbished|         0|a:8:{s:8:\"pa_bran...|      HP|               17.3 Inches|    Gold|                  Windows 10|        Intel Pentium Gold|                8GB DDR4| Refurbished|           NULL|             NULL|       NULL|                  NULL|    NULL|             512GB|      NULL|           NULL|\n",
      "|      2614|          1Q8E4UA|      HP 17-BY2010DS|INTEL PENTIUM GOL...|    1Q8E4UA-R| 457.0|         457.0|          0|         no|   0.0|   outofstock|                       0|     Refurbished|         0|a:7:{s:8:\"pa_bran...|      HP|               17.3 Inches|    NULL|                  Windows 10|        Intel Pentium Gold|                8GB DDR4| Refurbished|           NULL|             NULL|       NULL|                  NULL|    NULL|             512GB|      NULL|           NULL|\n",
      "|      2619|          2D625UA|      HP 17-CA1018CY|AMD RYZEN 5 3500U...|    2D625UA-R| 509.0|         509.0|          0|         no|   0.0|   outofstock|                       0|     Refurbished|         0|a:8:{s:8:\"pa_bran...|      HP|               17.3 Inches|Platinum|                  Windows 10|               AMD Ryzen 5|               12GB DDR4| Refurbished|           NULL|              1TB|       NULL|                  NULL|    NULL|              NULL|      NULL|           NULL|\n",
      "+----------+-----------------+--------------------+--------------------+-------------+------+--------------+-----------+-----------+------+-------------+------------------------+----------------+----------+--------------------+--------+--------------------------+--------+----------------------------+--------------------------+------------------------+------------+---------------+-----------------+-----------+----------------------+--------+------------------+----------+---------------+\n",
      "only showing top 5 rows\n",
      "\n"
     ]
    }
   ],
   "source": [
    "df_produtos_emp2.show(5)"
   ]
  },
  {
   "cell_type": "code",
   "execution_count": null,
   "id": "b47be92c",
   "metadata": {},
   "outputs": [
    {
     "name": "stdout",
     "output_type": "stream",
     "text": [
      "['product_id', 'custom_partnumber', 'post_title', 'post_excerpt', '_sku', '_price', '_regular_price', 'total_sales', '_backorders', '_stock', '_stock_status', 'minimum_allowed_quantity', 'custom_condition', 'custom_eta', '_product_attributes', 'pa_brand', 'pa_cell-phone-display-size', 'pa_color', 'pa_computer-operating-system', 'pa_computer-processor-type', 'pa_computer-ram-capacity', 'pa_condition', 'pa_graphic-card', 'pa_hard-disk-size', 'pa_keyboard', 'pa_laptop-display-size', 'pa_notes', 'pa_solid-disk-size', 'pa_storage', 'pa_warranty']\n"
     ]
    }
   ],
   "source": [
    "print(df_produtos_emp2.columns)\n"
   ]
  },
  {
   "cell_type": "code",
   "execution_count": null,
   "id": "fb2ffa36",
   "metadata": {},
   "outputs": [],
   "source": [
    "# Igualamos las columnas de los datasets\n",
    "\n",
    "df_produtos_emp1 = df_produtos_emp1.select('product_id','post_title','post_excerpt','_price','total_sales','_stock', '_stock_status','pa_marca')\n",
    "df_produtos_emp2 = df_produtos_emp2.select('product_id','post_title','post_excerpt','_price','total_sales','_stock', '_stock_status','pa_brand')\n",
    "df_produtos_emp2 = df_produtos_emp2.withColumnRenamed('pa_brand', 'pa_marca')"
   ]
  },
  {
   "cell_type": "markdown",
   "id": "6a1535d7",
   "metadata": {},
   "source": [
    "3.3 Dataset Ordens"
   ]
  },
  {
   "cell_type": "code",
   "execution_count": null,
   "id": "5b138ee7",
   "metadata": {},
   "outputs": [
    {
     "name": "stdout",
     "output_type": "stream",
     "text": [
      "+--------+----------+----------+-----------+-----------+-------------------+----------+---------------------+------+\n",
      "|order_id|order_date|product_id|customer_id|product_qty|product_net_revenue|tax_amount|product_gross_revenue|status|\n",
      "+--------+----------+----------+-----------+-----------+-------------------+----------+---------------------+------+\n",
      "|       0|         0|         0|          0|          0|                  0|         0|                    0|     0|\n",
      "+--------+----------+----------+-----------+-----------+-------------------+----------+---------------------+------+\n",
      "\n"
     ]
    }
   ],
   "source": [
    "#Verificando Nulos\n",
    "df_ordens_emp1.select([count(when(isnan(c) | col(c).isNull(), c)).alias(c) for c in df_ordens_emp1.columns]).show()"
   ]
  },
  {
   "cell_type": "code",
   "execution_count": null,
   "id": "3facbc59",
   "metadata": {},
   "outputs": [
    {
     "name": "stdout",
     "output_type": "stream",
     "text": [
      "+--------+----------+----------+-----------+-----------+-------------------+----------+---------------------+------+\n",
      "|order_id|order_date|product_id|customer_id|product_qty|product_net_revenue|tax_amount|product_gross_revenue|status|\n",
      "+--------+----------+----------+-----------+-----------+-------------------+----------+---------------------+------+\n",
      "|       0|         0|         0|          0|          0|                  0|         0|                    0|     0|\n",
      "+--------+----------+----------+-----------+-----------+-------------------+----------+---------------------+------+\n",
      "\n"
     ]
    }
   ],
   "source": [
    "#Verificando Nulos\n",
    "df_ordens_emp2.select([count(when(isnan(c) | col(c).isNull(), c)).alias(c) for c in df_ordens_emp2.columns]).show()"
   ]
  },
  {
   "cell_type": "code",
   "execution_count": null,
   "id": "cbfbe0a9",
   "metadata": {},
   "outputs": [
    {
     "data": {
      "text/plain": [
       "['order_id',\n",
       " 'order_date',\n",
       " 'product_id',\n",
       " 'customer_id',\n",
       " 'product_qty',\n",
       " 'product_net_revenue',\n",
       " 'tax_amount',\n",
       " 'product_gross_revenue',\n",
       " 'status']"
      ]
     },
     "execution_count": 90,
     "metadata": {},
     "output_type": "execute_result"
    }
   ],
   "source": [
    "df_ordens_emp2.columns"
   ]
  },
  {
   "cell_type": "code",
   "execution_count": null,
   "id": "f3eb8108",
   "metadata": {},
   "outputs": [],
   "source": [
    "df_ordens_emp1 = df_ordens_emp1.select('order_id',\n",
    " 'order_date',\n",
    " 'product_id',\n",
    " 'customer_id',\n",
    " 'product_qty',\n",
    " 'product_net_revenue',\n",
    " 'tax_amount',\n",
    " 'product_gross_revenue',\n",
    " 'status')"
   ]
  },
  {
   "cell_type": "code",
   "execution_count": null,
   "id": "bcb85775",
   "metadata": {},
   "outputs": [
    {
     "name": "stdout",
     "output_type": "stream",
     "text": [
      "Row(order_id=3065, order_date='2021-03-01 23:36:02', product_id=3055, customer_id=1, product_qty=1, product_net_revenue='599', tax_amount=0, product_gross_revenue='599', status='wc-completed')\n",
      "Row(order_id=1918, order_date='2024-04-16 23:14:42', product_id=540, customer_id=29, product_qty=3, product_net_revenue=1821.0, tax_amount=327.78, product_gross_revenue=2148.78, status='wc-completed')\n"
     ]
    }
   ],
   "source": [
    "print(df_ordens_emp2.head())\n",
    "print(df_ordens_emp1.head())"
   ]
  },
  {
   "cell_type": "code",
   "execution_count": null,
   "id": "527732e0",
   "metadata": {},
   "outputs": [
    {
     "name": "stdout",
     "output_type": "stream",
     "text": [
      "Registros Empresa 1 antes da remoção de duplicatas (ordens): 845\n",
      "Registros Empresa 1 após a remoção de duplicatas (ordens): 845\n",
      "Registros Empresa 2 antes da remoção de duplicatas (ordens): 11318\n",
      "Registros Empresa 2 após a remoção de duplicatas (ordens): 11289\n"
     ]
    }
   ],
   "source": [
    "# Remover duplicatas (consideramos una chave compuesta con order_id, product_id)\n",
    "print(f\"Registros Empresa 1 antes da remoção de duplicatas (ordens): {df_ordens_emp1.count()}\")\n",
    "df_ordens_emp1 = df_ordens_emp1.dropDuplicates(['order_id', 'product_id'])\n",
    "print(f\"Registros Empresa 1 após a remoção de duplicatas (ordens): {df_ordens_emp1.count()}\")\n",
    "\n",
    "print(f\"Registros Empresa 2 antes da remoção de duplicatas (ordens): {df_ordens_emp2.count()}\")\n",
    "df_ordens_emp2 = df_ordens_emp2.dropDuplicates(['order_id', 'product_id'])\n",
    "print(f\"Registros Empresa 2 após a remoção de duplicatas (ordens): {df_ordens_emp2.count()}\")"
   ]
  },
  {
   "cell_type": "code",
   "execution_count": null,
   "id": "72f80621",
   "metadata": {},
   "outputs": [
    {
     "name": "stdout",
     "output_type": "stream",
     "text": [
      "+--------+-------------------+----------+-----------+-----------+-------------------+----------+---------------------+------------+\n",
      "|order_id|         order_date|product_id|customer_id|product_qty|product_net_revenue|tax_amount|product_gross_revenue|      status|\n",
      "+--------+-------------------+----------+-----------+-----------+-------------------+----------+---------------------+------------+\n",
      "|    1918|2024-04-16 23:14:42|       540|         29|          3|             1821.0|    327.78|              2148.78|wc-completed|\n",
      "|    2092|2024-04-18 10:06:57|      2082|         26|          5|             3090.0|     556.2|               3646.2|wc-completed|\n",
      "|    2289|2024-04-18 17:45:10|      2081|         72|          1|             1427.0|    256.86|              1683.86|wc-completed|\n",
      "|    2319|2024-04-19 09:53:17|      2221|         29|          2|             1582.0|    284.76|              1866.76|wc-completed|\n",
      "|    2392|2024-04-19 15:12:21|      1136|         26|          5|             4600.0|     828.0|               5428.0|wc-completed|\n",
      "+--------+-------------------+----------+-----------+-----------+-------------------+----------+---------------------+------------+\n",
      "only showing top 5 rows\n",
      "\n"
     ]
    }
   ],
   "source": [
    "df_ordens_emp1.show(5)"
   ]
  },
  {
   "cell_type": "code",
   "execution_count": null,
   "id": "6cb6d9f0",
   "metadata": {},
   "outputs": [
    {
     "name": "stdout",
     "output_type": "stream",
     "text": [
      "+--------+-------------------+----------+-----------+-----------+-------------------+----------+---------------------+-------------+\n",
      "|order_id|         order_date|product_id|customer_id|product_qty|product_net_revenue|tax_amount|product_gross_revenue|       status|\n",
      "+--------+-------------------+----------+-----------+-----------+-------------------+----------+---------------------+-------------+\n",
      "|    3065|2021-03-01 23:36:02|      3055|          1|          1|                599|         0|                  599| wc-completed|\n",
      "|    3066|2021-03-01 23:52:34|      3055|          1|          1|                599|         0|                  599| wc-completed|\n",
      "|    3070|2021-03-02 00:22:42|      3055|          1|          1|                599|         0|                  599|wc-processing|\n",
      "|    3071|2021-03-02 00:32:14|      3055|          1|          1|                599|         0|                  599|wc-processing|\n",
      "|    3072|2021-03-02 00:44:48|      3055|          1|          1|                599|         0|                  599|wc-processing|\n",
      "+--------+-------------------+----------+-----------+-----------+-------------------+----------+---------------------+-------------+\n",
      "only showing top 5 rows\n",
      "\n"
     ]
    }
   ],
   "source": [
    "df_ordens_emp2.show(5)"
   ]
  },
  {
   "cell_type": "code",
   "execution_count": null,
   "id": "9fed9d1e",
   "metadata": {},
   "outputs": [],
   "source": [
    "# Normalizar colunas de data 'order_date'\n",
    "df_ordens_emp1 = df_ordens_emp1.withColumn(\"order_date_ts\", to_timestamp(col(\"order_date\"), \"yyyy-MM-dd HH:mm:ss\"))\n",
    "\n",
    "df_ordens_emp2 = df_ordens_emp2.withColumn(\"order_date_ts\", to_timestamp(col(\"order_date\"), \"yyyy-MM-dd HH:mm:ss\"))\n"
   ]
  },
  {
   "cell_type": "code",
   "execution_count": null,
   "id": "b42b2dbd",
   "metadata": {},
   "outputs": [],
   "source": [
    "df_clientes = df_clientes_emp1.unionByName(df_clientes_emp2)\n",
    "df_ordens = df_ordens_emp1.unionByName(df_ordens_emp2)\n",
    "df_productos = df_produtos_emp1.unionByName(df_produtos_emp2) "
   ]
  },
  {
   "cell_type": "code",
   "execution_count": null,
   "id": "f669a8bf",
   "metadata": {},
   "outputs": [],
   "source": [
    "# Calcular recência de la orden en dias - Usaremos en el RFM\n",
    "df_ordens = df_ordens.withColumn(\"recencia_ordem_dias\", datediff(current_date(), col(\"order_date_ts\")))"
   ]
  },
  {
   "cell_type": "code",
   "execution_count": null,
   "id": "8b5727f8",
   "metadata": {},
   "outputs": [
    {
     "name": "stdout",
     "output_type": "stream",
     "text": [
      "+--------+-------------------+-------------------+-------------------+\n",
      "|order_id|         order_date|      order_date_ts|recencia_ordem_dias|\n",
      "+--------+-------------------+-------------------+-------------------+\n",
      "|    1918|2024-04-16 23:14:42|2024-04-16 23:14:42|                389|\n",
      "|    2092|2024-04-18 10:06:57|2024-04-18 10:06:57|                387|\n",
      "|    2289|2024-04-18 17:45:10|2024-04-18 17:45:10|                387|\n",
      "|    2319|2024-04-19 09:53:17|2024-04-19 09:53:17|                386|\n",
      "|    2392|2024-04-19 15:12:21|2024-04-19 15:12:21|                386|\n",
      "+--------+-------------------+-------------------+-------------------+\n",
      "only showing top 5 rows\n",
      "\n"
     ]
    }
   ],
   "source": [
    "df_ordens.select(\"order_id\", \"order_date\", \"order_date_ts\", \"recencia_ordem_dias\").show(5)"
   ]
  },
  {
   "cell_type": "markdown",
   "id": "5b6c6fff",
   "metadata": {},
   "source": [
    "4. Análise RFM (Recência, Frequência, Monetário)"
   ]
  },
  {
   "cell_type": "code",
   "execution_count": null,
   "id": "e116c135",
   "metadata": {},
   "outputs": [],
   "source": [
    "from pyspark.sql.functions import max, countDistinct, sum, min , avg\n"
   ]
  },
  {
   "cell_type": "code",
   "execution_count": null,
   "id": "c75f9dca",
   "metadata": {},
   "outputs": [],
   "source": [
    "# Calcular Recência (R): Mínimo de dias desde la última compra por cliente\n",
    "rfm_r = df_ordens.groupBy(\"customer_id\") \\\n",
    "                 .agg(min(\"recencia_ordem_dias\").alias(\"Recencia\"))"
   ]
  },
  {
   "cell_type": "code",
   "execution_count": null,
   "id": "83a0c604",
   "metadata": {},
   "outputs": [],
   "source": [
    "# Calcular Frecuencia (F): Número total de ordenes distintas por cliente\n",
    "rfm_f = df_ordens.groupBy(\"customer_id\") \\\n",
    "                 .agg(countDistinct(\"order_id\").alias(\"Frequencia\"))"
   ]
  },
  {
   "cell_type": "code",
   "execution_count": null,
   "id": "360cf248",
   "metadata": {},
   "outputs": [],
   "source": [
    "# Calcular Monetário (M): Soma total del valor bruto gastado por cliente usando product_gross_revenue.\n",
    "rfm_m = df_ordens.groupBy(\"customer_id\") \\\n",
    "                 .agg(sum(\"product_gross_revenue\").alias(\"Monetario\"))"
   ]
  },
  {
   "cell_type": "code",
   "execution_count": null,
   "id": "52cb8fbf",
   "metadata": {},
   "outputs": [],
   "source": [
    "# Juntar R, F, M\n",
    "rfm_table = rfm_r.join(rfm_f, \"customer_id\", \"inner\") \\\n",
    "                 .join(rfm_m, \"customer_id\", \"inner\")"
   ]
  },
  {
   "cell_type": "code",
   "execution_count": null,
   "id": "4c1b2a9c",
   "metadata": {},
   "outputs": [
    {
     "name": "stdout",
     "output_type": "stream",
     "text": [
      "Tabla RFM:\n",
      "+-----------+--------+----------+---------+\n",
      "|customer_id|Recencia|Frequencia|Monetario|\n",
      "+-----------+--------+----------+---------+\n",
      "|       1342|     554|         2|  24860.0|\n",
      "|        471|    1311|         1|    928.0|\n",
      "|        463|     499|         2|  13483.0|\n",
      "|        833|     537|         2|   2729.0|\n",
      "|       1088|     695|         1|  37168.0|\n",
      "|        148|    1453|         1|   9500.0|\n",
      "|        737|     142|         3|  8165.28|\n",
      "|        623|    1116|         1|   7875.0|\n",
      "|       1127|     488|         1|  17235.0|\n",
      "|       1084|     535|         1|  21780.0|\n",
      "+-----------+--------+----------+---------+\n",
      "only showing top 10 rows\n",
      "\n"
     ]
    }
   ],
   "source": [
    "print(\"Tabla RFM:\")\n",
    "rfm_table.show(10)"
   ]
  },
  {
   "cell_type": "code",
   "execution_count": null,
   "id": "4f6e468a",
   "metadata": {},
   "outputs": [
    {
     "name": "stdout",
     "output_type": "stream",
     "text": [
      "+-----------+--------+----------+---------+\n",
      "|customer_id|Recencia|Frequencia|Monetario|\n",
      "+-----------+--------+----------+---------+\n",
      "|          0|       0|         0|        3|\n",
      "+-----------+--------+----------+---------+\n",
      "\n"
     ]
    }
   ],
   "source": [
    "# conteando valores nulos\n",
    "rfm_table.select([count(when(isnan(c) | col(c).isNull(), c)).alias(c) for c in rfm_table.columns]).show()"
   ]
  },
  {
   "cell_type": "code",
   "execution_count": null,
   "id": "01c28220",
   "metadata": {},
   "outputs": [],
   "source": [
    "from pyspark.sql.functions import mean\n",
    "\n",
    "# completamos con la media por no cambiar las condiciones del dataset.\n",
    "\n",
    "media = rfm_table.select(mean(\"Monetario\")).collect()[0][0]\n",
    "rfm_table = rfm_table.fillna({\"Monetario\": media})"
   ]
  },
  {
   "cell_type": "code",
   "execution_count": null,
   "id": "b6db4dea",
   "metadata": {},
   "outputs": [],
   "source": [
    "# Atribuir Scores RFM\n",
    "# Dividir cada métrica em N quantis \n",
    "\n",
    "from pyspark.ml.feature import QuantileDiscretizer"
   ]
  },
  {
   "cell_type": "markdown",
   "id": "2fa183fc",
   "metadata": {},
   "source": [
    "Scores: 1 (pior) a 5 (melhor). Recência: menor = melhor. Frequência/Monetário: maior = melhor."
   ]
  },
  {
   "cell_type": "code",
   "execution_count": null,
   "id": "2795475e",
   "metadata": {},
   "outputs": [],
   "source": [
    "# Recência Score (menor es mejor, así que invertemos las labels)\n",
    "quantile_discretizer_r = QuantileDiscretizer(numBuckets=5, inputCol=\"Recencia\", outputCol=\"R_Score_temp\", relativeError=0.01)\n",
    "rfm_table = quantile_discretizer_r.fit(rfm_table).transform(rfm_table)\n",
    "rfm_table = rfm_table.withColumn(\"R_Score\", (5 - col(\"R_Score_temp\")).cast(IntegerType())) # Inverte para 5 ser o melhor"
   ]
  },
  {
   "cell_type": "code",
   "execution_count": null,
   "id": "8f3dfa6f",
   "metadata": {},
   "outputs": [],
   "source": [
    "# Frecuencia Score (mayor es mejor)\n",
    "quantile_discretizer_f = QuantileDiscretizer(numBuckets=5, inputCol=\"Frequencia\", outputCol=\"F_Score_temp\", relativeError=0.01)\n",
    "rfm_table = quantile_discretizer_f.fit(rfm_table).transform(rfm_table)\n",
    "rfm_table = rfm_table.withColumn(\"F_Score\", (col(\"F_Score_temp\") + 1).cast(IntegerType())) # Ajusta para 1-5"
   ]
  },
  {
   "cell_type": "code",
   "execution_count": null,
   "id": "192a8793",
   "metadata": {},
   "outputs": [],
   "source": [
    "# Monetário Score (mayor es mejor)\n",
    "quantile_discretizer_m = QuantileDiscretizer(numBuckets=5, inputCol=\"Monetario\", outputCol=\"M_Score_temp\", relativeError=0.01)\n",
    "rfm_table = quantile_discretizer_m.fit(rfm_table).transform(rfm_table)\n",
    "rfm_table = rfm_table.withColumn(\"M_Score\", (col(\"M_Score_temp\") + 1).cast(IntegerType())) # Ajusta para 1-5"
   ]
  },
  {
   "cell_type": "code",
   "execution_count": null,
   "id": "9788d034",
   "metadata": {},
   "outputs": [],
   "source": [
    "# Combinar Scores RFM (concatenar como string)\n",
    "from pyspark.sql.functions import concat_ws"
   ]
  },
  {
   "cell_type": "code",
   "execution_count": null,
   "id": "32b64c03",
   "metadata": {},
   "outputs": [],
   "source": [
    "rfm_final = rfm_table.withColumn(\"RFM_Score\", concat_ws(\"\", col(\"R_Score\"), col(\"F_Score\"), col(\"M_Score\")))\n",
    "rfm_final = rfm_final.select(\"customer_id\", \"Recencia\", \"Frequencia\", \"Monetario\", \"R_Score\", \"F_Score\", \"M_Score\", \"RFM_Score\")"
   ]
  },
  {
   "cell_type": "code",
   "execution_count": null,
   "id": "87a2a855",
   "metadata": {},
   "outputs": [
    {
     "name": "stdout",
     "output_type": "stream",
     "text": [
      "Tabla RFM final con Scores:\n",
      "+-----------+--------+----------+---------+-------+-------+-------+---------+\n",
      "|customer_id|Recencia|Frequencia|Monetario|R_Score|F_Score|M_Score|RFM_Score|\n",
      "+-----------+--------+----------+---------+-------+-------+-------+---------+\n",
      "|       1342|     554|         2|  24860.0|      3|      3|      3|      333|\n",
      "|        471|    1311|         1|    928.0|      1|      2|      1|      121|\n",
      "|        463|     499|         2|  13483.0|      4|      3|      3|      433|\n",
      "|        833|     537|         2|   2729.0|      4|      3|      1|      431|\n",
      "|       1088|     695|         1|  37168.0|      3|      2|      4|      324|\n",
      "|        148|    1453|         1|   9500.0|      1|      2|      2|      122|\n",
      "|        737|     142|         3|  8165.28|      5|      3|      2|      532|\n",
      "|        623|    1116|         1|   7875.0|      1|      2|      2|      122|\n",
      "|       1127|     488|         1|  17235.0|      4|      2|      3|      423|\n",
      "|       1084|     535|         1|  21780.0|      4|      2|      3|      423|\n",
      "+-----------+--------+----------+---------+-------+-------+-------+---------+\n",
      "only showing top 10 rows\n",
      "\n"
     ]
    }
   ],
   "source": [
    "print(\"Tabla RFM final con Scores:\")\n",
    "rfm_final.show(10)"
   ]
  },
  {
   "cell_type": "markdown",
   "id": "363820c7",
   "metadata": {},
   "source": [
    "5. Clusterizacion de Clientes com K-Means (basado en RFM)"
   ]
  },
  {
   "cell_type": "code",
   "execution_count": null,
   "id": "531ea4d2",
   "metadata": {},
   "outputs": [],
   "source": [
    "from pyspark.ml.feature import VectorAssembler, StandardScaler, MinMaxScaler\n",
    "from pyspark.ml.clustering import KMeans\n",
    "from pyspark.ml.evaluation import ClusteringEvaluator"
   ]
  },
  {
   "cell_type": "code",
   "execution_count": null,
   "id": "4fac5b36",
   "metadata": {},
   "outputs": [],
   "source": [
    "# Seleccionar las colunas RFM para clusterizacion\n",
    "rfm_features = rfm_final.select(\"customer_id\", \"Recencia\", \"Frequencia\", \"Monetario\")\n",
    "\n"
   ]
  },
  {
   "cell_type": "code",
   "execution_count": null,
   "id": "7f43e769",
   "metadata": {},
   "outputs": [],
   "source": [
    "# Montar los vectores de las features\n",
    "vec_assembler = VectorAssembler(inputCols=[\"Recencia\", \"Frequencia\", \"Monetario\"], outputCol=\"rfm_features_raw\")\n",
    "rfm_vector = vec_assembler.transform(rfm_features)"
   ]
  },
  {
   "cell_type": "code",
   "execution_count": null,
   "id": "bed72d1a",
   "metadata": {},
   "outputs": [],
   "source": [
    "# Escalar las features (K-Means es sensible a escala)\n",
    "scaler = MinMaxScaler(inputCol=\"rfm_features_raw\", outputCol=\"features\")\n",
    "scaler_model = scaler.fit(rfm_vector)\n",
    "rfm_scaled = scaler_model.transform(rfm_vector)"
   ]
  },
  {
   "cell_type": "code",
   "execution_count": null,
   "id": "85ddcd89",
   "metadata": {},
   "outputs": [
    {
     "name": "stdout",
     "output_type": "stream",
     "text": [
      "Features RFM montadas y escaladas:\n",
      "+-----------+----------------------------------------------------------------+\n",
      "|customer_id|features                                                        |\n",
      "+-----------+----------------------------------------------------------------+\n",
      "|1342       |[0.29885057471264365,0.002277904328018223,0.002542315802879377] |\n",
      "|471        |[0.8426724137931034,0.0,9.480376319518815E-5]                   |\n",
      "|463        |[0.2593390804597701,0.002277904328018223,0.001378796478314484]  |\n",
      "|833        |[0.28663793103448276,0.002277904328018223,2.7899100970493344E-4]|\n",
      "|1088       |[0.40014367816091956,0.0,0.003801047968366298]                  |\n",
      "+-----------+----------------------------------------------------------------+\n",
      "only showing top 5 rows\n",
      "\n"
     ]
    }
   ],
   "source": [
    "print(\"Features RFM montadas y escaladas:\")\n",
    "rfm_scaled.select(\"customer_id\", \"features\").show(5, truncate=False)"
   ]
  },
  {
   "cell_type": "code",
   "execution_count": null,
   "id": "a59c8e9d",
   "metadata": {},
   "outputs": [],
   "source": [
    "kmeans = KMeans(featuresCol='features', predictionCol='cluster', k=3, seed=1)\n",
    "model = kmeans.fit(rfm_scaled)\n",
    "rfm_clusters = model.transform(rfm_scaled)\n",
    "\n",
    "# rfm_clusters: contiene columnas customer_id, Recencia, Frecuencia, Monetario, cluster"
   ]
  },
  {
   "cell_type": "markdown",
   "id": "23fa0a8b",
   "metadata": {},
   "source": [
    "Aplicar AHP sobre los resultados de K-Means\n",
    "1. Agregar métricas por clúster"
   ]
  },
  {
   "cell_type": "code",
   "execution_count": null,
   "id": "960f2b38",
   "metadata": {},
   "outputs": [
    {
     "name": "stdout",
     "output_type": "stream",
     "text": [
      "+-------+------------------+-------------------+---------------+------------------+\n",
      "|cluster| Recencia_promedio|Frequencia_promedio|numero_clientes|Monetario_promedio|\n",
      "+-------+------------------+-------------------+---------------+------------------+\n",
      "|      1| 1106.344680851064|  4.302127659574468|            235| 45660.33951643937|\n",
      "|      2|             487.6|              297.4|              5|       2760774.372|\n",
      "|      0|477.04398826979474| 13.222873900293255|            341| 146428.1912923358|\n",
      "+-------+------------------+-------------------+---------------+------------------+\n",
      "\n"
     ]
    }
   ],
   "source": [
    "# Agregar las métricas por cluster\n",
    "cluster_summary = rfm_clusters.groupBy(\"cluster\").agg(\n",
    "    {\"Recencia\": \"avg\", \"Frequencia\": \"avg\", \"Monetario\": \"avg\", \"*\": \"count\"}\n",
    ").withColumnRenamed(\"avg(Recencia)\", \"Recencia_promedio\") \\\n",
    " .withColumnRenamed(\"avg(Frequencia)\", \"Frequencia_promedio\") \\\n",
    " .withColumnRenamed(\"avg(Monetario)\", \"Monetario_promedio\") \\\n",
    " .withColumnRenamed(\"count(1)\", \"numero_clientes\")\n",
    "\n",
    "cluster_summary.show()"
   ]
  },
  {
   "cell_type": "markdown",
   "id": "93f164b0",
   "metadata": {},
   "source": [
    "2. Crear la matriz de comparación AHP en PySpark"
   ]
  },
  {
   "cell_type": "code",
   "execution_count": null,
   "id": "132c223f",
   "metadata": {},
   "outputs": [
    {
     "name": "stdout",
     "output_type": "stream",
     "text": [
      "+------------+----+---+---+\n",
      "|cluster_base|  C0| C1| C2|\n",
      "+------------+----+---+---+\n",
      "|          C0| 1.0|1.0|0.5|\n",
      "|          C1|0.33|1.0|1.0|\n",
      "|          C2| 2.0|3.0|1.0|\n",
      "+------------+----+---+---+\n",
      "\n"
     ]
    }
   ],
   "source": [
    "#from pyspark.sql import Row\n",
    "#from pyspark.sql.functions import col, lit, sum as spark_sum, avg\n",
    "\n",
    "# Crear lista de filas\n",
    "data = [\n",
    "    Row(cluster_base='C0', C0=1.0,  C1=1.0,   C2=0.5),\n",
    "    Row(cluster_base='C1', C0=0.33, C1=1.0,   C2=1.0),\n",
    "    Row(cluster_base='C2', C0=2.0,  C1=3.0,   C2=1.0),\n",
    "]\n",
    "\n",
    "# Crear DataFrame\n",
    "matriz_df = spark.createDataFrame(data)\n",
    "matriz_df.show()"
   ]
  },
  {
   "cell_type": "markdown",
   "id": "2a28fff9",
   "metadata": {},
   "source": [
    "3. Normalizar por columnas"
   ]
  },
  {
   "cell_type": "code",
   "execution_count": null,
   "id": "4304e196",
   "metadata": {},
   "outputs": [
    {
     "name": "stdout",
     "output_type": "stream",
     "text": [
      "+------------+------------------+---+---+\n",
      "|cluster_base|                C0| C1| C2|\n",
      "+------------+------------------+---+---+\n",
      "|          C0|0.3003003003003003|0.2|0.2|\n",
      "|          C1|0.0990990990990991|0.2|0.4|\n",
      "|          C2|0.6006006006006006|0.6|0.4|\n",
      "+------------+------------------+---+---+\n",
      "\n"
     ]
    }
   ],
   "source": [
    "# Calcular suma por columna\n",
    "column_sums = matriz_df.agg(\n",
    "    *[spark_sum(col(c)).alias(c) for c in matriz_df.columns if c != 'cluster_base']\n",
    ").collect()[0].asDict()\n",
    "\n",
    "# Normalizar cada columna dividiendo por la suma correspondiente\n",
    "for c in matriz_df.columns:\n",
    "    if c != 'cluster_base':\n",
    "        matriz_df = matriz_df.withColumn(\n",
    "            c, col(c) / lit(column_sums[c])\n",
    "        )\n",
    "\n",
    "matriz_df.show()"
   ]
  },
  {
   "cell_type": "markdown",
   "id": "774c9a18",
   "metadata": {},
   "source": [
    "4. Calcular el vector de prioridades (pesos AHP)"
   ]
  },
  {
   "cell_type": "code",
   "execution_count": null,
   "id": "04a30e7e",
   "metadata": {},
   "outputs": [
    {
     "name": "stdout",
     "output_type": "stream",
     "text": [
      "+------------+-------------------+\n",
      "|cluster_base|           peso_ahp|\n",
      "+------------+-------------------+\n",
      "|          C0|0.23343343343343345|\n",
      "|          C1|0.23303303303303302|\n",
      "|          C2| 0.5335335335335335|\n",
      "+------------+-------------------+\n",
      "\n"
     ]
    }
   ],
   "source": [
    "#from functools import reduce\n",
    "#from pyspark.sql.functions import col, lit\n",
    "# Obtener columnas que representan comparaciones\n",
    "comparacion_cols = [c for c in matriz_df.columns if c != 'cluster_base']\n",
    "\n",
    "# Calcular suma y luego el promedio por fila\n",
    "suma_columnas = reduce(lambda a, b: a + b, [col(c) for c in comparacion_cols])\n",
    "matriz_pesos = matriz_df.withColumn(\n",
    "    \"peso_ahp\", suma_columnas / lit(len(comparacion_cols))\n",
    ")\n",
    "\n",
    "# Resultado: peso de cada clúster según este criterio\n",
    "matriz_pesos.select(\"cluster_base\", \"peso_ahp\").show()"
   ]
  },
  {
   "cell_type": "code",
   "execution_count": null,
   "id": "1772c31e",
   "metadata": {},
   "outputs": [
    {
     "name": "stdout",
     "output_type": "stream",
     "text": [
      "Silhouette Score com k=2: 0.7741012606113868\n",
      "Silhouette Score com k=3: 0.7931413306674371\n",
      "Silhouette Score com k=4: 0.6594493165402878\n",
      "Silhouette Score com k=5: 0.7161753394280922\n",
      "Silhouette Score com k=6: 0.6814792860702036\n",
      "Silhouette Score com k=7: 0.48723325460501016\n",
      "Silhouette Score com k=8: 0.7550625990317968\n",
      "Silhouette Score com k=9: 0.7529892573817819\n",
      "Silhouette Score com k=10: 0.7285835125996952\n",
      "Silhouette Score com k=11: 0.6837788777315721\n",
      "Silhouette Score com k=12: 0.6992553619543952\n",
      "Silhouette Score com k=13: 0.6839423404858218\n",
      "Silhouette Score com k=14: 0.6943837330510066\n",
      "Silhouette Score com k=15: 0.64850580941699\n",
      "Silhouette Score com k=16: 0.638077636745644\n",
      "Silhouette Score com k=17: 0.6368044367240031\n",
      "Silhouette Score com k=18: 0.6125112847815322\n",
      "Silhouette Score com k=19: 0.614033752496737\n"
     ]
    }
   ],
   "source": [
    "# Usando Silhouette para decidir la cantidad de clusters\n",
    "\n",
    "k = 2\n",
    "while k < 20:\n",
    "    kmeans = KMeans(featuresCol=\"features\", k=k, seed=1)\n",
    "    model = kmeans.fit(rfm_scaled)\n",
    "    predictions = model.transform(rfm_scaled)\n",
    "    evaluator = ClusteringEvaluator(featuresCol='features', metricName='silhouette', distanceMeasure='squaredEuclidean')\n",
    "    silhouette = evaluator.evaluate(predictions)\n",
    "    print(f\"Silhouette Score com k={k}: {silhouette}\")\n",
    "    k+=1"
   ]
  },
  {
   "cell_type": "markdown",
   "id": "e5451048",
   "metadata": {},
   "source": [
    "# ¿Qué es el *Silhouette Score* en Machine Learning y Clustering?\n",
    "\n",
    "El **Silhouette Score** es una métrica que evalúa la calidad de los clusters generados por un algoritmo de *clustering* no supervisado, como **K-Means**, **DBSCAN**, o **clustering jerárquico**.\n",
    "\n",
    "## ¿Cómo se calcula?\n",
    "\n",
    "Para cada punto \\( i \\):\n",
    "\n",
    "- \\( a(i) \\): Distancia media a los demás puntos dentro del mismo cluster.\n",
    "- \\( b(i) \\): Distancia media al cluster más cercano al que no pertenece.\n",
    "\n",
    "\\[\n",
    "s(i) = \\frac{b(i) - a(i)}{\\max(a(i), b(i))}\n",
    "\\]\n",
    "\n",
    "- \\( s(i) \\) cercano a **1** → buena asignación.\n",
    "- \\( s(i) \\) cercano a **0** → punto entre dos clusters.\n",
    "- \\( s(i) \\) negativo → probablemente mal asignado.\n",
    "\n",
    "## Interpretación del promedio\n",
    "\n",
    "\\[\n",
    "\\text{Silhouette Score promedio} = \\frac{1}{n} \\sum_{i=1}^{n} s(i)\n",
    "\\]\n",
    "\n",
    "- **> 0.7** → Clustering fuerte y bien definido.\n",
    "- **0.5 a 0.7** → Estructura razonable.\n",
    "- **< 0.5** → Clusters solapados o mal definidos.\n",
    "\n",
    "## Usos\n",
    "\n",
    "- Comparar diferentes configuraciones de clustering (por ejemplo, distintos valores de \\( k \\) en K-Means).\n",
    "- Identificar posibles outliers.\n",
    "- Elegir el número óptimo de clusters."
   ]
  },
  {
   "cell_type": "code",
   "execution_count": null,
   "id": "cbfca445",
   "metadata": {},
   "outputs": [
    {
     "name": "stdout",
     "output_type": "stream",
     "text": [
      "Clientes atribuídos a 3 clusters:\n",
      "+-----------+----------+\n",
      "|customer_id|prediction|\n",
      "+-----------+----------+\n",
      "|       1342|         0|\n",
      "|        471|         1|\n",
      "|        463|         0|\n",
      "|        833|         0|\n",
      "|       1088|         0|\n",
      "|        148|         1|\n",
      "|        737|         0|\n",
      "|        623|         1|\n",
      "|       1127|         0|\n",
      "|       1084|         0|\n",
      "+-----------+----------+\n",
      "only showing top 10 rows\n",
      "\n"
     ]
    }
   ],
   "source": [
    "# Despues de medir la cantidad de clusters, nos quedamos con 4, \n",
    "# pues se considera 2 poco y con 4 tenemos una clusterizacion cerca de 0.7.\n",
    "\n",
    "k = 3\n",
    "kmeans = KMeans(featuresCol=\"features\", k=k, seed=1)\n",
    "model = kmeans.fit(rfm_scaled)\n",
    "\n",
    "# Predicir (poner clusters a los clientes)\n",
    "predictions = model.transform(rfm_scaled)\n",
    "\n",
    "print(f\"Clientes atribuídos a {k} clusters:\")\n",
    "predictions.select(\"customer_id\", \"prediction\").show(10)"
   ]
  },
  {
   "cell_type": "code",
   "execution_count": null,
   "id": "c4b9854a",
   "metadata": {},
   "outputs": [
    {
     "name": "stdout",
     "output_type": "stream",
     "text": [
      "Silhouette Score com k=3: 0.7931413306674371\n"
     ]
    }
   ],
   "source": [
    "# Avaliar la clusterizacion (Silhouette Score)\n",
    "\n",
    "evaluator = ClusteringEvaluator(featuresCol='features', metricName='silhouette', distanceMeasure='squaredEuclidean')\n",
    "silhouette = evaluator.evaluate(predictions)\n",
    "print(f\"Silhouette Score com k={k}: {silhouette}\")"
   ]
  },
  {
   "cell_type": "code",
   "execution_count": null,
   "id": "58d51a7d",
   "metadata": {},
   "outputs": [
    {
     "data": {
      "image/png": "[encoded data removed]",
      "text/plain": [
       "<Figure size 1000x600 with 1 Axes>"
      ]
     },
     "metadata": {},
     "output_type": "display_data"
    }
   ],
   "source": [
    "import numpy as np\n",
    "import matplotlib.pyplot as plt\n",
    "from sklearn.metrics import silhouette_samples\n",
    "\n",
    "# Graficamos Silhouette score.\n",
    "\n",
    "pred_pd = predictions.select(\"features\", \"prediction\").toPandas()\n",
    "X = np.vstack(pred_pd[\"features\"].values)\n",
    "labels = pred_pd[\"prediction\"].values\n",
    "\n",
    "sample_values = silhouette_samples(X, labels)\n",
    "\n",
    "plt.figure(figsize=(10, 6))\n",
    "y_lower = 10\n",
    "for i in np.unique(labels):\n",
    "    ith_cluster_silhouette_values = sample_values[labels == i]\n",
    "    ith_cluster_silhouette_values.sort()\n",
    "    size_cluster_i = ith_cluster_silhouette_values.shape[0]\n",
    "    y_upper = y_lower + size_cluster_i\n",
    "    plt.fill_betweenx(np.arange(y_lower, y_upper),\n",
    "                      0, ith_cluster_silhouette_values)\n",
    "    plt.text(-0.05, y_lower + 0.5 * size_cluster_i, str(i))\n",
    "    y_lower = y_upper + 10\n",
    "\n",
    "plt.axvline(x=silhouette, color=\"red\", linestyle=\"--\")\n",
    "plt.xlabel(\"Silhouette coefficient values\")\n",
    "plt.ylabel(\"Cluster\")\n",
    "plt.title(\"Grafica de Silhouette\")\n",
    "plt.show()"
   ]
  },
  {
   "cell_type": "code",
   "execution_count": null,
   "id": "ff9822af",
   "metadata": {},
   "outputs": [
    {
     "name": "stdout",
     "output_type": "stream",
     "text": [
      "Tabela final com RFM Scores e Cluster:\n",
      "+-----------+--------+----------+---------+-------+-------+-------+---------+-------+\n",
      "|customer_id|Recencia|Frequencia|Monetario|R_Score|F_Score|M_Score|RFM_Score|cluster|\n",
      "+-----------+--------+----------+---------+-------+-------+-------+---------+-------+\n",
      "|          0|    1003|         1|  56700.0|      2|      2|      4|      224|      1|\n",
      "|          1|     514|        22|   9100.0|      4|      5|      2|      452|      0|\n",
      "|          2|    1530|         1|   2796.0|      1|      2|      1|      121|      1|\n",
      "|          5|    1529|         2|    658.0|      1|      3|      1|      131|      1|\n",
      "|          8|     509|         9| 102256.0|      4|      4|      4|      444|      0|\n",
      "|         10|     684|         6|  10556.0|      3|      4|      2|      342|      0|\n",
      "|         12|     899|        12| 434396.0|      2|      5|      5|      255|      1|\n",
      "|         13|     901|         8| 712876.0|      2|      4|      5|      245|      1|\n",
      "|         15|     485|        19| 989494.0|      4|      5|      5|      455|      0|\n",
      "|         16|     901|         3| 210368.0|      2|      3|      5|      235|      1|\n",
      "+-----------+--------+----------+---------+-------+-------+-------+---------+-------+\n",
      "only showing top 10 rows\n",
      "\n"
     ]
    }
   ],
   "source": [
    "# Juntar las previsiones de cluster con la tabla RFM final\n",
    "clientes_clusterizados = rfm_final.join(predictions.select(\"customer_id\", col(\"prediction\").alias(\"cluster\")), \"customer_id\", \"inner\")\n",
    "print(\"Tabela final com RFM Scores e Cluster:\")\n",
    "clientes_clusterizados.show(10)"
   ]
  },
  {
   "cell_type": "code",
   "execution_count": null,
   "id": "e3c64ad3",
   "metadata": {},
   "outputs": [
    {
     "name": "stdout",
     "output_type": "stream",
     "text": [
      "\n",
      "Análise das características médias por cluster:\n",
      "+-------+------------------+------------------+------------------+------------+\n",
      "|cluster|    Recencia_Media|  Frequencia_Media|   Monetario_Medio|Num_Clientes|\n",
      "+-------+------------------+------------------+------------------+------------+\n",
      "|      0|477.04398826979474|13.222873900293255|146428.19129233577|         341|\n",
      "|      1| 1106.344680851064| 4.302127659574468|45660.339516439366|         235|\n",
      "|      2|             487.6|             297.4|       2760774.372|           5|\n",
      "+-------+------------------+------------------+------------------+------------+\n",
      "\n"
     ]
    }
   ],
   "source": [
    "# Analisar las características de cada cluster\n",
    "print(\"\\nAnálise das características médias por cluster:\")\n",
    "clientes_clusterizados.groupBy(\"cluster\") \\\n",
    "    .agg(avg(\"Recencia\").alias(\"Recencia_Media\"), \\\n",
    "         avg(\"Frequencia\").alias(\"Frequencia_Media\"), \\\n",
    "         avg(\"Monetario\").alias(\"Monetario_Medio\"), \\\n",
    "         countDistinct(\"customer_id\").alias(\"Num_Clientes\")) \\\n",
    "    .orderBy(\"cluster\") \\\n",
    "    .show()"
   ]
  },
  {
   "cell_type": "markdown",
   "id": "bac726b1",
   "metadata": {},
   "source": [
    "Modelo para analisis de la clusterizacion."
   ]
  },
  {
   "cell_type": "code",
   "execution_count": null,
   "id": "b3efb560",
   "metadata": {},
   "outputs": [],
   "source": [
    "from pyspark.ml import Pipeline\n",
    "from pyspark.ml.feature import VectorAssembler, StringIndexer\n",
    "from pyspark.ml.classification import RandomForestClassifier\n",
    "from pyspark.ml.classification import GBTClassifier\n",
    "from pyspark.ml.evaluation import MulticlassClassificationEvaluator\n",
    "from pyspark.mllib.evaluation import MulticlassMetrics\n",
    "\n",
    "#Usando solo las columnas que vamos analisar\n",
    "Gboost_data = clientes_clusterizados[\"R_Score\",\"F_Score\",\"M_Score\", \"cluster\"]\n",
    "\n",
    "# Indexação da variável target\n",
    "label_indexer = StringIndexer(inputCol=\"cluster\", outputCol=\"indexedLabel\")\n",
    "\n",
    "# Vetorização das features\n",
    "feature_assembler = VectorAssembler(\n",
    "    inputCols=[\"R_Score\", \"F_Score\", \"M_Score\"],\n",
    "    outputCol=\"features\"\n",
    ")\n"
   ]
  },
  {
   "cell_type": "code",
   "execution_count": null,
   "id": "53b052d1",
   "metadata": {},
   "outputs": [
    {
     "name": "stderr",
     "output_type": "stream",
     "text": [
      "/usr/local/spark/python/pyspark/sql/context.py:158: FutureWarning: Deprecated in 3.0.0. Use SparkSession.builder.getOrCreate() instead.\n",
      "  warnings.warn(\n"
     ]
    },
    {
     "name": "stdout",
     "output_type": "stream",
     "text": [
      "Accuracy: 0.98\n",
      "Confusion Matrix:\n",
      "DenseMatrix([[81.,  1.,  0.],\n",
      "             [ 0., 63.,  0.],\n",
      "             [ 2.,  0.,  0.]])\n"
     ]
    }
   ],
   "source": [
    "\n",
    "\n",
    "# Modelo GBT - No funciona en este caso pues trabaja solo con binarios. ASi que cambiamos a un randon forest.\n",
    "gbt = GBTClassifier(labelCol=\"indexedLabel\", featuresCol=\"features\", maxIter=10)\n",
    "\n",
    "#Modelo Randon Forest\n",
    "rf = RandomForestClassifier(labelCol=\"indexedLabel\", featuresCol=\"features\", numTrees=100)\n",
    "\n",
    "# Pipeline\n",
    "pipeline = Pipeline(stages=[label_indexer, feature_assembler, rf])\n",
    "\n",
    "(train_data, test_data) = Gboost_data.randomSplit([0.7, 0.3], seed=42)\n",
    " \n",
    "# Treinamento\n",
    "model = pipeline.fit(train_data)\n",
    "\n",
    "# Previsão\n",
    "predictions = model.transform(test_data)\n",
    "\n",
    "# Avaliação\n",
    "evaluator = MulticlassClassificationEvaluator(\n",
    "    labelCol=\"indexedLabel\", predictionCol=\"prediction\", metricName=\"accuracy\"\n",
    ")\n",
    "accuracy = evaluator.evaluate(predictions)\n",
    "\n",
    "predictionAndLabels = predictions.select(\"prediction\", \"indexedLabel\").rdd.map(tuple)\n",
    "metrics = MulticlassMetrics(predictionAndLabels)\n",
    "\n",
    "print(f\"Accuracy: {accuracy:.2f}\")\n",
    "print(\"Confusion Matrix:\")\n",
    "print(metrics.confusionMatrix())\n",
    "\n"
   ]
  },
  {
   "cell_type": "markdown",
   "id": "ae5adaa6",
   "metadata": {},
   "source": [
    "6. Modelo de Recomendaciones de Productos (ALS - Collaborative Filtering)"
   ]
  },
  {
   "cell_type": "code",
   "execution_count": null,
   "id": "e85d294a",
   "metadata": {},
   "outputs": [],
   "source": [
    "from pyspark.ml.recommendation import ALS\n",
    "from pyspark.sql.functions import expr"
   ]
  },
  {
   "cell_type": "code",
   "execution_count": null,
   "id": "674e88fb",
   "metadata": {},
   "outputs": [],
   "source": [
    "# Certificar que os IDs são inteiros e não nulos\n",
    "als_data = df_ordens.select(\n",
    "    col(\"customer_id\").cast(IntegerType()),\n",
    "    col(\"product_id\").cast(IntegerType()),\n",
    "    col(\"product_qty\").cast(FloatType()) # Usando cantidad como 'rating' implícito\n",
    ").na.drop() # Quitar lineas donde customer_id o product_id son nulos mismo despues del cast"
   ]
  },
  {
   "cell_type": "code",
   "execution_count": null,
   "id": "01b2b385",
   "metadata": {},
   "outputs": [],
   "source": [
    "# renombrar columnas para el patron de ALS\n",
    "als_data = als_data.withColumnRenamed(\"customer_id\", \"userCol\") \\\n",
    "                   .withColumnRenamed(\"product_id\", \"itemCol\") \\\n",
    "                   .withColumnRenamed(\"product_qty\", \"ratingCol\")"
   ]
  },
  {
   "cell_type": "code",
   "execution_count": null,
   "id": "113ec314",
   "metadata": {},
   "outputs": [],
   "source": [
    "# Dividir datos en train y test \n",
    "(training, test) = als_data.randomSplit([0.8, 0.2], seed=1234)"
   ]
  },
  {
   "cell_type": "code",
   "execution_count": null,
   "id": "0ddff4a1",
   "metadata": {},
   "outputs": [],
   "source": [
    "# Construir modelo ALS con una configuracion basica\n",
    "als_model = ALS(userCol=\"userCol\", itemCol=\"itemCol\", ratingCol=\"ratingCol\",\n",
    "          implicitPrefs=True, coldStartStrategy=\"drop\",\n",
    "          nonnegative=True)"
   ]
  },
  {
   "cell_type": "code",
   "execution_count": null,
   "id": "91371b80",
   "metadata": {},
   "outputs": [
    {
     "ename": "KeyboardInterrupt",
     "evalue": "",
     "output_type": "error",
     "traceback": [
      "\u001b[0;31m---------------------------------------------------------------------------\u001b[0m",
      "\u001b[0;31mIndexError\u001b[0m                                Traceback (most recent call last)",
      "File \u001b[0;32m/opt/conda/lib/python3.11/multiprocessing/pool.py:856\u001b[0m, in \u001b[0;36mIMapIterator.next\u001b[0;34m(self, timeout)\u001b[0m\n\u001b[1;32m    855\u001b[0m \u001b[38;5;28;01mtry\u001b[39;00m:\n\u001b[0;32m--> 856\u001b[0m     item \u001b[38;5;241m=\u001b[39m \u001b[38;5;28;43mself\u001b[39;49m\u001b[38;5;241;43m.\u001b[39;49m\u001b[43m_items\u001b[49m\u001b[38;5;241;43m.\u001b[39;49m\u001b[43mpopleft\u001b[49m\u001b[43m(\u001b[49m\u001b[43m)\u001b[49m\n\u001b[1;32m    857\u001b[0m \u001b[38;5;28;01mexcept\u001b[39;00m \u001b[38;5;167;01mIndexError\u001b[39;00m:\n",
      "\u001b[0;31mIndexError\u001b[0m: pop from an empty deque",
      "\nDuring handling of the above exception, another exception occurred:\n",
      "\u001b[0;31mKeyboardInterrupt\u001b[0m                         Traceback (most recent call last)",
      "Cell \u001b[0;32mIn[136], line 23\u001b[0m\n\u001b[1;32m     17\u001b[0m cv \u001b[38;5;241m=\u001b[39m CrossValidator(estimator\u001b[38;5;241m=\u001b[39mals_model,\n\u001b[1;32m     18\u001b[0m                     estimatorParamMaps\u001b[38;5;241m=\u001b[39mparamGrid,\n\u001b[1;32m     19\u001b[0m                     evaluator\u001b[38;5;241m=\u001b[39mevaluator,\n\u001b[1;32m     20\u001b[0m                     numFolds\u001b[38;5;241m=\u001b[39m\u001b[38;5;241m3\u001b[39m)\n\u001b[1;32m     22\u001b[0m \u001b[38;5;66;03m# Entrenar el modelo\u001b[39;00m\n\u001b[0;32m---> 23\u001b[0m cv_model \u001b[38;5;241m=\u001b[39m \u001b[43mcv\u001b[49m\u001b[38;5;241;43m.\u001b[39;49m\u001b[43mfit\u001b[49m\u001b[43m(\u001b[49m\u001b[43mtraining\u001b[49m\u001b[43m)\u001b[49m\n\u001b[1;32m     25\u001b[0m \u001b[38;5;66;03m# Mejor modelo\u001b[39;00m\n\u001b[1;32m     26\u001b[0m mejor_modelo \u001b[38;5;241m=\u001b[39m cv_model\u001b[38;5;241m.\u001b[39mbestModel\n",
      "File \u001b[0;32m/usr/local/spark/python/pyspark/ml/base.py:205\u001b[0m, in \u001b[0;36mEstimator.fit\u001b[0;34m(self, dataset, params)\u001b[0m\n\u001b[1;32m    203\u001b[0m         \u001b[38;5;28;01mreturn\u001b[39;00m \u001b[38;5;28mself\u001b[39m\u001b[38;5;241m.\u001b[39mcopy(params)\u001b[38;5;241m.\u001b[39m_fit(dataset)\n\u001b[1;32m    204\u001b[0m     \u001b[38;5;28;01melse\u001b[39;00m:\n\u001b[0;32m--> 205\u001b[0m         \u001b[38;5;28;01mreturn\u001b[39;00m \u001b[38;5;28;43mself\u001b[39;49m\u001b[38;5;241;43m.\u001b[39;49m\u001b[43m_fit\u001b[49m\u001b[43m(\u001b[49m\u001b[43mdataset\u001b[49m\u001b[43m)\u001b[49m\n\u001b[1;32m    206\u001b[0m \u001b[38;5;28;01melse\u001b[39;00m:\n\u001b[1;32m    207\u001b[0m     \u001b[38;5;28;01mraise\u001b[39;00m \u001b[38;5;167;01mTypeError\u001b[39;00m(\n\u001b[1;32m    208\u001b[0m         \u001b[38;5;124m\"\u001b[39m\u001b[38;5;124mParams must be either a param map or a list/tuple of param maps, \u001b[39m\u001b[38;5;124m\"\u001b[39m\n\u001b[1;32m    209\u001b[0m         \u001b[38;5;124m\"\u001b[39m\u001b[38;5;124mbut got \u001b[39m\u001b[38;5;132;01m%s\u001b[39;00m\u001b[38;5;124m.\u001b[39m\u001b[38;5;124m\"\u001b[39m \u001b[38;5;241m%\u001b[39m \u001b[38;5;28mtype\u001b[39m(params)\n\u001b[1;32m    210\u001b[0m     )\n",
      "File \u001b[0;32m/usr/local/spark/python/pyspark/ml/tuning.py:847\u001b[0m, in \u001b[0;36mCrossValidator._fit\u001b[0;34m(self, dataset)\u001b[0m\n\u001b[1;32m    841\u001b[0m train \u001b[38;5;241m=\u001b[39m datasets[i][\u001b[38;5;241m0\u001b[39m]\u001b[38;5;241m.\u001b[39mcache()\n\u001b[1;32m    843\u001b[0m tasks \u001b[38;5;241m=\u001b[39m \u001b[38;5;28mmap\u001b[39m(\n\u001b[1;32m    844\u001b[0m     inheritable_thread_target,\n\u001b[1;32m    845\u001b[0m     _parallelFitTasks(est, train, eva, validation, epm, collectSubModelsParam),\n\u001b[1;32m    846\u001b[0m )\n\u001b[0;32m--> 847\u001b[0m \u001b[38;5;28;01mfor\u001b[39;00m j, metric, subModel \u001b[38;5;129;01min\u001b[39;00m pool\u001b[38;5;241m.\u001b[39mimap_unordered(\u001b[38;5;28;01mlambda\u001b[39;00m f: f(), tasks):\n\u001b[1;32m    848\u001b[0m     metrics_all[i][j] \u001b[38;5;241m=\u001b[39m metric\n\u001b[1;32m    849\u001b[0m     \u001b[38;5;28;01mif\u001b[39;00m collectSubModelsParam:\n",
      "File \u001b[0;32m/opt/conda/lib/python3.11/multiprocessing/pool.py:861\u001b[0m, in \u001b[0;36mIMapIterator.next\u001b[0;34m(self, timeout)\u001b[0m\n\u001b[1;32m    859\u001b[0m     \u001b[38;5;28mself\u001b[39m\u001b[38;5;241m.\u001b[39m_pool \u001b[38;5;241m=\u001b[39m \u001b[38;5;28;01mNone\u001b[39;00m\n\u001b[1;32m    860\u001b[0m     \u001b[38;5;28;01mraise\u001b[39;00m \u001b[38;5;167;01mStopIteration\u001b[39;00m \u001b[38;5;28;01mfrom\u001b[39;00m \u001b[38;5;28;01mNone\u001b[39;00m\n\u001b[0;32m--> 861\u001b[0m \u001b[38;5;28;43mself\u001b[39;49m\u001b[38;5;241;43m.\u001b[39;49m\u001b[43m_cond\u001b[49m\u001b[38;5;241;43m.\u001b[39;49m\u001b[43mwait\u001b[49m\u001b[43m(\u001b[49m\u001b[43mtimeout\u001b[49m\u001b[43m)\u001b[49m\n\u001b[1;32m    862\u001b[0m \u001b[38;5;28;01mtry\u001b[39;00m:\n\u001b[1;32m    863\u001b[0m     item \u001b[38;5;241m=\u001b[39m \u001b[38;5;28mself\u001b[39m\u001b[38;5;241m.\u001b[39m_items\u001b[38;5;241m.\u001b[39mpopleft()\n",
      "File \u001b[0;32m/opt/conda/lib/python3.11/threading.py:327\u001b[0m, in \u001b[0;36mCondition.wait\u001b[0;34m(self, timeout)\u001b[0m\n\u001b[1;32m    325\u001b[0m \u001b[38;5;28;01mtry\u001b[39;00m:    \u001b[38;5;66;03m# restore state no matter what (e.g., KeyboardInterrupt)\u001b[39;00m\n\u001b[1;32m    326\u001b[0m     \u001b[38;5;28;01mif\u001b[39;00m timeout \u001b[38;5;129;01mis\u001b[39;00m \u001b[38;5;28;01mNone\u001b[39;00m:\n\u001b[0;32m--> 327\u001b[0m         \u001b[43mwaiter\u001b[49m\u001b[38;5;241;43m.\u001b[39;49m\u001b[43macquire\u001b[49m\u001b[43m(\u001b[49m\u001b[43m)\u001b[49m\n\u001b[1;32m    328\u001b[0m         gotit \u001b[38;5;241m=\u001b[39m \u001b[38;5;28;01mTrue\u001b[39;00m\n\u001b[1;32m    329\u001b[0m     \u001b[38;5;28;01melse\u001b[39;00m:\n",
      "\u001b[0;31mKeyboardInterrupt\u001b[0m: "
     ]
    }
   ],
   "source": [
    "from pyspark.sql.functions import explode\n",
    "from pyspark.ml.tuning import CrossValidator, ParamGridBuilder\n",
    "from pyspark.ml.evaluation import RegressionEvaluator\n",
    "\n",
    "# test de los hiperparametros para ajuste.\n",
    "paramGrid = ParamGridBuilder() \\\n",
    "    .addGrid(als_model.rank, [10, 20, 30]) \\\n",
    "    .addGrid(als_model.regParam, [0.01, 0.1, 1.0]) \\\n",
    "    .addGrid(als_model.alpha, [0.5, 1.0, 2.0]) \\\n",
    "    .build()\n",
    "\n",
    "\n",
    "#cross validator Evaluator\n",
    "\n",
    "evaluator = RegressionEvaluator(metricName=\"rmse\", labelCol=\"ratingCol\", predictionCol=\"prediction\")\n",
    "\n",
    "cv = CrossValidator(estimator=als_model,\n",
    "                    estimatorParamMaps=paramGrid,\n",
    "                    evaluator=evaluator,\n",
    "                    numFolds=3)\n",
    "\n",
    "# Entrenar el modelo\n",
    "cv_model = cv.fit(training)\n",
    "\n",
    "# Mejor modelo\n",
    "mejor_modelo = cv_model.bestModel\n",
    "\n",
    "# Previsiones en el conjunto de test\n",
    "previsoes = mejor_modelo.transform(test)\n",
    "\n",
    "# Cálculo de RMSE y MAE\n",
    "rmse = evaluator.evaluate(previsoes.na.drop(subset=[\"prediction\"]))\n",
    "print(f\"Melhor RMSE no teste: {rmse}\")\n",
    "evaluator_mae = RegressionEvaluator(metricName=\"mae\", labelCol=\"ratingCol\", predictionCol=\"prediction\")\n",
    "mae = evaluator_mae.evaluate(previsoes)\n",
    "print(f\"Mean Absolute Error (MAE):    {mae:.4f}\")\n",
    "\n",
    "# Generar las recomendaciones formatadas\n",
    "recomendaciones = mejor_modelo.recommendForAllUsers(5)\n"
   ]
  },
  {
   "cell_type": "code",
   "execution_count": null,
   "id": "c2f272ec",
   "metadata": {},
   "outputs": [
    {
     "name": "stdout",
     "output_type": "stream",
     "text": [
      "Top 5 Recomendaciones por usuario (IDs de Produto):\n",
      "+-------+-------------------------------------------------------------------------------------------------------+\n",
      "|userCol|recommendations                                                                                        |\n",
      "+-------+-------------------------------------------------------------------------------------------------------+\n",
      "|580    |[{5674, 0.8311895}, {2418, 0.7814818}, {14536, 0.75606006}, {19808, 0.74783796}, {17766, 0.7012954}]   |\n",
      "|470    |[{19808, 0.93692124}, {20412, 0.88025147}, {12956, 0.7969291}, {14536, 0.6735073}, {2418, 0.66678643}] |\n",
      "|430    |[{2678, 1.188983}, {13610, 1.1402546}, {13609, 1.1097128}, {10594, 1.1010408}, {16620, 1.1009189}]     |\n",
      "|450    |[{12936, 0.6646481}, {21148, 0.44092023}, {20262, 0.43391424}, {2786, 0.4117555}, {14619, 0.39823347}] |\n",
      "|80     |[{15167, 1.8881321}, {10945, 1.2174681}, {11630, 1.0428602}, {6685, 1.02357}, {14808, 0.9978072}]      |\n",
      "|60     |[{2786, 1.3523881}, {12956, 1.0637974}, {10184, 1.0612406}, {12309, 1.0292344}, {963, 1.0271432}]      |\n",
      "|260    |[{14288, 0.04341869}, {5669, 0.0417743}, {614, 0.03954354}, {12913, 0.038924243}, {11668, 0.0365305}]  |\n",
      "|270    |[{10181, 0.91629666}, {15167, 0.89899695}, {1584, 0.79293084}, {14745, 0.7760306}, {13594, 0.73706335}]|\n",
      "|690    |[{963, 0.105619214}, {4064, 0.10553084}, {13449, 0.10487307}, {13746, 0.10315181}, {14914, 0.10193962}]|\n",
      "|30     |[{14288, 1.0429096}, {13437, 1.0123707}, {5669, 1.0034115}, {4189, 0.97344345}, {11668, 0.96854705}]   |\n",
      "+-------+-------------------------------------------------------------------------------------------------------+\n",
      "only showing top 10 rows\n",
      "\n"
     ]
    }
   ],
   "source": [
    "print(\"Top 5 Recomendaciones por usuario (IDs de Produto):\")\n",
    "recomendaciones.show(10, truncate=False)"
   ]
  },
  {
   "cell_type": "code",
   "execution_count": null,
   "id": "84ce206f",
   "metadata": {},
   "outputs": [
    {
     "name": "stdout",
     "output_type": "stream",
     "text": [
      "Recomendaciones formateadas (Usuário, Produto ID, Rating Predito):\n",
      "+-------+----------+----------------+\n",
      "|userCol|product_id|predicted_rating|\n",
      "+-------+----------+----------------+\n",
      "|    580|      5674|       0.8311895|\n",
      "|    580|      2418|       0.7814818|\n",
      "|    580|     14536|      0.75606006|\n",
      "|    580|     19808|      0.74783796|\n",
      "|    580|     17766|       0.7012954|\n",
      "|    470|     19808|      0.93692124|\n",
      "|    470|     20412|      0.88025147|\n",
      "|    470|     12956|       0.7969291|\n",
      "|    470|     14536|       0.6735073|\n",
      "|    470|      2418|      0.66678643|\n",
      "|    430|      2678|        1.188983|\n",
      "|    430|     13610|       1.1402546|\n",
      "|    430|     13609|       1.1097128|\n",
      "|    430|     10594|       1.1010408|\n",
      "|    430|     16620|       1.1009189|\n",
      "|    450|     12936|       0.6646481|\n",
      "|    450|     21148|      0.44092023|\n",
      "|    450|     20262|      0.43391424|\n",
      "|    450|      2786|       0.4117555|\n",
      "|    450|     14619|      0.39823347|\n",
      "+-------+----------+----------------+\n",
      "only showing top 20 rows\n",
      "\n"
     ]
    }
   ],
   "source": [
    "# Formatear las recomendaciones para mejor visualizarlas\n",
    "user_recs_formatted = recomendaciones.withColumn(\"rec_exp\", expr(\"explode(recommendations)\")) \\\n",
    "                               .select(\"userCol\", col(\"rec_exp.itemCol\").alias(\"product_id\"), col(\"rec_exp.rating\").alias(\"predicted_rating\"))\n",
    "print(\"Recomendaciones formateadas (Usuário, Produto ID, Rating Predito):\")\n",
    "user_recs_formatted.show(20)"
   ]
  },
  {
   "cell_type": "code",
   "execution_count": null,
   "id": "bb7e8d8a",
   "metadata": {},
   "outputs": [],
   "source": [
    "# Juntar con nombres de productos para que sean mas legíveis\n",
    "# Seleccionar apenas id e nombre del producto para el join\n",
    "df_produtos_nomes = df_produtos.select(col(\"product_id\").cast(IntegerType()), \"post_title\")\n",
    "\n",
    "user_recs_final = user_recs_formatted.join(df_produtos_nomes, user_recs_formatted.product_id == df_produtos_nomes.product_id, \"left\") \\\n",
    "                                  .select(\n",
    "    col(\"userCol\"),\n",
    "    df_produtos_nomes.product_id.alias(\"product_id\"),\n",
    "    col(\"post_title\"),\n",
    "    col(\"predicted_rating\")\n",
    ")"
   ]
  },
  {
   "cell_type": "code",
   "execution_count": null,
   "id": "e04f9f62",
   "metadata": {},
   "outputs": [
    {
     "name": "stdout",
     "output_type": "stream",
     "text": [
      "+-------+------------------------------------------------------------------------------------------------------------------------------------------------------------------------------------------------------------------------------------------------------------------------------------------------------+\n",
      "|userCol|top_5_recomendacoes                                                                                                                                                                                                                                                                                   |\n",
      "+-------+------------------------------------------------------------------------------------------------------------------------------------------------------------------------------------------------------------------------------------------------------------------------------------------------------+\n",
      "|26     |[{614, HP 15-EF2747WM, 1.3718138}, {14215, ASROCK A520M PRO4, 1.3688942}, {10320, HP PAVILION X360 14-EK1008CA, 1.1954261}, {2485, ZOTAC GAMING GEFORCE GTX 1650, 1.1511242}, {12956, LENOVO IDEAPAD SLIM 3 15ABR8-SM, 1.1451079}]                                                                    |\n",
      "|29     |[{2418, LENOVO IDEAPAD 1 14IGL7, 1.3544142}, {12956, LENOVO IDEAPAD SLIM 3 15ABR8-SM, 1.1113567}, {6685, ACER ASPIRE 3 A315-24PT-R90Z, 1.0343732}, {13594, HP VICTUS 15-FB2082WM, 0.9395251}, {14443, HP 15-FC0037WM, 0.8939899}]                                                                     |\n",
      "|30     |[{20120, LENOVO LEGION SLIM 5, 0.999479}, {11668, ACER ASPIRE 3 A315-24PT-R90Z, 0.9892586}, {4189, HP ENVY X360 14-ES0013DX, 0.96236897}, {16596, DELL LATITUDE 3190 2-IN-1, 0.94241476}, {5095, HP PAVILION PLUS 14-EH1047NR, 0.92596865}]                                                           |\n",
      "|43     |[{15167, XIAOMI MONITOR A27I US, 2.150487}, {10945, HP VICTUS 15-FB1013DX, 1.3067144}, {6786, LENOVO FLEX 5 14ABR8, 1.0623506}, {14808, LENOVO IDEAPAD 1 14IGL7, 1.0275514}, {15468, LENOVO IDEAPAD FLEX 5 14ABR8, 0.9925642}]                                                                        |\n",
      "|60     |[{14592, HP ENVY 16-H1053DX-SM, 1.2626305}, {13594, HP VICTUS 15-FB2082WM, 1.1501839}, {2786, MSI CYBORG A13VE-218US, 1.1468323}, {10184, GEIL EVO POTENZA RED DDR4 8GBX1, 1.1145697}, {5542, HP BIWIN S1 SERIES 8GB DDR4, 1.0753316}]                                                                |\n",
      "|69     |[{11668, ACER ASPIRE 3 A315-24PT-R90Z, 0.3093509}, {4189, HP ENVY X360 14-ES0013DX, 0.2908096}, {5095, HP PAVILION PLUS 14-EH1047NR, 0.2897147}, {6685, ACER ASPIRE 3 A315-24PT-R90Z, 0.2865162}, {16596, DELL LATITUDE 3190 2-IN-1, 0.2864029}]                                                      |\n",
      "|72     |[{13442, GEIL EVO POTENZA RED DDR4 16GBX1-SM, 7.10056E-10}, {12936, ZOTAC GAMING GEFORCE GTX 1660 SUPER TWIN FAN BLACK-SM, 5.6592264E-10}, {1584, HP V20 HD+ MONITOR 1H848AA, 4.776217E-10}, {14745, LENOVO IDEACENTRE 5 14IRB8, 4.6822834E-10}, {14288, POS IMPRESORA TERMICA 38T-SM, 4.4573062E-10}]|\n",
      "|75     |[{15167, XIAOMI MONITOR A27I US, 1.0158885}, {10945, HP VICTUS 15-FB1013DX, 0.6260619}, {6786, LENOVO FLEX 5 14ABR8, 0.49907622}, {14808, LENOVO IDEAPAD 1 14IGL7, 0.48609185}, {15468, LENOVO IDEAPAD FLEX 5 14ABR8, 0.46767527}]                                                                    |\n",
      "|80     |[{11668, ACER ASPIRE 3 A315-24PT-R90Z, 1.0677543}, {4189, HP ENVY X360 14-ES0013DX, 1.0367855}, {16596, DELL LATITUDE 3190 2-IN-1, 1.015159}, {5095, HP PAVILION PLUS 14-EH1047NR, 1.0010126}, {6685, ACER ASPIRE 3 A315-24PT-R90Z, 0.99768794}]                                                      |\n",
      "|119    |[{6786, LENOVO FLEX 5 14ABR8, 1.1702634}, {4189, HP ENVY X360 14-ES0013DX, 1.0730069}, {20412, ONN GOOGLE TV FULL HD 2023, 1.0232837}, {5674, ONN GOOGLE TV 4K STREAMING BOX, 1.0093452}, {19808, ONN GOOGLE TV 4K STREAMING BOX, 1.008755}]                                                          |\n",
      "+-------+------------------------------------------------------------------------------------------------------------------------------------------------------------------------------------------------------------------------------------------------------------------------------------------------------+\n",
      "only showing top 10 rows\n",
      "\n"
     ]
    }
   ],
   "source": [
    "# Agruparlos para ver los top 5 por usuário de forma mais clara\n",
    "from pyspark.sql.window import Window\n",
    "from pyspark.sql.functions import rank, collect_list\n",
    "from pyspark.sql.functions import struct\n",
    "\n",
    "window_spec = Window.partitionBy(\"userCol\").orderBy(col(\"predicted_rating\").desc())\n",
    "\n",
    "user_recs_grouped = user_recs_final \\\n",
    "    .withColumn(\"rank\", rank().over(window_spec)) \\\n",
    "    .where(col(\"rank\") <= 5) \\\n",
    "    .groupBy(\"userCol\") \\\n",
    "    .agg(collect_list(struct(\"product_id\", \"post_title\", \"predicted_rating\")).alias(\"top_5_recomendaciones\"))\n",
    "    \n",
    "user_recs_grouped.show(10, truncate=False)"
   ]
  },
  {
   "cell_type": "markdown",
   "id": "b5eedcdb",
   "metadata": {},
   "source": [
    "#### CHURN\n",
    "\n",
    "NO ESTÁ BIEN."
   ]
  },
  {
   "cell_type": "markdown",
   "id": "bf2466b7",
   "metadata": {},
   "source": [
    "7. Modelo de Previsão de Churn"
   ]
  },
  {
   "cell_type": "code",
   "execution_count": null,
   "id": "6afe14bb",
   "metadata": {},
   "outputs": [],
   "source": [
    "from pyspark.sql.functions import datediff, current_date, lit, avg as spark_avg, count as spark_count, max as spark_max, struct\n",
    "from pyspark.ml.feature import VectorAssembler, StringIndexer, OneHotEncoder, StandardScaler\n",
    "from pyspark.ml.classification import LogisticRegression, RandomForestClassifier\n",
    "from pyspark.ml.evaluation import BinaryClassificationEvaluator, MulticlassClassificationEvaluator\n",
    "from pyspark.ml import Pipeline"
   ]
  },
  {
   "cell_type": "code",
   "execution_count": null,
   "id": "3e4f3861",
   "metadata": {},
   "outputs": [],
   "source": [
    "# 7.1 Definição de Churn e Criação de Labels\n",
    "# Definir churn: Cliente que não fez compra nos últimos X dias (ex: 90 dias)\n",
    "# Este valor pode ser ajustado com base no conhecimento do negócio\n",
    "churn_threshold_days = 90"
   ]
  },
  {
   "cell_type": "code",
   "execution_count": null,
   "id": "6c03077f",
   "metadata": {},
   "outputs": [],
   "source": [
    "# Usar a tabela RFM que já tem a Recência (dias desde a última compra)\n",
    "# Se Recencia > churn_threshold_days, então churn = 1, senão 0\n",
    "# Certificar que rfm_final está disponível\n",
    "if 'rfm_final' not in locals():\n",
    "    print(\"Erro: Tabela rfm_final não encontrada. Execute a etapa RFM primeiro.\")\n",
    "    # Adicionar código para recarregar ou recalcular rfm_final se necessário\n",
    "    # Por exemplo:\n",
    "    # rfm_r = df_ordens.groupBy(\"customer_id\").agg(spark_min(\"recencia_ordem_dias\").alias(\"Recencia\"))\n",
    "    # rfm_f = df_ordens.groupBy(\"customer_id\").agg(countDistinct(\"order_id\").alias(\"Frequencia\"))\n",
    "    # rfm_m = df_ordens.groupBy(\"customer_id\").agg(spark_sum(\"product_gross_revenue\").alias(\"Monetario\"))\n",
    "    # rfm_final = rfm_r.join(rfm_f, \"customer_id\", \"inner\").join(rfm_m, \"customer_id\", \"inner\")"
   ]
  },
  {
   "cell_type": "code",
   "execution_count": null,
   "id": "0259e1b4",
   "metadata": {},
   "outputs": [],
   "source": [
    "churn_labels = rfm_final.withColumn(\"churn_label\",\n",
    "                                    when(col(\"Recencia\") > churn_threshold_days, 1).otherwise(0))"
   ]
  },
  {
   "cell_type": "code",
   "execution_count": null,
   "id": "842012db",
   "metadata": {},
   "outputs": [
    {
     "name": "stdout",
     "output_type": "stream",
     "text": [
      "Definindo churn como inatividade > 90 dias.\n",
      "+-----------+-----+\n",
      "|churn_label|count|\n",
      "+-----------+-----+\n",
      "|          1|   80|\n",
      "+-----------+-----+\n",
      "\n"
     ]
    }
   ],
   "source": [
    "print(f\"Definindo churn como inatividade > {churn_threshold_days} dias.\")\n",
    "churn_labels.groupBy(\"churn_label\").count().show()"
   ]
  },
  {
   "cell_type": "code",
   "execution_count": null,
   "id": "270120a4",
   "metadata": {},
   "outputs": [],
   "source": [
    "# 7.2 Feature Engineering Adicional\n",
    "# Juntar com df_clientes para obter 'dias_desde_registro'\n",
    "# Certificar que df_clientes está disponível e processado\n",
    "if 'df_clientes' not in locals() or 'dias_desde_registro' not in df_clientes.columns:\n",
    "     print(\"Erro: df_clientes ou coluna 'dias_desde_registro' não encontrada.\")\n",
    "     # Recarregar/reprocessar df_clientes se necessário\n",
    "     # df_clientes = spark.read.csv(path_clientes, header=True, inferSchema=True, sep=',')\n",
    "     # df_clientes = df_clientes.dropDuplicates(['user_id'])\n",
    "     # df_clientes = df_clientes.withColumn(\"user_registered_ts\", to_timestamp(col(\"user_registered\"), \"yyyy-MM-dd HH:mm:ss\"))\n",
    "     # df_clientes = df_clientes.withColumn(\"dias_desde_registro\", datediff(current_date(), col(\"user_registered_ts\")))"
   ]
  },
  {
   "cell_type": "code",
   "execution_count": null,
   "id": "f221022c",
   "metadata": {},
   "outputs": [],
   "source": [
    "churn_data = churn_labels.join(df_clientes.select(col(\"user_id\").alias(\"customer_id_ref\"), \"dias_desde_registro\"),\n",
    "                               churn_labels.customer_id == col(\"customer_id_ref\"), \"left\") \\\n",
    "                         .select(\"customer_id\", \"Recencia\", \"Frequencia\", \"Monetario\", \"dias_desde_registro\", \"churn_label\") \\\n",
    "                         .na.fill(0, subset=[\"dias_desde_registro\"]) # Preencher nulos em dias_desde_registro (ex: se cliente não encontrado)"
   ]
  },
  {
   "cell_type": "code",
   "execution_count": null,
   "id": "ed95efef",
   "metadata": {},
   "outputs": [
    {
     "name": "stdout",
     "output_type": "stream",
     "text": [
      "Dados preparados para modelo de churn:\n",
      "+-----------+--------+----------+-----------------+-------------------+-----------+\n",
      "|customer_id|Recencia|Frequencia|        Monetario|dias_desde_registro|churn_label|\n",
      "+-----------+--------+----------+-----------------+-------------------+-----------+\n",
      "|        737|     134|         2|          4715.28|                  0|          1|\n",
      "|        516|     154|         1|           1044.3|                  0|          1|\n",
      "|        580|     197|         2|           1770.0|                  0|          1|\n",
      "|        513|     198|        13|50761.23999999999|                  0|          1|\n",
      "|        613|     210|         1|           1534.0|                  0|          1|\n",
      "+-----------+--------+----------+-----------------+-------------------+-----------+\n",
      "only showing top 5 rows\n",
      "\n"
     ]
    }
   ],
   "source": [
    "print(\"Dados preparados para modelo de churn:\")\n",
    "churn_data.show(5)"
   ]
  },
  {
   "cell_type": "code",
   "execution_count": null,
   "id": "a1f0b408",
   "metadata": {},
   "outputs": [],
   "source": [
    "# 7.3 Preparação para Modelagem (VectorAssembler, Scaler, Split)\n",
    "# Colunas de features\n",
    "feature_cols = [\"Recencia\", \"Frequencia\", \"Monetario\", \"dias_desde_registro\"]"
   ]
  },
  {
   "cell_type": "code",
   "execution_count": null,
   "id": "ba93366a",
   "metadata": {},
   "outputs": [],
   "source": [
    "# Montar vetor de features\n",
    "assembler = VectorAssembler(inputCols=feature_cols, outputCol=\"features_raw\", handleInvalid=\"skip\") # Skip rows with nulls"
   ]
  },
  {
   "cell_type": "code",
   "execution_count": null,
   "id": "90164802",
   "metadata": {},
   "outputs": [],
   "source": [
    "# Escalar features numéricas (importante para regressão logística)\n",
    "scaler_churn = StandardScaler(inputCol=\"features_raw\", outputCol=\"features\", withStd=True, withMean=True)"
   ]
  },
  {
   "cell_type": "code",
   "execution_count": null,
   "id": "b2198c44",
   "metadata": {},
   "outputs": [],
   "source": [
    "# Criar pipeline para pré-processamento\n",
    "preprocess_pipeline = Pipeline(stages=[assembler, scaler_churn])\n",
    "preprocess_model = preprocess_pipeline.fit(churn_data)\n",
    "final_churn_data = preprocess_model.transform(churn_data)"
   ]
  },
  {
   "cell_type": "code",
   "execution_count": null,
   "id": "2121db8b",
   "metadata": {},
   "outputs": [],
   "source": [
    "# Selecionar colunas finais e renomear label\n",
    "final_churn_data = final_churn_data.select(col(\"customer_id\"), col(\"features\"), col(\"churn_label\").alias(\"label\"))"
   ]
  },
  {
   "cell_type": "code",
   "execution_count": null,
   "id": "1bdf8267",
   "metadata": {},
   "outputs": [
    {
     "name": "stdout",
     "output_type": "stream",
     "text": [
      "Dados finais com features escaladas e label:\n",
      "+-----------+------------------------------------------------------------------------------------+-----+\n",
      "|customer_id|features                                                                            |label|\n",
      "+-----------+------------------------------------------------------------------------------------+-----+\n",
      "|737        |[-1.2204026035000965,-0.33474376723009847,-0.34684949808465804,-0.6423398862187408] |1    |\n",
      "|516        |[-0.9020713081626082,-0.3828218666527338,-0.40099505711315014,-0.6423398862187408]  |1    |\n",
      "|580        |[-0.21765902318700828,-0.33474376723009847,-0.39029125807665943,-0.6423398862187408]|1    |\n",
      "|513        |[-0.20174245842013386,0.1941153264188905,0.3323109019184983,-0.6423398862187408]    |1    |\n",
      "|613        |[-0.010743681217640863,-0.3828218666527338,-0.39377216833242873,-0.6423398862187408]|1    |\n",
      "+-----------+------------------------------------------------------------------------------------+-----+\n",
      "only showing top 5 rows\n",
      "\n"
     ]
    }
   ],
   "source": [
    "print(\"Dados finais com features escaladas e label:\")\n",
    "final_churn_data.show(5, truncate=False)"
   ]
  },
  {
   "cell_type": "code",
   "execution_count": null,
   "id": "bc099b9c",
   "metadata": {},
   "outputs": [
    {
     "name": "stdout",
     "output_type": "stream",
     "text": [
      "Registros de treino: 63, Registros de teste: 17\n",
      "Modelo de Regressão Logística treinado.\n",
      "Predições no conjunto de teste:\n",
      "+-----------+-----+-----------+----------+\n",
      "|customer_id|label|probability|prediction|\n",
      "+-----------+-----+-----------+----------+\n",
      "|30         |1    |[0.0,1.0]  |1.0       |\n",
      "|72         |1    |[0.0,1.0]  |1.0       |\n",
      "|80         |1    |[0.0,1.0]  |1.0       |\n",
      "|172        |1    |[0.0,1.0]  |1.0       |\n",
      "|244        |1    |[0.0,1.0]  |1.0       |\n",
      "|260        |1    |[0.0,1.0]  |1.0       |\n",
      "|279        |1    |[0.0,1.0]  |1.0       |\n",
      "|327        |1    |[0.0,1.0]  |1.0       |\n",
      "|432        |1    |[0.0,1.0]  |1.0       |\n",
      "|435        |1    |[0.0,1.0]  |1.0       |\n",
      "+-----------+-----+-----------+----------+\n",
      "only showing top 10 rows\n",
      "\n",
      "Área sob a curva ROC (AUC) no conjunto de teste: 1.0\n",
      "Accuracy: 1.0\n",
      "Precision: 1.0\n",
      "Recall: 1.0\n",
      "F1 Score: 1.0\n"
     ]
    }
   ],
   "source": [
    "# Verificar se há dados suficientes após pré-processamento\n",
    "if final_churn_data.count() == 0:\n",
    "    print(\"Erro: Nenhum dado restante após pré-processamento para o modelo de churn.\")\n",
    "else:\n",
    "    # Dividir em treino e teste\n",
    "    (train_data, test_data) = final_churn_data.randomSplit([0.8, 0.2], seed=42)\n",
    "    print(f\"Registros de treino: {train_data.count()}, Registros de teste: {test_data.count()}\")\n",
    "\n",
    "    # 7.4 Treinamento do Modelo (Ex: Regressão Logística)\n",
    "    if train_data.count() > 0:\n",
    "        lr = LogisticRegression(featuresCol=\"features\", labelCol=\"label\")\n",
    "        lr_model = lr.fit(train_data)\n",
    "        print(\"Modelo de Regressão Logística treinado.\")\n",
    "\n",
    "        # 7.5 Avaliação do Modelo\n",
    "        if test_data.count() > 0:\n",
    "            predictions_lr = lr_model.transform(test_data)\n",
    "            print(\"Predições no conjunto de teste:\")\n",
    "            predictions_lr.select(\"customer_id\", \"label\", \"probability\", \"prediction\").show(10, truncate=False)\n",
    "\n",
    "            # Avaliar usando AUC\n",
    "            evaluator_auc = BinaryClassificationEvaluator(rawPredictionCol=\"rawPrediction\", labelCol=\"label\", metricName=\"areaUnderROC\")\n",
    "            # Lidar com possíveis NaNs na coluna de predição se houver\n",
    "            auc = evaluator_auc.evaluate(predictions_lr.na.drop(subset=[\"rawPrediction\"]))\n",
    "            print(f\"Área sob a curva ROC (AUC) no conjunto de teste: {auc}\")\n",
    "\n",
    "            # Avaliar usando outras métricas (Accuracy, Precision, Recall, F1)\n",
    "            evaluator_multi = MulticlassClassificationEvaluator(labelCol=\"label\", predictionCol=\"prediction\")\n",
    "            accuracy = evaluator_multi.evaluate(predictions_lr, {evaluator_multi.metricName: \"accuracy\"})\n",
    "            precision = evaluator_multi.evaluate(predictions_lr, {evaluator_multi.metricName: \"weightedPrecision\"})\n",
    "            recall = evaluator_multi.evaluate(predictions_lr, {evaluator_multi.metricName: \"weightedRecall\"})\n",
    "            f1 = evaluator_multi.evaluate(predictions_lr, {evaluator_multi.metricName: \"f1\"})\n",
    "\n",
    "            print(f\"Accuracy: {accuracy}\")\n",
    "            print(f\"Precision: {precision}\")\n",
    "            print(f\"Recall: {recall}\")\n",
    "            print(f\"F1 Score: {f1}\")\n",
    "        else:\n",
    "            print(\"Não há dados de teste suficientes para avaliação.\")\n",
    "    else:\n",
    "        print(\"Não há dados de treino suficientes para treinar o modelo.\")"
   ]
  },
  {
   "cell_type": "code",
   "execution_count": null,
   "id": "7c73a7f2",
   "metadata": {},
   "outputs": [
    {
     "name": "stdout",
     "output_type": "stream",
     "text": [
      "Há predições válidas para avaliação após remover NaNs.\n"
     ]
    }
   ],
   "source": [
    "# 1. Avaliador AUC e AUC-PR\n",
    "evaluator_auc = BinaryClassificationEvaluator(rawPredictionCol=\"rawPrediction\", labelCol=\"label\", metricName=\"areaUnderROC\")\n",
    "evaluator_pr = BinaryClassificationEvaluator(rawPredictionCol=\"rawPrediction\", labelCol=\"label\", metricName=\"areaUnderPR\")\n",
    "\n",
    "# Lidar com possíveis NaNs na coluna de predição se houver (ex: coldStartStrategy)\n",
    "valid_predictions = predictions_lr.na.drop(subset=[\"rawPrediction\", \"prediction\", \"label\"])\n",
    "\n",
    "if valid_predictions.count() == 0:\n",
    "    print(\"Não há predições válidas para avaliação após remover NaNs.\")\n",
    "else: \n",
    "    print(\"Há predições válidas para avaliação após remover NaNs.\")"
   ]
  },
  {
   "cell_type": "code",
   "execution_count": null,
   "id": "7df2b255",
   "metadata": {},
   "outputs": [
    {
     "name": "stdout",
     "output_type": "stream",
     "text": [
      "Área sob a Curva ROC (AUC): 1.0000\n",
      "Área sob a Curva Precision-Recall (AUC-PR): 1.0000\n"
     ]
    }
   ],
   "source": [
    "auc_score = evaluator_auc.evaluate(valid_predictions)\n",
    "pr_auc_score = evaluator_pr.evaluate(valid_predictions)\n",
    "print(f\"Área sob a Curva ROC (AUC): {auc_score:.4f}\")\n",
    "print(f\"Área sob a Curva Precision-Recall (AUC-PR): {pr_auc_score:.4f}\")\n",
    "\n"
   ]
  },
  {
   "cell_type": "code",
   "execution_count": null,
   "id": "4eaa5c2a",
   "metadata": {},
   "outputs": [
    {
     "name": "stdout",
     "output_type": "stream",
     "text": [
      "\n",
      "Accuracy: 1.0000\n",
      "Precision Ponderada: 1.0000\n",
      "Recall Ponderado: 1.0000\n",
      "F1-Score Ponderado: 1.0000\n"
     ]
    }
   ],
   "source": [
    "# 2. Avaliador Multiclasse para Accuracy, Precision, Recall, F1\n",
    "evaluator_multi = MulticlassClassificationEvaluator(labelCol=\"label\", predictionCol=\"prediction\")\n",
    "\n",
    "accuracy = evaluator_multi.evaluate(valid_predictions, {evaluator_multi.metricName: \"accuracy\"})\n",
    "precision_w = evaluator_multi.evaluate(valid_predictions, {evaluator_multi.metricName: \"weightedPrecision\"})\n",
    "recall_w = evaluator_multi.evaluate(valid_predictions, {evaluator_multi.metricName: \"weightedRecall\"})\n",
    "f1_w = evaluator_multi.evaluate(valid_predictions, {evaluator_multi.metricName: \"f1\"})\n",
    "\n",
    "print(f\"\\nAccuracy: {accuracy:.4f}\")\n",
    "print(f\"Precision Ponderada: {precision_w:.4f}\")\n",
    "print(f\"Recall Ponderado: {recall_w:.4f}\")\n",
    "print(f\"F1-Score Ponderado: {f1_w:.4f}\")\n",
    "\n"
   ]
  },
  {
   "cell_type": "code",
   "execution_count": null,
   "id": "24ef997d",
   "metadata": {},
   "outputs": [
    {
     "name": "stdout",
     "output_type": "stream",
     "text": [
      "Label 1: Precision = 1.0000, Recall = 1.0000, F1 = 1.0000\n",
      "\n",
      "-- Métricas por Classe --\n",
      "\n",
      "-- Métricas por Classe (presentes nos dados) --\n",
      "Label 1: Precision = 1.0000, Recall = 1.0000, F1 = 1.0000\n"
     ]
    }
   ],
   "source": [
    "from pyspark.ml.evaluation import MulticlassClassificationEvaluator\n",
    "\n",
    "# Verifique as labels presentes\n",
    "present_labels = valid_predictions.select(\"label\").distinct().rdd.flatMap(lambda x: x).collect()\n",
    "\n",
    "evaluator_multi = MulticlassClassificationEvaluator(labelCol=\"label\", predictionCol=\"prediction\")\n",
    "\n",
    "for label in present_labels:\n",
    "    precision = evaluator_multi.evaluate(valid_predictions, {\n",
    "        evaluator_multi.metricName: \"precisionByLabel\",\n",
    "        evaluator_multi.metricLabel: label\n",
    "    })\n",
    "    recall = evaluator_multi.evaluate(valid_predictions, {\n",
    "        evaluator_multi.metricName: \"recallByLabel\",\n",
    "        evaluator_multi.metricLabel: label\n",
    "    })\n",
    "    f1 = evaluator_multi.evaluate(valid_predictions, {\n",
    "        evaluator_multi.metricName: \"f1\",\n",
    "        evaluator_multi.metricLabel: label\n",
    "    })\n",
    "\n",
    "    print(f\"Label {label}: Precision = {precision:.4f}, Recall = {recall:.4f}, F1 = {f1:.4f}\")\n",
    "\n",
    "# 3. Métricas por Classe\n",
    "print(\"\\n-- Métricas por Classe --\")\n",
    "labels = [0.0, 1.0]\n",
    "evaluator = MulticlassClassificationEvaluator(labelCol=\"label\", predictionCol=\"prediction\")\n",
    "\n",
    "# 🔍 Verifique quais classes realmente estão presentes\n",
    "labels_presentes = valid_predictions.select(\"label\").distinct().rdd.flatMap(lambda x: x).collect()\n",
    "\n",
    "print(\"\\n-- Métricas por Classe (presentes nos dados) --\")\n",
    "for label in sorted(labels_presentes):\n",
    "    evaluator.setMetricLabel(label)\n",
    "\n",
    "    evaluator.setMetricName(\"precisionByLabel\")\n",
    "    precision = evaluator.evaluate(valid_predictions)\n",
    "\n",
    "    evaluator.setMetricName(\"recallByLabel\")\n",
    "    recall = evaluator.evaluate(valid_predictions)\n",
    "\n",
    "    evaluator.setMetricName(\"f1\")\n",
    "    f1 = evaluator.evaluate(valid_predictions)\n",
    "\n",
    "    print(f\"Label {label}: Precision = {precision:.4f}, Recall = {recall:.4f}, F1 = {f1:.4f}\")\n",
    "\n",
    "    \n"
   ]
  },
  {
   "cell_type": "code",
   "execution_count": null,
   "id": "fe65bea1",
   "metadata": {},
   "outputs": [
    {
     "name": "stdout",
     "output_type": "stream",
     "text": [
      "\n",
      "-- Matriz de Confusão --\n",
      "                 Predito 0 | Predito 1\n",
      "Real 0 (Não Churn):     0     |    0    \n",
      "Real 1 (Churn):         0     |    17   \n"
     ]
    }
   ],
   "source": [
    "# 4. Matriz de Confusão (Cálculo com PySpark)\n",
    "print(\"\\n-- Matriz de Confusão --\")\n",
    "# Calcula TP, TN, FP, FN diretamente\n",
    "tp = valid_predictions.filter(\"label = 1.0 AND prediction = 1.0\").count()\n",
    "tn = valid_predictions.filter(\"label = 0.0 AND prediction = 0.0\").count()\n",
    "fp = valid_predictions.filter(\"label = 0.0 AND prediction = 1.0\").count()\n",
    "fn = valid_predictions.filter(\"label = 1.0 AND prediction = 0.0\").count()\n",
    "\n",
    "print(f\"                 Predito 0 | Predito 1\")\n",
    "print(f\"Real 0 (Não Churn):  {tn:^8} | {fp:^8}\")\n",
    "print(f\"Real 1 (Churn):      {fn:^8} | {tp:^8}\")"
   ]
  },
  {
   "cell_type": "markdown",
   "id": "8fc32010",
   "metadata": {},
   "source": [
    "Próximo passo: Finalizar e entregar o notebook"
   ]
  },
  {
   "cell_type": "code",
   "execution_count": null,
   "id": "946b308e",
   "metadata": {
    "lines_to_next_cell": 2
   },
   "outputs": [],
   "source": [
    "# Finalizar SparkSession\n",
    "spark.stop()\n",
    "print(\"SparkSession finalizada.\")"
   ]
  }
 ],
 "metadata": {
  "jupytext": {
   "cell_metadata_filter": "-all",
   "encoding": "# -*- coding: utf-8 -*-",
   "main_language": "python",
   "notebook_metadata_filter": "-all"
  },
  "kernelspec": {
   "display_name": "Python 3 (ipykernel)",
   "language": "python",
   "name": "python3"
  },
  "language_info": {
   "codemirror_mode": {
    "name": "ipython",
    "version": 3
   },
   "file_extension": ".py",
   "mimetype": "text/x-python",
   "name": "python",
   "nbconvert_exporter": "python",
   "pygments_lexer": "ipython3",
   "version": "3.11.6"
  }
 },
 "nbformat": 4,
 "nbformat_minor": 5
}
