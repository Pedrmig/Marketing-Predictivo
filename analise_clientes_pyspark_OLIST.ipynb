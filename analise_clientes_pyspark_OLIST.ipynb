{
 "cells": [
  {
   "cell_type": "code",
   "execution_count": 135,
   "id": "ca721bd1",
   "metadata": {},
   "outputs": [],
   "source": [
    "# Importar bibliotecas necesarias\n",
    "from pyspark.sql import SparkSession\n",
    "import pyspark.sql.functions as F\n",
    "from pyspark.sql.functions import col, count, isnan, when, trim, to_timestamp, datediff, current_date, unix_timestamp,col, udf, when\n",
    "from pyspark.sql.types import StringType, IntegerType, FloatType, TimestampType\n",
    "from pyspark.sql.window import Window"
   ]
  },
  {
   "cell_type": "markdown",
   "id": "93ee4aa2",
   "metadata": {},
   "source": [
    "1. Crear y inicializar SPARK"
   ]
  },
  {
   "cell_type": "code",
   "execution_count": 136,
   "id": "6cd78884",
   "metadata": {},
   "outputs": [],
   "source": [
    "# Inicializar SparkSession\n",
    "spark = SparkSession.builder \\\n",
    "    .appName(\"Marketin-predictivo\") \\\n",
    "    .config(\"spark.sql.legacy.timeParserPolicy\", \"LEGACY\") \\\n",
    "    .getOrCreate()"
   ]
  },
  {
   "cell_type": "markdown",
   "id": "a131e745",
   "metadata": {},
   "source": [
    "2. Leer los datasets"
   ]
  },
  {
   "cell_type": "code",
   "execution_count": 137,
   "id": "10581092",
   "metadata": {},
   "outputs": [],
   "source": [
    "# Caminos para los archivos\n",
    "path_clientes = \"/home/jovyan/Marketing-Predictivo/CSV/OLIST/olist_customers_dataset.csv\"\n",
    "path_geolocation = \"/home/jovyan/Marketing-Predictivo/CSV/OLIST/olist_geolocation_dataset.csv\"\n",
    "path_productos = \"/home/jovyan/Marketing-Predictivo/CSV/OLIST/olist_products_dataset.csv\"\n",
    "path_product_translator = \"/home/jovyan/Marketing-Predictivo/CSV/OLIST/product_category_name_translation.csv\"\n",
    "path_ordens = \"/home/jovyan/Marketing-Predictivo/CSV/OLIST/olist_orders_dataset.csv\"\n",
    "path_ordens_itens = \"/home/jovyan/Marketing-Predictivo/CSV/OLIST/olist_order_items_dataset.csv\"\n",
    "path_ordens_payments = \"/home/jovyan/Marketing-Predictivo/CSV/OLIST/olist_order_payments_dataset.csv\"\n",
    "path_ordens_reviews= \"/home/jovyan/Marketing-Predictivo/CSV/OLIST/olist_order_reviews_dataset.csv\"\n"
   ]
  },
  {
   "cell_type": "code",
   "execution_count": 138,
   "id": "753bc6b8",
   "metadata": {},
   "outputs": [
    {
     "name": "stdout",
     "output_type": "stream",
     "text": [
      "root\n",
      " |-- customer_id: string (nullable = true)\n",
      " |-- customer_unique_id: string (nullable = true)\n",
      " |-- customer_zip_code_prefix: integer (nullable = true)\n",
      " |-- customer_city: string (nullable = true)\n",
      " |-- customer_state: string (nullable = true)\n",
      "\n",
      "+--------------------------------+--------------------------------+------------------------+---------------------+--------------+\n",
      "|customer_id                     |customer_unique_id              |customer_zip_code_prefix|customer_city        |customer_state|\n",
      "+--------------------------------+--------------------------------+------------------------+---------------------+--------------+\n",
      "|06b8999e2fba1a1fbc88172c00ba8bc7|861eff4711a542e4b93843c6dd7febb0|14409                   |franca               |SP            |\n",
      "|18955e83d337fd6b2def6b18a428ac77|290c77bc529b7ac935b93aa66c333dc3|9790                    |sao bernardo do campo|SP            |\n",
      "|4e7b3e00288586ebd08712fdd0374a03|060e732b5b29e8181a18229c7b0b2b5e|1151                    |sao paulo            |SP            |\n",
      "|b2b6027bc5c5109e529d4dc6358b12c3|259dac757896d24d7702b9acbbff3f3c|8775                    |mogi das cruzes      |SP            |\n",
      "|4f2d8ab171c80ec8364f7c12e35b23ad|345ecd01c38d18a9036ed96c73b8d066|13056                   |campinas             |SP            |\n",
      "+--------------------------------+--------------------------------+------------------------+---------------------+--------------+\n",
      "only showing top 5 rows\n",
      "\n"
     ]
    }
   ],
   "source": [
    "df_clientes = spark.read.csv(path_clientes, header=True, inferSchema=True, sep=',')\n",
    "df_clientes.printSchema()\n",
    "df_clientes.show(5, truncate=False)"
   ]
  },
  {
   "cell_type": "code",
   "execution_count": 139,
   "id": "9279f785",
   "metadata": {},
   "outputs": [
    {
     "name": "stdout",
     "output_type": "stream",
     "text": [
      "root\n",
      " |-- product_id: string (nullable = true)\n",
      " |-- product_category_name: string (nullable = true)\n",
      " |-- product_name_lenght: integer (nullable = true)\n",
      " |-- product_description_lenght: integer (nullable = true)\n",
      " |-- product_photos_qty: integer (nullable = true)\n",
      " |-- product_weight_g: integer (nullable = true)\n",
      " |-- product_length_cm: integer (nullable = true)\n",
      " |-- product_height_cm: integer (nullable = true)\n",
      " |-- product_width_cm: integer (nullable = true)\n",
      "\n",
      "+--------------------+---------------------+-------------------+--------------------------+------------------+----------------+-----------------+-----------------+----------------+\n",
      "|          product_id|product_category_name|product_name_lenght|product_description_lenght|product_photos_qty|product_weight_g|product_length_cm|product_height_cm|product_width_cm|\n",
      "+--------------------+---------------------+-------------------+--------------------------+------------------+----------------+-----------------+-----------------+----------------+\n",
      "|1e9e8ef04dbcff454...|           perfumaria|                 40|                       287|                 1|             225|               16|               10|              14|\n",
      "|3aa071139cb16b67c...|                artes|                 44|                       276|                 1|            1000|               30|               18|              20|\n",
      "|96bd76ec8810374ed...|        esporte_lazer|                 46|                       250|                 1|             154|               18|                9|              15|\n",
      "|cef67bcfe19066a93...|                bebes|                 27|                       261|                 1|             371|               26|                4|              26|\n",
      "|9dc1a7de274444849...| utilidades_domest...|                 37|                       402|                 4|             625|               20|               17|              13|\n",
      "|41d3672d4792049fa...| instrumentos_musi...|                 60|                       745|                 1|             200|               38|                5|              11|\n",
      "|732bd381ad09e530f...|           cool_stuff|                 56|                      1272|                 4|           18350|               70|               24|              44|\n",
      "|2548af3e6e77a690c...|     moveis_decoracao|                 56|                       184|                 2|             900|               40|                8|              40|\n",
      "|37cc742be07708b53...|     eletrodomesticos|                 57|                       163|                 1|             400|               27|               13|              17|\n",
      "|8c92109888e8cdf9d...|           brinquedos|                 36|                      1156|                 1|             600|               17|               10|              12|\n",
      "+--------------------+---------------------+-------------------+--------------------------+------------------+----------------+-----------------+-----------------+----------------+\n",
      "only showing top 10 rows\n",
      "\n"
     ]
    }
   ],
   "source": [
    "df_productos = spark.read.csv(path_productos, header=True, inferSchema=True, sep=',', multiLine=True, escape='\"')\n",
    "df_productos.printSchema()\n",
    "df_productos.show(10, truncate=True)"
   ]
  },
  {
   "cell_type": "code",
   "execution_count": 140,
   "id": "593528c5",
   "metadata": {},
   "outputs": [
    {
     "name": "stdout",
     "output_type": "stream",
     "text": [
      "root\n",
      " |-- product_category_name: string (nullable = true)\n",
      " |-- product_category_name_english: string (nullable = true)\n",
      "\n",
      "+---------------------+-----------------------------+\n",
      "|product_category_name|product_category_name_english|\n",
      "+---------------------+-----------------------------+\n",
      "|         beleza_saude|                health_beauty|\n",
      "| informatica_acess...|         computers_accesso...|\n",
      "|           automotivo|                         auto|\n",
      "|      cama_mesa_banho|               bed_bath_table|\n",
      "|     moveis_decoracao|              furniture_decor|\n",
      "|        esporte_lazer|               sports_leisure|\n",
      "|           perfumaria|                    perfumery|\n",
      "| utilidades_domest...|                   housewares|\n",
      "|            telefonia|                    telephony|\n",
      "|   relogios_presentes|                watches_gifts|\n",
      "+---------------------+-----------------------------+\n",
      "only showing top 10 rows\n",
      "\n"
     ]
    }
   ],
   "source": [
    "df_productos_traducidos = spark.read.csv(path_product_translator, header=True, inferSchema=True, sep=',', multiLine=True, escape='\"')\n",
    "df_productos_traducidos.printSchema()\n",
    "df_productos_traducidos.show(10, truncate=True)"
   ]
  },
  {
   "cell_type": "code",
   "execution_count": 141,
   "id": "360e8fb7",
   "metadata": {},
   "outputs": [
    {
     "name": "stdout",
     "output_type": "stream",
     "text": [
      "root\n",
      " |-- order_id: string (nullable = true)\n",
      " |-- customer_id: string (nullable = true)\n",
      " |-- order_status: string (nullable = true)\n",
      " |-- order_purchase_timestamp: string (nullable = true)\n",
      " |-- order_approved_at: string (nullable = true)\n",
      " |-- order_delivered_carrier_date: string (nullable = true)\n",
      " |-- order_delivered_customer_date: string (nullable = true)\n",
      " |-- order_estimated_delivery_date: string (nullable = true)\n",
      "\n",
      "+--------------------------------+--------------------------------+------------+------------------------+-------------------+----------------------------+-----------------------------+-----------------------------+\n",
      "|order_id                        |customer_id                     |order_status|order_purchase_timestamp|order_approved_at  |order_delivered_carrier_date|order_delivered_customer_date|order_estimated_delivery_date|\n",
      "+--------------------------------+--------------------------------+------------+------------------------+-------------------+----------------------------+-----------------------------+-----------------------------+\n",
      "|e481f51cbdc54678b7cc49136f2d6af7|9ef432eb6251297304e76186b10a928d|delivered   |2017-10-02 10:56:33     |2017-10-02 11:07:15|2017-10-04 19:55:00         |2017-10-10 21:25:13          |2017-10-18 00:00:00          |\n",
      "|53cdb2fc8bc7dce0b6741e2150273451|b0830fb4747a6c6d20dea0b8c802d7ef|delivered   |2018-07-24 20:41:37     |2018-07-26 03:24:27|2018-07-26 14:31:00         |2018-08-07 15:27:45          |2018-08-13 00:00:00          |\n",
      "|47770eb9100c2d0c44946d9cf07ec65d|41ce2a54c0b03bf3443c3d931a367089|delivered   |2018-08-08 08:38:49     |2018-08-08 08:55:23|2018-08-08 13:50:00         |2018-08-17 18:06:29          |2018-09-04 00:00:00          |\n",
      "|949d5b44dbf5de918fe9c16f97b45f8a|f88197465ea7920adcdbec7375364d82|delivered   |2017-11-18 19:28:06     |2017-11-18 19:45:59|2017-11-22 13:39:59         |2017-12-02 00:28:42          |2017-12-15 00:00:00          |\n",
      "|ad21c59c0840e6cb83a9ceb5573f8159|8ab97904e6daea8866dbdbc4fb7aad2c|delivered   |2018-02-13 21:18:39     |2018-02-13 22:20:29|2018-02-14 19:46:34         |2018-02-16 18:17:02          |2018-02-26 00:00:00          |\n",
      "+--------------------------------+--------------------------------+------------+------------------------+-------------------+----------------------------+-----------------------------+-----------------------------+\n",
      "only showing top 5 rows\n",
      "\n"
     ]
    }
   ],
   "source": [
    "df_ordens = spark.read.csv(path_ordens, header=True, inferSchema=True, sep=',')\n",
    "df_ordens.printSchema()\n",
    "df_ordens.show(5, truncate=False)"
   ]
  },
  {
   "cell_type": "code",
   "execution_count": 142,
   "id": "91a99d97",
   "metadata": {},
   "outputs": [
    {
     "name": "stdout",
     "output_type": "stream",
     "text": [
      "root\n",
      " |-- order_id: string (nullable = true)\n",
      " |-- payment_sequential: integer (nullable = true)\n",
      " |-- payment_type: string (nullable = true)\n",
      " |-- payment_installments: integer (nullable = true)\n",
      " |-- payment_value: double (nullable = true)\n",
      "\n",
      "+--------------------------------+------------------+------------+--------------------+-------------+\n",
      "|order_id                        |payment_sequential|payment_type|payment_installments|payment_value|\n",
      "+--------------------------------+------------------+------------+--------------------+-------------+\n",
      "|b81ef226f3fe1789b1e8b2acac839d17|1                 |credit_card |8                   |99.33        |\n",
      "|a9810da82917af2d9aefd1278f1dcfa0|1                 |credit_card |1                   |24.39        |\n",
      "|25e8ea4e93396b6fa0d3dd708e76c1bd|1                 |credit_card |1                   |65.71        |\n",
      "|ba78997921bbcdc1373bb41e913ab953|1                 |credit_card |8                   |107.78       |\n",
      "|42fdf880ba16b47b59251dd489d4441a|1                 |credit_card |2                   |128.45       |\n",
      "+--------------------------------+------------------+------------+--------------------+-------------+\n",
      "only showing top 5 rows\n",
      "\n"
     ]
    }
   ],
   "source": [
    "df_ordens_payments = spark.read.csv(path_ordens_payments, header=True, inferSchema=True, sep=',')\n",
    "df_ordens_payments.printSchema()\n",
    "df_ordens_payments.show(5, truncate=False)"
   ]
  },
  {
   "cell_type": "code",
   "execution_count": 143,
   "id": "ec350f40",
   "metadata": {},
   "outputs": [
    {
     "name": "stdout",
     "output_type": "stream",
     "text": [
      "root\n",
      " |-- order_id: string (nullable = true)\n",
      " |-- customer_id: string (nullable = true)\n",
      " |-- order_status: string (nullable = true)\n",
      " |-- order_purchase_timestamp: string (nullable = true)\n",
      " |-- order_approved_at: string (nullable = true)\n",
      " |-- order_delivered_carrier_date: string (nullable = true)\n",
      " |-- order_delivered_customer_date: string (nullable = true)\n",
      " |-- order_estimated_delivery_date: string (nullable = true)\n",
      "\n",
      "+--------------------------------+--------------------------------+------------+------------------------+-------------------+----------------------------+-----------------------------+-----------------------------+\n",
      "|order_id                        |customer_id                     |order_status|order_purchase_timestamp|order_approved_at  |order_delivered_carrier_date|order_delivered_customer_date|order_estimated_delivery_date|\n",
      "+--------------------------------+--------------------------------+------------+------------------------+-------------------+----------------------------+-----------------------------+-----------------------------+\n",
      "|e481f51cbdc54678b7cc49136f2d6af7|9ef432eb6251297304e76186b10a928d|delivered   |2017-10-02 10:56:33     |2017-10-02 11:07:15|2017-10-04 19:55:00         |2017-10-10 21:25:13          |2017-10-18 00:00:00          |\n",
      "|53cdb2fc8bc7dce0b6741e2150273451|b0830fb4747a6c6d20dea0b8c802d7ef|delivered   |2018-07-24 20:41:37     |2018-07-26 03:24:27|2018-07-26 14:31:00         |2018-08-07 15:27:45          |2018-08-13 00:00:00          |\n",
      "|47770eb9100c2d0c44946d9cf07ec65d|41ce2a54c0b03bf3443c3d931a367089|delivered   |2018-08-08 08:38:49     |2018-08-08 08:55:23|2018-08-08 13:50:00         |2018-08-17 18:06:29          |2018-09-04 00:00:00          |\n",
      "|949d5b44dbf5de918fe9c16f97b45f8a|f88197465ea7920adcdbec7375364d82|delivered   |2017-11-18 19:28:06     |2017-11-18 19:45:59|2017-11-22 13:39:59         |2017-12-02 00:28:42          |2017-12-15 00:00:00          |\n",
      "|ad21c59c0840e6cb83a9ceb5573f8159|8ab97904e6daea8866dbdbc4fb7aad2c|delivered   |2018-02-13 21:18:39     |2018-02-13 22:20:29|2018-02-14 19:46:34         |2018-02-16 18:17:02          |2018-02-26 00:00:00          |\n",
      "+--------------------------------+--------------------------------+------------+------------------------+-------------------+----------------------------+-----------------------------+-----------------------------+\n",
      "only showing top 5 rows\n",
      "\n"
     ]
    }
   ],
   "source": [
    "df_ordens_itens = spark.read.csv(path_ordens_itens, header=True, inferSchema=True, sep=',')\n",
    "df_ordens.printSchema()\n",
    "df_ordens.show(5, truncate=False)"
   ]
  },
  {
   "cell_type": "code",
   "execution_count": null,
   "id": "e5d7bf84",
   "metadata": {},
   "outputs": [],
   "source": [
    "#no esta funcionando.\n",
    "\n",
    "df_ordens_review = spark.read.csv(path_ordens_reviews, header=True, inferSchema=True, sep=',')\n",
    "df_ordens_review.printSchema()\n",
    "df_ordens_review.show(5, truncate=False)"
   ]
  },
  {
   "cell_type": "markdown",
   "id": "e9c2fb2d",
   "metadata": {},
   "source": [
    "3. Limpieza y pré procesamiento de los datos"
   ]
  },
  {
   "cell_type": "code",
   "execution_count": null,
   "id": "cc080a2f",
   "metadata": {},
   "outputs": [
    {
     "name": "stdout",
     "output_type": "stream",
     "text": [
      "\n",
      " Nulos em df_clientes:\n",
      "+-----------+------------------+------------------------+-------------+--------------+\n",
      "|customer_id|customer_unique_id|customer_zip_code_prefix|customer_city|customer_state|\n",
      "+-----------+------------------+------------------------+-------------+--------------+\n",
      "|0          |0                 |0                       |0            |0             |\n",
      "+-----------+------------------+------------------------+-------------+--------------+\n",
      "\n",
      "\n",
      " Nulos em df_ordens:\n",
      "+--------+-----------+------------+------------------------+-----------------+----------------------------+-----------------------------+-----------------------------+\n",
      "|order_id|customer_id|order_status|order_purchase_timestamp|order_approved_at|order_delivered_carrier_date|order_delivered_customer_date|order_estimated_delivery_date|\n",
      "+--------+-----------+------------+------------------------+-----------------+----------------------------+-----------------------------+-----------------------------+\n",
      "|0       |0          |0           |0                       |160              |1783                        |2965                         |0                            |\n",
      "+--------+-----------+------------+------------------------+-----------------+----------------------------+-----------------------------+-----------------------------+\n",
      "\n",
      "\n",
      " Nulos em df_ordens_payments:\n",
      "+--------+------------------+------------+--------------------+-------------+\n",
      "|order_id|payment_sequential|payment_type|payment_installments|payment_value|\n",
      "+--------+------------------+------------+--------------------+-------------+\n",
      "|0       |0                 |0           |0                   |0            |\n",
      "+--------+------------------+------------+--------------------+-------------+\n",
      "\n"
     ]
    }
   ],
   "source": [
    "def verificar_nulos(df, nome):\n",
    "    print(f\"\\n Nulos em {nome}:\")\n",
    "    df.select([\n",
    "        count(when(col(c).isNull() | isnan(c), c)).alias(c)\n",
    "        for c in df.columns\n",
    "    ]).show(truncate =False)\n",
    "\n",
    "\n",
    "verificar_nulos(df_clientes, \"df_clientes\")\n",
    "verificar_nulos(df_ordens, \"df_ordens\")\n",
    "verificar_nulos(df_ordens_payments, \"df_ordens_payments\")\n"
   ]
  },
  {
   "cell_type": "code",
   "execution_count": null,
   "id": "cf8c9c5f",
   "metadata": {},
   "outputs": [
    {
     "name": "stdout",
     "output_type": "stream",
     "text": [
      "\n",
      " Nulos em df_productos:\n",
      "+----------+---------------------+-------------------+--------------------------+------------------+----------------+-----------------+-----------------+----------------+\n",
      "|product_id|product_category_name|product_name_lenght|product_description_lenght|product_photos_qty|product_weight_g|product_length_cm|product_height_cm|product_width_cm|\n",
      "+----------+---------------------+-------------------+--------------------------+------------------+----------------+-----------------+-----------------+----------------+\n",
      "|0         |610                  |610                |610                       |610               |2               |2                |2                |2               |\n",
      "+----------+---------------------+-------------------+--------------------------+------------------+----------------+-----------------+-----------------+----------------+\n",
      "\n",
      "\n",
      " Nulos em df_ordens_itens:\n",
      "+--------+-------------+----------+---------+-------------------+-----+-------------+\n",
      "|order_id|order_item_id|product_id|seller_id|shipping_limit_date|price|freight_value|\n",
      "+--------+-------------+----------+---------+-------------------+-----+-------------+\n",
      "|0       |0            |0         |0        |0                  |0    |0            |\n",
      "+--------+-------------+----------+---------+-------------------+-----+-------------+\n",
      "\n",
      "\n",
      " Nulos em df_productos_traducidos:\n",
      "+---------------------+-----------------------------+\n",
      "|product_category_name|product_category_name_english|\n",
      "+---------------------+-----------------------------+\n",
      "|0                    |0                            |\n",
      "+---------------------+-----------------------------+\n",
      "\n"
     ]
    }
   ],
   "source": [
    "verificar_nulos(df_productos, \"df_productos\")\n",
    "verificar_nulos(df_ordens_itens, \"df_ordens_itens\")\n",
    "verificar_nulos(df_productos_traducidos, \"df_productos_traducidos\")"
   ]
  },
  {
   "cell_type": "code",
   "execution_count": null,
   "id": "cf3a4d91",
   "metadata": {},
   "outputs": [
    {
     "name": "stdout",
     "output_type": "stream",
     "text": [
      "Registros antes de remover duplicatas (clientes): 99441\n",
      "Registros despues de remover duplicatas (clientes): 99441\n"
     ]
    }
   ],
   "source": [
    "# Remover duplicatas basadas en el user_id\n",
    "print(f\"Registros antes de remover duplicatas (clientes): {df_clientes.count()}\")\n",
    "df_clientes = df_clientes.dropDuplicates(['customer_id'])\n",
    "print(f\"Registros despues de remover duplicatas (clientes): {df_clientes.count()}\")"
   ]
  },
  {
   "cell_type": "code",
   "execution_count": null,
   "id": "dbd095c6",
   "metadata": {},
   "outputs": [
    {
     "name": "stdout",
     "output_type": "stream",
     "text": [
      "+--------------------+--------------------+------------------------+-----------------+\n",
      "|            order_id|         customer_id|order_purchase_timestamp|dias_desde_compra|\n",
      "+--------------------+--------------------+------------------------+-----------------+\n",
      "|e481f51cbdc54678b...|9ef432eb625129730...|     2017-10-02 10:56:33|             2777|\n",
      "|53cdb2fc8bc7dce0b...|b0830fb4747a6c6d2...|     2018-07-24 20:41:37|             2482|\n",
      "|47770eb9100c2d0c4...|41ce2a54c0b03bf34...|     2018-08-08 08:38:49|             2467|\n",
      "|949d5b44dbf5de918...|f88197465ea7920ad...|     2017-11-18 19:28:06|             2730|\n",
      "|ad21c59c0840e6cb8...|8ab97904e6daea886...|     2018-02-13 21:18:39|             2643|\n",
      "+--------------------+--------------------+------------------------+-----------------+\n",
      "only showing top 5 rows\n",
      "\n"
     ]
    }
   ],
   "source": [
    "# Normalizar columna de fecha 'order_purchase_timestamp'.\n",
    "df_ordens = df_ordens.withColumn(\"order_purchase_timestamp\", to_timestamp(col(\"order_purchase_timestamp\"), \"yyyy-MM-dd HH:mm:ss\"))\n",
    "df_ordens = df_ordens.withColumn(\"dias_desde_compra\", datediff(current_date(), col(\"order_purchase_timestamp\")))\n",
    "df_ordens.select(\"order_id\", \"customer_id\", \"order_purchase_timestamp\", \"dias_desde_compra\").show(5)\n",
    "\n"
   ]
  },
  {
   "cell_type": "code",
   "execution_count": 145,
   "id": "4e24617b",
   "metadata": {},
   "outputs": [
    {
     "name": "stdout",
     "output_type": "stream",
     "text": [
      "+--------------------+--------------------+------------+------------------------+-------------------+----------------------------+-----------------------------+-----------------------------+-----------------+--------+\n",
      "|            order_id|         customer_id|order_status|order_purchase_timestamp|  order_approved_at|order_delivered_carrier_date|order_delivered_customer_date|order_estimated_delivery_date|dias_desde_compra|monetary|\n",
      "+--------------------+--------------------+------------+------------------------+-------------------+----------------------------+-----------------------------+-----------------------------+-----------------+--------+\n",
      "|e481f51cbdc54678b...|9ef432eb625129730...|   delivered|     2017-10-02 10:56:33|2017-10-02 11:07:15|         2017-10-04 19:55:00|          2017-10-10 21:25:13|          2017-10-18 00:00:00|             2777|   38.71|\n",
      "|53cdb2fc8bc7dce0b...|b0830fb4747a6c6d2...|   delivered|     2018-07-24 20:41:37|2018-07-26 03:24:27|         2018-07-26 14:31:00|          2018-08-07 15:27:45|          2018-08-13 00:00:00|             2482|  141.46|\n",
      "|47770eb9100c2d0c4...|41ce2a54c0b03bf34...|   delivered|     2018-08-08 08:38:49|2018-08-08 08:55:23|         2018-08-08 13:50:00|          2018-08-17 18:06:29|          2018-09-04 00:00:00|             2467|  179.12|\n",
      "|949d5b44dbf5de918...|f88197465ea7920ad...|   delivered|     2017-11-18 19:28:06|2017-11-18 19:45:59|         2017-11-22 13:39:59|          2017-12-02 00:28:42|          2017-12-15 00:00:00|             2730|    72.2|\n",
      "|ad21c59c0840e6cb8...|8ab97904e6daea886...|   delivered|     2018-02-13 21:18:39|2018-02-13 22:20:29|         2018-02-14 19:46:34|          2018-02-16 18:17:02|          2018-02-26 00:00:00|             2643|   28.62|\n",
      "+--------------------+--------------------+------------+------------------------+-------------------+----------------------------+-----------------------------+-----------------------------+-----------------+--------+\n",
      "only showing top 5 rows\n",
      "\n"
     ]
    }
   ],
   "source": [
    "df_ordens = df_ordens.withColumn(\"dias_desde_compra\", datediff(current_date(), col(\"order_purchase_timestamp\")))\n",
    "df_ordens_pay = df_ordens_payments.groupBy(\"order_id\").agg(sum(\"payment_value\").alias(\"monetary\"))\n",
    "df_ordens_con_pay = df_ordens.join(df_ordens_pay, \"order_id\", 'left')\n",
    "df_ordens_con_pay.show(5)"
   ]
  },
  {
   "cell_type": "markdown",
   "id": "5b6c6fff",
   "metadata": {},
   "source": [
    "4. Análise RFM (Recência, Frequência, Monetário)"
   ]
  },
  {
   "cell_type": "code",
   "execution_count": 146,
   "id": "e116c135",
   "metadata": {},
   "outputs": [],
   "source": [
    "from pyspark.sql.functions import max, countDistinct, sum, min , avg\n"
   ]
  },
  {
   "cell_type": "code",
   "execution_count": 147,
   "id": "c75f9dca",
   "metadata": {},
   "outputs": [],
   "source": [
    "# Calcular Recência (R): Mínimo de dias desde la última compra por cliente\n",
    "rfm_r = df_ordens_con_pay.groupBy(\"customer_id\") \\\n",
    "                 .agg(min(\"dias_desde_compra\").alias(\"Recencia\"))"
   ]
  },
  {
   "cell_type": "code",
   "execution_count": 150,
   "id": "83a0c604",
   "metadata": {},
   "outputs": [],
   "source": [
    "# Calcular Frecuencia (F): Número total de ordenes distintas por cliente\n",
    "rfm_f = df_ordens.groupBy(\"customer_id\") \\\n",
    "                 .agg(countDistinct(\"order_id\").alias(\"Frequencia\"))"
   ]
  },
  {
   "cell_type": "code",
   "execution_count": 151,
   "id": "360cf248",
   "metadata": {},
   "outputs": [],
   "source": [
    "# Calcular Monetário (M): Soma total del valor bruto gastado por cliente usando product_gross_revenue.\n",
    "rfm_m = df_ordens_con_pay.groupBy(\"customer_id\") \\\n",
    "                 .agg(sum(\"monetary\").alias(\"Monetario\"))"
   ]
  },
  {
   "cell_type": "code",
   "execution_count": 152,
   "id": "52cb8fbf",
   "metadata": {},
   "outputs": [],
   "source": [
    "# Juntar R, F, M\n",
    "rfm_table = rfm_r.join(rfm_f, \"customer_id\", \"inner\") \\\n",
    "                 .join(rfm_m, \"customer_id\", \"inner\")"
   ]
  },
  {
   "cell_type": "code",
   "execution_count": 153,
   "id": "4c1b2a9c",
   "metadata": {},
   "outputs": [
    {
     "name": "stdout",
     "output_type": "stream",
     "text": [
      "Tabla RFM:\n",
      "+--------------------+--------+----------+-----------------+\n",
      "|         customer_id|Recencia|Frequencia|        Monetario|\n",
      "+--------------------+--------+----------+-----------------+\n",
      "|0721e1c4b91bc6ded...|    2767|         1|           107.78|\n",
      "|36a1aa63bf2ebcd49...|    2673|         1|             98.8|\n",
      "|80447be02d8f3f3f3...|    2661|         1|             41.0|\n",
      "|6f8b4eeaba59ef3fa...|    2604|         1|           272.63|\n",
      "|a56b03f5e6015f1a5...|    2875|         1|69.49000000000001|\n",
      "|42da09831872a4ecc...|    2481|         1|            88.83|\n",
      "|6f804e6a8f98ba0d1...|    2866|         1|            47.59|\n",
      "|da14d636fdbf0cf7f...|    2542|         1|            47.22|\n",
      "|c920352ccf11e554a...|    2712|         1|            75.07|\n",
      "|6442504c76c94895e...|    2822|         1|            73.34|\n",
      "+--------------------+--------+----------+-----------------+\n",
      "only showing top 10 rows\n",
      "\n"
     ]
    }
   ],
   "source": [
    "print(\"Tabla RFM:\")\n",
    "rfm_table.show(10)"
   ]
  },
  {
   "cell_type": "code",
   "execution_count": 154,
   "id": "4f6e468a",
   "metadata": {},
   "outputs": [
    {
     "name": "stdout",
     "output_type": "stream",
     "text": [
      "+-----------+--------+----------+---------+\n",
      "|customer_id|Recencia|Frequencia|Monetario|\n",
      "+-----------+--------+----------+---------+\n",
      "|          0|       0|         0|        1|\n",
      "+-----------+--------+----------+---------+\n",
      "\n"
     ]
    }
   ],
   "source": [
    "# conteando valores nulos\n",
    "rfm_table.select([count(when(isnan(c) | col(c).isNull(), c)).alias(c) for c in rfm_table.columns]).show()"
   ]
  },
  {
   "cell_type": "code",
   "execution_count": 155,
   "id": "01c28220",
   "metadata": {},
   "outputs": [],
   "source": [
    "from pyspark.sql.functions import mean\n",
    "\n",
    "# completamos con la media por no cambiar las condiciones del dataset.\n",
    "\n",
    "media = rfm_table.select(mean(\"Monetario\")).collect()[0][0]\n",
    "rfm_table = rfm_table.fillna({\"Monetario\": media})"
   ]
  },
  {
   "cell_type": "code",
   "execution_count": 156,
   "id": "b6db4dea",
   "metadata": {},
   "outputs": [],
   "source": [
    "# Atribuir Scores RFM\n",
    "# Dividir cada métrica em N quantis \n",
    "\n",
    "from pyspark.ml.feature import QuantileDiscretizer"
   ]
  },
  {
   "cell_type": "markdown",
   "id": "2fa183fc",
   "metadata": {},
   "source": [
    "Scores: 1 (pior) a 5 (melhor). Recência: menor = melhor. Frequência/Monetário: maior = melhor."
   ]
  },
  {
   "cell_type": "code",
   "execution_count": 157,
   "id": "2795475e",
   "metadata": {},
   "outputs": [],
   "source": [
    "# Recência Score (menor es mejor, así que invertemos las labels)\n",
    "quantile_discretizer_r = QuantileDiscretizer(numBuckets=5, inputCol=\"Recencia\", outputCol=\"R_Score_temp\", relativeError=0.01)\n",
    "rfm_table = quantile_discretizer_r.fit(rfm_table).transform(rfm_table)\n",
    "rfm_table = rfm_table.withColumn(\"R_Score\", (5 - col(\"R_Score_temp\")).cast(IntegerType())) # Inverte para 5 ser o melhor"
   ]
  },
  {
   "cell_type": "code",
   "execution_count": 158,
   "id": "8f3dfa6f",
   "metadata": {},
   "outputs": [],
   "source": [
    "# Frecuencia Score (mayor es mejor)\n",
    "quantile_discretizer_f = QuantileDiscretizer(numBuckets=5, inputCol=\"Frequencia\", outputCol=\"F_Score_temp\", relativeError=0.01)\n",
    "rfm_table = quantile_discretizer_f.fit(rfm_table).transform(rfm_table)\n",
    "rfm_table = rfm_table.withColumn(\"F_Score\", (col(\"F_Score_temp\") + 1).cast(IntegerType())) # Ajusta para 1-5"
   ]
  },
  {
   "cell_type": "code",
   "execution_count": 159,
   "id": "192a8793",
   "metadata": {},
   "outputs": [],
   "source": [
    "# Monetário Score (mayor es mejor)\n",
    "quantile_discretizer_m = QuantileDiscretizer(numBuckets=5, inputCol=\"Monetario\", outputCol=\"M_Score_temp\", relativeError=0.01)\n",
    "rfm_table = quantile_discretizer_m.fit(rfm_table).transform(rfm_table)\n",
    "rfm_table = rfm_table.withColumn(\"M_Score\", (col(\"M_Score_temp\") + 1).cast(IntegerType())) # Ajusta para 1-5"
   ]
  },
  {
   "cell_type": "code",
   "execution_count": 160,
   "id": "9788d034",
   "metadata": {},
   "outputs": [],
   "source": [
    "# Combinar Scores RFM (concatenar como string)\n",
    "from pyspark.sql.functions import concat_ws"
   ]
  },
  {
   "cell_type": "code",
   "execution_count": 161,
   "id": "32b64c03",
   "metadata": {},
   "outputs": [],
   "source": [
    "rfm_final = rfm_table.withColumn(\"RFM_Score\", concat_ws(\"\", col(\"R_Score\"), col(\"F_Score\"), col(\"M_Score\")))\n",
    "rfm_final = rfm_final.select(\"customer_id\", \"Recencia\", \"Frequencia\", \"Monetario\", \"R_Score\", \"F_Score\", \"M_Score\", \"RFM_Score\")"
   ]
  },
  {
   "cell_type": "code",
   "execution_count": 162,
   "id": "87a2a855",
   "metadata": {},
   "outputs": [
    {
     "name": "stdout",
     "output_type": "stream",
     "text": [
      "Tabla RFM final con Scores:\n",
      "+--------------------+--------+----------+-----------------+-------+-------+-------+---------+\n",
      "|         customer_id|Recencia|Frequencia|        Monetario|R_Score|F_Score|M_Score|RFM_Score|\n",
      "+--------------------+--------+----------+-----------------+-------+-------+-------+---------+\n",
      "|0721e1c4b91bc6ded...|    2767|         1|           107.78|      2|      2|      3|      223|\n",
      "|36a1aa63bf2ebcd49...|    2673|         1|             98.8|      3|      2|      3|      323|\n",
      "|80447be02d8f3f3f3...|    2661|         1|             41.0|      3|      2|      1|      321|\n",
      "|6f8b4eeaba59ef3fa...|    2604|         1|           272.63|      4|      2|      5|      425|\n",
      "|a56b03f5e6015f1a5...|    2875|         1|69.49000000000001|      1|      2|      2|      122|\n",
      "|42da09831872a4ecc...|    2481|         1|            88.83|      5|      2|      3|      523|\n",
      "|6f804e6a8f98ba0d1...|    2866|         1|            47.59|      1|      2|      1|      121|\n",
      "|da14d636fdbf0cf7f...|    2542|         1|            47.22|      5|      2|      1|      521|\n",
      "|c920352ccf11e554a...|    2712|         1|            75.07|      3|      2|      2|      322|\n",
      "|6442504c76c94895e...|    2822|         1|            73.34|      2|      2|      2|      222|\n",
      "+--------------------+--------+----------+-----------------+-------+-------+-------+---------+\n",
      "only showing top 10 rows\n",
      "\n"
     ]
    }
   ],
   "source": [
    "print(\"Tabla RFM final con Scores:\")\n",
    "rfm_final.show(10)"
   ]
  },
  {
   "cell_type": "markdown",
   "id": "363820c7",
   "metadata": {},
   "source": [
    "5. Clusterizacion de Clientes com K-Means (basado en RFM)"
   ]
  },
  {
   "cell_type": "code",
   "execution_count": 163,
   "id": "531ea4d2",
   "metadata": {},
   "outputs": [],
   "source": [
    "from pyspark.ml.feature import VectorAssembler, StandardScaler, MinMaxScaler\n",
    "from pyspark.ml.clustering import KMeans\n",
    "from pyspark.ml.evaluation import ClusteringEvaluator"
   ]
  },
  {
   "cell_type": "code",
   "execution_count": 164,
   "id": "4fac5b36",
   "metadata": {},
   "outputs": [],
   "source": [
    "# Seleccionar las colunas RFM para clusterizacion\n",
    "rfm_features = rfm_final.select(\"customer_id\", \"Recencia\", \"Frequencia\", \"Monetario\")\n",
    "\n"
   ]
  },
  {
   "cell_type": "code",
   "execution_count": 165,
   "id": "7f43e769",
   "metadata": {},
   "outputs": [],
   "source": [
    "# Montar los vectores de las features\n",
    "vec_assembler = VectorAssembler(inputCols=[\"Recencia\", \"Frequencia\", \"Monetario\"], outputCol=\"rfm_features_raw\")\n",
    "rfm_vector = vec_assembler.transform(rfm_features)"
   ]
  },
  {
   "cell_type": "code",
   "execution_count": 166,
   "id": "bed72d1a",
   "metadata": {},
   "outputs": [],
   "source": [
    "# Escalar las features (K-Means es sensible a escala)\n",
    "scaler = MinMaxScaler(inputCol=\"rfm_features_raw\", outputCol=\"features\")\n",
    "scaler_model = scaler.fit(rfm_vector)\n",
    "rfm_scaled = scaler_model.transform(rfm_vector)"
   ]
  },
  {
   "cell_type": "code",
   "execution_count": 167,
   "id": "85ddcd89",
   "metadata": {},
   "outputs": [
    {
     "name": "stdout",
     "output_type": "stream",
     "text": [
      "Features RFM montadas y escaladas:\n",
      "+--------------------------------+----------------------------------------------+\n",
      "|customer_id                     |features                                      |\n",
      "+--------------------------------+----------------------------------------------+\n",
      "|0721e1c4b91bc6ded6579edace8659d3|[0.4786545924967659,0.5,0.00788783438036077]  |\n",
      "|36a1aa63bf2ebcd4911e026092700610|[0.3570504527813713,0.5,0.00723063682296942]  |\n",
      "|80447be02d8f3f3f309c7df938a08501|[0.3415265200517465,0.5,0.0030005679123658526]|\n",
      "|6f8b4eeaba59ef3fac7b5cbddf1a8493|[0.2677878395860285,0.5,0.01995231292556835]  |\n",
      "|a56b03f5e6015f1a502b9810309b98b7|[0.6183699870633894,0.5,0.005085596688543979] |\n",
      "+--------------------------------+----------------------------------------------+\n",
      "only showing top 5 rows\n",
      "\n"
     ]
    }
   ],
   "source": [
    "print(\"Features RFM montadas y escaladas:\")\n",
    "rfm_scaled.select(\"customer_id\", \"features\").show(5, truncate=False)"
   ]
  },
  {
   "cell_type": "code",
   "execution_count": 168,
   "id": "1772c31e",
   "metadata": {},
   "outputs": [
    {
     "name": "stdout",
     "output_type": "stream",
     "text": [
      "Silhouette Score com k=2: 0.7515403944585144\n",
      "Silhouette Score com k=3: 0.7303433516689768\n",
      "Silhouette Score com k=4: 0.6992462354780676\n",
      "Silhouette Score com k=5: 0.699331859120655\n",
      "Silhouette Score com k=6: 0.6869590463920003\n",
      "Silhouette Score com k=7: 0.6890295834221356\n",
      "Silhouette Score com k=8: 0.6931698783852374\n",
      "Silhouette Score com k=9: 0.698410051602357\n",
      "Silhouette Score com k=10: 0.6785244715043298\n",
      "Silhouette Score com k=11: 0.6519170847591705\n",
      "Silhouette Score com k=12: 0.6860203363187527\n",
      "Silhouette Score com k=13: 0.6654648611781729\n",
      "Silhouette Score com k=14: 0.6356033063133774\n",
      "Silhouette Score com k=15: 0.6680169588682712\n",
      "Silhouette Score com k=16: 0.6348821692739498\n",
      "Silhouette Score com k=17: 0.6062064097518732\n",
      "Silhouette Score com k=18: 0.644760646503485\n",
      "Silhouette Score com k=19: 0.6241518564524761\n"
     ]
    }
   ],
   "source": [
    "# Usando Silhouette para decidir la cantidad de clusters\n",
    "\n",
    "k = 2\n",
    "while k < 20:\n",
    "    kmeans = KMeans(featuresCol=\"features\", k=k, seed=1)\n",
    "    model = kmeans.fit(rfm_scaled)\n",
    "    predictions = model.transform(rfm_scaled)\n",
    "    evaluator = ClusteringEvaluator(featuresCol='features', metricName='silhouette', distanceMeasure='squaredEuclidean')\n",
    "    silhouette = evaluator.evaluate(predictions)\n",
    "    print(f\"Silhouette Score com k={k}: {silhouette}\")\n",
    "    k+=1"
   ]
  },
  {
   "cell_type": "code",
   "execution_count": 177,
   "id": "82d12e79",
   "metadata": {},
   "outputs": [
    {
     "name": "stdout",
     "output_type": "stream",
     "text": [
      "k=2 → Silhouette: 0.7515, WSSSE: 1193.16\n",
      "k=3 → Silhouette: 0.7303, WSSSE: 545.83\n",
      "k=4 → Silhouette: 0.6992, WSSSE: 344.37\n",
      "k=5 → Silhouette: 0.6993, WSSSE: 221.07\n",
      "k=6 → Silhouette: 0.6870, WSSSE: 171.02\n",
      "k=7 → Silhouette: 0.6890, WSSSE: 126.20\n",
      "k=8 → Silhouette: 0.6932, WSSSE: 114.38\n",
      "k=9 → Silhouette: 0.6984, WSSSE: 109.63\n",
      "k=10 → Silhouette: 0.6785, WSSSE: 90.15\n",
      "k=11 → Silhouette: 0.6519, WSSSE: 72.23\n",
      "k=12 → Silhouette: 0.6860, WSSSE: 71.63\n",
      "k=13 → Silhouette: 0.6655, WSSSE: 56.48\n",
      "k=14 → Silhouette: 0.6356, WSSSE: 53.28\n",
      "k=15 → Silhouette: 0.6680, WSSSE: 59.81\n",
      "k=16 → Silhouette: 0.6349, WSSSE: 46.38\n",
      "k=17 → Silhouette: 0.6062, WSSSE: 44.39\n",
      "k=18 → Silhouette: 0.6448, WSSSE: 42.75\n",
      "k=19 → Silhouette: 0.6242, WSSSE: 42.83\n"
     ]
    }
   ],
   "source": [
    "from pyspark.ml.clustering import KMeans\n",
    "from pyspark.ml.evaluation import ClusteringEvaluator\n",
    "\n",
    "silhouettes = []\n",
    "wssse_list = []\n",
    "\n",
    "for k in range(2, 20):\n",
    "    kmeans = KMeans(featuresCol=\"features\", k=k, seed=1)\n",
    "    model = kmeans.fit(rfm_scaled)\n",
    "    \n",
    "    predictions = model.transform(rfm_scaled)\n",
    "    \n",
    "    # Silhouette Score\n",
    "    evaluator = ClusteringEvaluator(featuresCol='features', metricName='silhouette', distanceMeasure='squaredEuclidean')\n",
    "    silhouette = evaluator.evaluate(predictions)\n",
    "    \n",
    "    # WSSSE (Elbow method)\n",
    "    wssse = model.summary.trainingCost\n",
    "    \n",
    "    silhouettes.append((k, silhouette))\n",
    "    wssse_list.append((k, wssse))\n",
    "    \n",
    "    print(f\"k={k} → Silhouette: {silhouette:.4f}, WSSSE: {wssse:.2f}\")\n"
   ]
  },
  {
   "cell_type": "code",
   "execution_count": 179,
   "id": "f9338270",
   "metadata": {},
   "outputs": [
    {
     "data": {
      "image/png": "[encoded data removed]",
      "text/plain": [
       "<Figure size 1000x400 with 2 Axes>"
      ]
     },
     "metadata": {},
     "output_type": "display_data"
    }
   ],
   "source": [
    "import matplotlib.pyplot as plt\n",
    "\n",
    "# Separar valores para plot\n",
    "ks, sil_scores = zip(*silhouettes)\n",
    "_, wssse_vals = zip(*wssse_list)\n",
    "\n",
    "# Plot Silhouette\n",
    "plt.figure(figsize=(10, 4))\n",
    "plt.subplot(1, 2, 1)\n",
    "plt.plot(ks, sil_scores, marker='o')\n",
    "plt.title(\"Silhouette por Cluster\")\n",
    "plt.xlabel(\"Cluster\")\n",
    "plt.ylabel(\"Silhouette Score\")\n",
    "\n",
    "# Plot Elbow (WSSSE)\n",
    "plt.subplot(1, 2, 2)\n",
    "plt.plot(ks, wssse_vals, marker='o')\n",
    "plt.title(\"Método do Cotovelo (WSSSE)\")\n",
    "plt.xlabel(\"Cluster\")\n",
    "plt.ylabel(\"WSSSE\")\n",
    "\n",
    "plt.tight_layout()\n",
    "plt.show()\n"
   ]
  },
  {
   "cell_type": "markdown",
   "id": "e5451048",
   "metadata": {},
   "source": [
    "# ¿Qué es el *Silhouette Score* en Machine Learning y Clustering?\n",
    "\n",
    "El **Silhouette Score** es una métrica que evalúa la calidad de los clusters generados por un algoritmo de *clustering* no supervisado, como **K-Means**, **DBSCAN**, o **clustering jerárquico**.\n",
    "\n",
    "## ¿Cómo se calcula?\n",
    "\n",
    "Para cada punto \\( i \\):\n",
    "\n",
    "- \\( a(i) \\): Distancia media a los demás puntos dentro del mismo cluster.\n",
    "- \\( b(i) \\): Distancia media al cluster más cercano al que no pertenece.\n",
    "\n",
    "\\[\n",
    "s(i) = \\frac{b(i) - a(i)}{\\max(a(i), b(i))}\n",
    "\\]\n",
    "\n",
    "- \\( s(i) \\) cercano a **1** → buena asignación.\n",
    "- \\( s(i) \\) cercano a **0** → punto entre dos clusters.\n",
    "- \\( s(i) \\) negativo → probablemente mal asignado.\n",
    "\n",
    "## Interpretación del promedio\n",
    "\n",
    "\\[\n",
    "\\text{Silhouette Score promedio} = \\frac{1}{n} \\sum_{i=1}^{n} s(i)\n",
    "\\]\n",
    "\n",
    "- **> 0.7** → Clustering fuerte y bien definido.\n",
    "- **0.5 a 0.7** → Estructura razonable.\n",
    "- **< 0.5** → Clusters solapados o mal definidos.\n",
    "\n",
    "## Usos\n",
    "\n",
    "- Comparar diferentes configuraciones de clustering (por ejemplo, distintos valores de \\( k \\) en K-Means).\n",
    "- Identificar posibles outliers.\n",
    "- Elegir el número óptimo de clusters."
   ]
  },
  {
   "cell_type": "code",
   "execution_count": 183,
   "id": "cbfca445",
   "metadata": {},
   "outputs": [
    {
     "name": "stdout",
     "output_type": "stream",
     "text": [
      "Clientes atribuídos a 5 clusters:\n",
      "+--------------------+--------------------+----------+\n",
      "|         customer_id|            features|prediction|\n",
      "+--------------------+--------------------+----------+\n",
      "|0721e1c4b91bc6ded...|[0.47865459249676...|         3|\n",
      "|36a1aa63bf2ebcd49...|[0.35705045278137...|         0|\n",
      "|80447be02d8f3f3f3...|[0.34152652005174...|         0|\n",
      "|6f8b4eeaba59ef3fa...|[0.26778783958602...|         4|\n",
      "|a56b03f5e6015f1a5...|[0.61836998706338...|         3|\n",
      "|42da09831872a4ecc...|[0.10866752910737...|         2|\n",
      "|6f804e6a8f98ba0d1...|[0.60672703751617...|         3|\n",
      "|da14d636fdbf0cf7f...|[0.18758085381630...|         2|\n",
      "|c920352ccf11e554a...|[0.40750323415265...|         0|\n",
      "|6442504c76c94895e...|[0.54980595084087...|         3|\n",
      "+--------------------+--------------------+----------+\n",
      "only showing top 10 rows\n",
      "\n"
     ]
    }
   ],
   "source": [
    "# Despues de medir la cantidad de clusters, nos quedamos con 4, \n",
    "# pues se considera 2 poco y con 4 tenemos una clusterizacion cerca de 0.7.\n",
    "\n",
    "k = 5\n",
    "kmeans = KMeans(featuresCol=\"features\", k=k, seed=1)\n",
    "model = kmeans.fit(rfm_scaled)\n",
    "\n",
    "# Predicir (poner clusters a los clientes)\n",
    "predictions = model.transform(rfm_scaled)\n",
    "\n",
    "print(f\"Clientes atribuídos a {k} clusters:\")\n",
    "predictions.select(\"customer_id\", 'features', \"prediction\").show(10)"
   ]
  },
  {
   "cell_type": "code",
   "execution_count": 170,
   "id": "c4b9854a",
   "metadata": {},
   "outputs": [
    {
     "name": "stdout",
     "output_type": "stream",
     "text": [
      "Silhouette Score com k=5: 0.699331859120655\n"
     ]
    }
   ],
   "source": [
    "# Avaliar la clusterizacion (Silhouette Score)\n",
    "\n",
    "evaluator = ClusteringEvaluator(featuresCol='features', metricName='silhouette', distanceMeasure='squaredEuclidean')\n",
    "silhouette = evaluator.evaluate(predictions)\n",
    "print(f\"Silhouette Score com k={k}: {silhouette}\")"
   ]
  },
  {
   "cell_type": "code",
   "execution_count": 171,
   "id": "58d51a7d",
   "metadata": {},
   "outputs": [
    {
     "data": {
      "image/png": "[encoded data removed]",
      "text/plain": [
       "<Figure size 1000x600 with 1 Axes>"
      ]
     },
     "metadata": {},
     "output_type": "display_data"
    }
   ],
   "source": [
    "import numpy as np\n",
    "import matplotlib.pyplot as plt\n",
    "from sklearn.metrics import silhouette_samples\n",
    "\n",
    "# Graficamos Silhouette score.\n",
    "\n",
    "pred_pd = predictions.select(\"features\", \"prediction\").toPandas()\n",
    "X = np.vstack(pred_pd[\"features\"].values)\n",
    "labels = pred_pd[\"prediction\"].values\n",
    "\n",
    "sample_values = silhouette_samples(X, labels)\n",
    "\n",
    "plt.figure(figsize=(10, 6))\n",
    "y_lower = 10\n",
    "for i in np.unique(labels):\n",
    "    ith_cluster_silhouette_values = sample_values[labels == i]\n",
    "    ith_cluster_silhouette_values.sort()\n",
    "    size_cluster_i = ith_cluster_silhouette_values.shape[0]\n",
    "    y_upper = y_lower + size_cluster_i\n",
    "    plt.fill_betweenx(np.arange(y_lower, y_upper),\n",
    "                      0, ith_cluster_silhouette_values)\n",
    "    plt.text(-0.05, y_lower + 0.5 * size_cluster_i, str(i))\n",
    "    y_lower = y_upper + 10\n",
    "\n",
    "plt.axvline(x=silhouette, color=\"red\", linestyle=\"--\")\n",
    "plt.xlabel(\"Silhouette coefficient values\")\n",
    "plt.ylabel(\"Cluster\")\n",
    "plt.title(\"Grafica de Silhouette\")\n",
    "plt.show()"
   ]
  },
  {
   "cell_type": "code",
   "execution_count": 184,
   "id": "ff9822af",
   "metadata": {},
   "outputs": [
    {
     "name": "stdout",
     "output_type": "stream",
     "text": [
      "Tabela final com RFM Scores e Cluster:\n",
      "+--------------------+--------+----------+---------+-------+-------+-------+---------+-------+--------------------+\n",
      "|         customer_id|Recencia|Frequencia|Monetario|R_Score|F_Score|M_Score|RFM_Score|cluster|            features|\n",
      "+--------------------+--------+----------+---------+-------+-------+-------+---------+-------+--------------------+\n",
      "|00050bf6e01e69d5c...|    2792|         1|    85.23|      2|      2|      2|      222|      3|[0.51099611901681...|\n",
      "|000598caf2ef41174...|    2464|         1|  1255.71|      5|      2|      5|      525|      2|[0.08667529107373...|\n",
      "|0013cd8e350a7cc76...|    2560|         1|     92.6|      4|      2|      3|      423|      4|[0.21086675291073...|\n",
      "|0015bc9fd2d539544...|    2525|         1|   132.19|      5|      2|      4|      524|      2|[0.16558861578266...|\n",
      "|0015f7887e2fde13d...|    2840|         1|   186.74|      1|      2|      4|      124|      3|[0.57309184993531...|\n",
      "|001df1ee5c36767aa...|    2470|         1|    42.86|      5|      2|      1|      521|      2|[0.09443725743855...|\n",
      "|001f150aebb5d897f...|    2558|         1|   125.97|      4|      2|      3|      423|      4|[0.20827943078913...|\n",
      "|001f35d9f262c558f...|    2662|         1|    46.53|      3|      2|      1|      321|      0|[0.34282018111254...|\n",
      "|0026955706fd4e2fa...|    2455|         1|    121.9|      5|      2|      3|      523|      2|[0.07503234152652...|\n",
      "|0028ff36263a86bf6...|    2585|         1|    74.94|      4|      2|      2|      422|      4|[0.24320827943078...|\n",
      "+--------------------+--------+----------+---------+-------+-------+-------+---------+-------+--------------------+\n",
      "only showing top 10 rows\n",
      "\n"
     ]
    }
   ],
   "source": [
    "# Juntar las previsiones de cluster con la tabla RFM final\n",
    "clientes_clusterizados = rfm_final.join(predictions.select(\"customer_id\", col(\"prediction\").alias(\"cluster\"), col(\"features\")), \"customer_id\", \"inner\")\n",
    "print(\"Tabela final com RFM Scores e Cluster:\")\n",
    "clientes_clusterizados.show(10)"
   ]
  },
  {
   "cell_type": "code",
   "execution_count": 185,
   "id": "e3c64ad3",
   "metadata": {},
   "outputs": [
    {
     "name": "stdout",
     "output_type": "stream",
     "text": [
      "\n",
      "Análise das características médias por cluster:\n",
      "+-------+------------------+----------------+------------------+------------+\n",
      "|cluster|    Recencia_Media|Frequencia_Media|   Monetario_Medio|Num_Clientes|\n",
      "+-------+------------------+----------------+------------------+------------+\n",
      "|      0| 2706.040466763909|             1.0| 156.5970893936242|       23995|\n",
      "|      1| 2958.230378361476|             1.0|166.05523610590166|       12792|\n",
      "|      2|2493.3728145776904|             1.0|165.25295050480167|       20305|\n",
      "|      3| 2824.855343283582|             1.0| 159.2049522388065|       16750|\n",
      "|      4|2598.0594554474783|             1.0| 160.3642040704716|       25599|\n",
      "+-------+------------------+----------------+------------------+------------+\n",
      "\n"
     ]
    }
   ],
   "source": [
    "# Analisar las características de cada cluster y sus medias\n",
    "\n",
    "print(\"\\nAnálise das características médias por cluster:\")\n",
    "clientes_clusterizados.groupBy(\"cluster\") \\\n",
    "    .agg(avg(\"Recencia\").alias(\"Recencia_Media\"), \\\n",
    "         avg(\"Frequencia\").alias(\"Frequencia_Media\"), \\\n",
    "         avg(\"Monetario\").alias(\"Monetario_Medio\"), \\\n",
    "         countDistinct(\"customer_id\").alias(\"Num_Clientes\")) \\\n",
    "    .orderBy(\"cluster\") \\\n",
    "    .show()"
   ]
  },
  {
   "cell_type": "code",
   "execution_count": null,
   "id": "47487065",
   "metadata": {},
   "outputs": [
    {
     "name": "stdout",
     "output_type": "stream",
     "text": [
      "Cluster 0: R=0.26, F=0.50, M=0.01\n",
      "Cluster 1: R=0.40, F=0.50, M=0.01\n",
      "Cluster 2: R=0.13, F=0.50, M=0.01\n",
      "Cluster 3: R=0.73, F=0.50, M=0.01\n",
      "Cluster 4: R=0.56, F=0.50, M=0.01\n"
     ]
    }
   ],
   "source": [
    "# Analisar los centroides de los clusters:\n",
    "\n",
    "model = kmeans.fit(clientes_clusterizados)\n",
    "centroides = model.clusterCenters()\n",
    "\n",
    "for i, centroide in enumerate(centroides):\n",
    "    print(f\"Cluster {i}: R={centroide[0]:.2f}, F={centroide[1]:.2f}, M={centroide[2]:.2f}\")\n"
   ]
  },
  {
   "cell_type": "markdown",
   "id": "bac726b1",
   "metadata": {},
   "source": [
    "Modelo para analisis de la clusterizacion."
   ]
  },
  {
   "cell_type": "code",
   "execution_count": 175,
   "id": "b3efb560",
   "metadata": {},
   "outputs": [],
   "source": [
    "from pyspark.ml import Pipeline\n",
    "from pyspark.ml.feature import VectorAssembler, StringIndexer\n",
    "from pyspark.ml.classification import RandomForestClassifier\n",
    "from pyspark.ml.classification import GBTClassifier\n",
    "from pyspark.ml.evaluation import MulticlassClassificationEvaluator\n",
    "from pyspark.mllib.evaluation import MulticlassMetrics\n",
    "\n",
    "#Usando solo las columnas que vamos analisar\n",
    "Gboost_data = clientes_clusterizados[\"R_Score\",\"F_Score\",\"M_Score\", \"cluster\"]\n",
    "\n",
    "# Indexação da variável target\n",
    "label_indexer = StringIndexer(inputCol=\"cluster\", outputCol=\"indexedLabel\")\n",
    "\n",
    "# Vetorização das features\n",
    "feature_assembler = VectorAssembler(\n",
    "    inputCols=[\"R_Score\", \"F_Score\", \"M_Score\"],\n",
    "    outputCol=\"features\"\n",
    ")\n"
   ]
  },
  {
   "cell_type": "code",
   "execution_count": 176,
   "id": "53b052d1",
   "metadata": {},
   "outputs": [
    {
     "name": "stderr",
     "output_type": "stream",
     "text": [
      "/usr/local/spark/python/pyspark/sql/context.py:158: FutureWarning: Deprecated in 3.0.0. Use SparkSession.builder.getOrCreate() instead.\n",
      "  warnings.warn(\n"
     ]
    },
    {
     "name": "stdout",
     "output_type": "stream",
     "text": [
      "Accuracy: 0.76\n",
      "Confusion Matrix:\n",
      "DenseMatrix([[5635., 2102.,    0.,    0.,    0.],\n",
      "             [   0., 7076.,    0.,    0.,    0.],\n",
      "             [  68.,    0., 5959.,    0.,    0.],\n",
      "             [   0., 2587.,    0.,    0., 2371.],\n",
      "             [   0.,    0.,    0.,    0., 3776.]])\n"
     ]
    }
   ],
   "source": [
    "\n",
    "\n",
    "# Modelo GBT - No funciona en este caso pues trabaja solo con binarios. ASi que cambiamos a un randon forest.\n",
    "gbt = GBTClassifier(labelCol=\"indexedLabel\", featuresCol=\"features\", maxIter=10)\n",
    "\n",
    "#Modelo Randon Forest\n",
    "rf = RandomForestClassifier(labelCol=\"indexedLabel\", featuresCol=\"features\", numTrees=100)\n",
    "\n",
    "# Pipeline\n",
    "pipeline = Pipeline(stages=[label_indexer, feature_assembler, rf])\n",
    "\n",
    "(train_data, test_data) = Gboost_data.randomSplit([0.7, 0.3], seed=42)\n",
    " \n",
    "# Treinamento\n",
    "model = pipeline.fit(train_data)\n",
    "\n",
    "# Previsão\n",
    "predictions = model.transform(test_data)\n",
    "\n",
    "# Avaliação\n",
    "evaluator = MulticlassClassificationEvaluator(\n",
    "    labelCol=\"indexedLabel\", predictionCol=\"prediction\", metricName=\"accuracy\"\n",
    ")\n",
    "accuracy = evaluator.evaluate(predictions)\n",
    "\n",
    "predictionAndLabels = predictions.select(\"prediction\", \"indexedLabel\").rdd.map(tuple)\n",
    "metrics = MulticlassMetrics(predictionAndLabels)\n",
    "\n",
    "print(f\"Accuracy: {accuracy:.2f}\")\n",
    "print(\"Confusion Matrix:\")\n",
    "print(metrics.confusionMatrix())\n",
    "\n"
   ]
  },
  {
   "cell_type": "markdown",
   "id": "ae5adaa6",
   "metadata": {},
   "source": [
    "6. Modelo de Recomendaciones de Productos (ALS - Collaborative Filtering)"
   ]
  },
  {
   "cell_type": "code",
   "execution_count": null,
   "id": "e85d294a",
   "metadata": {},
   "outputs": [],
   "source": [
    "from pyspark.ml.recommendation import ALS\n",
    "from pyspark.sql.functions import expr"
   ]
  },
  {
   "cell_type": "code",
   "execution_count": null,
   "id": "674e88fb",
   "metadata": {},
   "outputs": [],
   "source": [
    "# Certificar que os IDs são inteiros e não nulos\n",
    "als_data = df_ordens.select(\n",
    "    col(\"customer_id\").cast(IntegerType()),\n",
    "    col(\"product_id\").cast(IntegerType()),\n",
    "    col(\"product_qty\").cast(FloatType()) # Usando cantidad como 'rating' implícito\n",
    ").na.drop() # Quitar lineas donde customer_id o product_id son nulos mismo despues del cast"
   ]
  },
  {
   "cell_type": "code",
   "execution_count": null,
   "id": "01b2b385",
   "metadata": {},
   "outputs": [],
   "source": [
    "# renombrar columnas para el patron de ALS\n",
    "als_data = als_data.withColumnRenamed(\"customer_id\", \"userCol\") \\\n",
    "                   .withColumnRenamed(\"product_id\", \"itemCol\") \\\n",
    "                   .withColumnRenamed(\"product_qty\", \"ratingCol\")"
   ]
  },
  {
   "cell_type": "code",
   "execution_count": null,
   "id": "113ec314",
   "metadata": {},
   "outputs": [],
   "source": [
    "# Dividir datos en train y test \n",
    "(training, test) = als_data.randomSplit([0.8, 0.2], seed=1234)"
   ]
  },
  {
   "cell_type": "code",
   "execution_count": null,
   "id": "0ddff4a1",
   "metadata": {},
   "outputs": [],
   "source": [
    "# Construir modelo ALS con una configuracion basica\n",
    "als_model = ALS(userCol=\"userCol\", itemCol=\"itemCol\", ratingCol=\"ratingCol\",\n",
    "          implicitPrefs=True, coldStartStrategy=\"drop\",\n",
    "          nonnegative=True)"
   ]
  },
  {
   "cell_type": "code",
   "execution_count": null,
   "id": "91371b80",
   "metadata": {},
   "outputs": [
    {
     "name": "stdout",
     "output_type": "stream",
     "text": [
      "Melhor RMSE no teste: 75.36105472747009\n",
      "Mean Absolute Error (MAE):    14.4987\n"
     ]
    }
   ],
   "source": [
    "from pyspark.sql.functions import explode\n",
    "from pyspark.ml.tuning import CrossValidator, ParamGridBuilder\n",
    "from pyspark.ml.evaluation import RegressionEvaluator\n",
    "\n",
    "# test de los hiperparametros para ajuste.\n",
    "paramGrid = ParamGridBuilder() \\\n",
    "    .addGrid(als_model.rank, [10, 20, 30]) \\\n",
    "    .addGrid(als_model.regParam, [0.01, 0.1, 1.0]) \\\n",
    "    .addGrid(als_model.alpha, [0.5, 1.0, 2.0]) \\\n",
    "    .build()\n",
    "\n",
    "\n",
    "#cross validator Evaluator\n",
    "\n",
    "evaluator = RegressionEvaluator(metricName=\"rmse\", labelCol=\"ratingCol\", predictionCol=\"prediction\")\n",
    "\n",
    "cv = CrossValidator(estimator=als_model,\n",
    "                    estimatorParamMaps=paramGrid,\n",
    "                    evaluator=evaluator,\n",
    "                    numFolds=3)\n",
    "\n",
    "# Entrenar el modelo\n",
    "cv_model = cv.fit(training)\n",
    "\n",
    "# Mejor modelo\n",
    "mejor_modelo = cv_model.bestModel\n",
    "\n",
    "# Previsiones en el conjunto de test\n",
    "previsoes = mejor_modelo.transform(test)\n",
    "\n",
    "# Cálculo de RMSE y MAE\n",
    "rmse = evaluator.evaluate(previsoes.na.drop(subset=[\"prediction\"]))\n",
    "print(f\"Melhor RMSE no teste: {rmse}\")\n",
    "evaluator_mae = RegressionEvaluator(metricName=\"mae\", labelCol=\"ratingCol\", predictionCol=\"prediction\")\n",
    "mae = evaluator_mae.evaluate(previsoes)\n",
    "print(f\"Mean Absolute Error (MAE):    {mae:.4f}\")\n",
    "\n",
    "# Generar las recomendaciones formatadas\n",
    "recomendaciones = mejor_modelo.recommendForAllUsers(5)\n"
   ]
  },
  {
   "cell_type": "code",
   "execution_count": null,
   "id": "c2f272ec",
   "metadata": {},
   "outputs": [
    {
     "name": "stdout",
     "output_type": "stream",
     "text": [
      "Top 5 Recomendaciones por usuario (IDs de Produto):\n",
      "+-------+-------------------------------------------------------------------------------------------------------+\n",
      "|userCol|recommendations                                                                                        |\n",
      "+-------+-------------------------------------------------------------------------------------------------------+\n",
      "|580    |[{5674, 0.8311895}, {2418, 0.7814818}, {14536, 0.75606006}, {19808, 0.74783796}, {17766, 0.7012954}]   |\n",
      "|470    |[{19808, 0.93692124}, {20412, 0.88025147}, {12956, 0.7969291}, {14536, 0.6735073}, {2418, 0.66678643}] |\n",
      "|430    |[{2678, 1.188983}, {13610, 1.1402546}, {13609, 1.1097128}, {10594, 1.1010408}, {16620, 1.1009189}]     |\n",
      "|450    |[{12936, 0.6646481}, {21148, 0.44092023}, {20262, 0.43391424}, {2786, 0.4117555}, {14619, 0.39823347}] |\n",
      "|80     |[{15167, 1.8881321}, {10945, 1.2174681}, {11630, 1.0428602}, {6685, 1.02357}, {14808, 0.9978072}]      |\n",
      "|60     |[{2786, 1.3523881}, {12956, 1.0637974}, {10184, 1.0612406}, {12309, 1.0292344}, {963, 1.0271432}]      |\n",
      "|260    |[{14288, 0.04341869}, {5669, 0.0417743}, {614, 0.03954354}, {12913, 0.038924243}, {11668, 0.0365305}]  |\n",
      "|270    |[{10181, 0.91629666}, {15167, 0.89899695}, {1584, 0.79293084}, {14745, 0.7760306}, {13594, 0.73706335}]|\n",
      "|690    |[{963, 0.105619214}, {4064, 0.10553084}, {13449, 0.10487307}, {13746, 0.10315181}, {14914, 0.10193962}]|\n",
      "|30     |[{14288, 1.0429096}, {13437, 1.0123707}, {5669, 1.0034115}, {4189, 0.97344345}, {11668, 0.96854705}]   |\n",
      "+-------+-------------------------------------------------------------------------------------------------------+\n",
      "only showing top 10 rows\n",
      "\n"
     ]
    }
   ],
   "source": [
    "print(\"Top 5 Recomendaciones por usuario (IDs de Produto):\")\n",
    "recomendaciones.show(10, truncate=False)"
   ]
  },
  {
   "cell_type": "code",
   "execution_count": null,
   "id": "84ce206f",
   "metadata": {},
   "outputs": [
    {
     "name": "stdout",
     "output_type": "stream",
     "text": [
      "Recomendaciones formateadas (Usuário, Produto ID, Rating Predito):\n",
      "+-------+----------+----------------+\n",
      "|userCol|product_id|predicted_rating|\n",
      "+-------+----------+----------------+\n",
      "|    580|      5674|       0.8311895|\n",
      "|    580|      2418|       0.7814818|\n",
      "|    580|     14536|      0.75606006|\n",
      "|    580|     19808|      0.74783796|\n",
      "|    580|     17766|       0.7012954|\n",
      "|    470|     19808|      0.93692124|\n",
      "|    470|     20412|      0.88025147|\n",
      "|    470|     12956|       0.7969291|\n",
      "|    470|     14536|       0.6735073|\n",
      "|    470|      2418|      0.66678643|\n",
      "|    430|      2678|        1.188983|\n",
      "|    430|     13610|       1.1402546|\n",
      "|    430|     13609|       1.1097128|\n",
      "|    430|     10594|       1.1010408|\n",
      "|    430|     16620|       1.1009189|\n",
      "|    450|     12936|       0.6646481|\n",
      "|    450|     21148|      0.44092023|\n",
      "|    450|     20262|      0.43391424|\n",
      "|    450|      2786|       0.4117555|\n",
      "|    450|     14619|      0.39823347|\n",
      "+-------+----------+----------------+\n",
      "only showing top 20 rows\n",
      "\n"
     ]
    }
   ],
   "source": [
    "# Formatear las recomendaciones para mejor visualizarlas\n",
    "user_recs_formatted = recomendaciones.withColumn(\"rec_exp\", expr(\"explode(recommendations)\")) \\\n",
    "                               .select(\"userCol\", col(\"rec_exp.itemCol\").alias(\"product_id\"), col(\"rec_exp.rating\").alias(\"predicted_rating\"))\n",
    "print(\"Recomendaciones formateadas (Usuário, Produto ID, Rating Predito):\")\n",
    "user_recs_formatted.show(20)"
   ]
  },
  {
   "cell_type": "code",
   "execution_count": null,
   "id": "bb7e8d8a",
   "metadata": {},
   "outputs": [],
   "source": [
    "# Juntar con nombres de productos para que sean mas legíveis\n",
    "# Seleccionar apenas id e nombre del producto para el join\n",
    "df_produtos_nomes = df_produtos.select(col(\"product_id\").cast(IntegerType()), \"post_title\")\n",
    "\n",
    "user_recs_final = user_recs_formatted.join(df_produtos_nomes, user_recs_formatted.product_id == df_produtos_nomes.product_id, \"left\") \\\n",
    "                                  .select(\n",
    "    col(\"userCol\"),\n",
    "    df_produtos_nomes.product_id.alias(\"product_id\"),\n",
    "    col(\"post_title\"),\n",
    "    col(\"predicted_rating\")\n",
    ")"
   ]
  },
  {
   "cell_type": "code",
   "execution_count": null,
   "id": "e04f9f62",
   "metadata": {},
   "outputs": [
    {
     "name": "stdout",
     "output_type": "stream",
     "text": [
      "+-------+------------------------------------------------------------------------------------------------------------------------------------------------------------------------------------------------------------------------------------------------------------------------------------------------------+\n",
      "|userCol|top_5_recomendacoes                                                                                                                                                                                                                                                                                   |\n",
      "+-------+------------------------------------------------------------------------------------------------------------------------------------------------------------------------------------------------------------------------------------------------------------------------------------------------------+\n",
      "|26     |[{614, HP 15-EF2747WM, 1.3718138}, {14215, ASROCK A520M PRO4, 1.3688942}, {10320, HP PAVILION X360 14-EK1008CA, 1.1954261}, {2485, ZOTAC GAMING GEFORCE GTX 1650, 1.1511242}, {12956, LENOVO IDEAPAD SLIM 3 15ABR8-SM, 1.1451079}]                                                                    |\n",
      "|29     |[{2418, LENOVO IDEAPAD 1 14IGL7, 1.3544142}, {12956, LENOVO IDEAPAD SLIM 3 15ABR8-SM, 1.1113567}, {6685, ACER ASPIRE 3 A315-24PT-R90Z, 1.0343732}, {13594, HP VICTUS 15-FB2082WM, 0.9395251}, {14443, HP 15-FC0037WM, 0.8939899}]                                                                     |\n",
      "|30     |[{20120, LENOVO LEGION SLIM 5, 0.999479}, {11668, ACER ASPIRE 3 A315-24PT-R90Z, 0.9892586}, {4189, HP ENVY X360 14-ES0013DX, 0.96236897}, {16596, DELL LATITUDE 3190 2-IN-1, 0.94241476}, {5095, HP PAVILION PLUS 14-EH1047NR, 0.92596865}]                                                           |\n",
      "|43     |[{15167, XIAOMI MONITOR A27I US, 2.150487}, {10945, HP VICTUS 15-FB1013DX, 1.3067144}, {6786, LENOVO FLEX 5 14ABR8, 1.0623506}, {14808, LENOVO IDEAPAD 1 14IGL7, 1.0275514}, {15468, LENOVO IDEAPAD FLEX 5 14ABR8, 0.9925642}]                                                                        |\n",
      "|60     |[{14592, HP ENVY 16-H1053DX-SM, 1.2626305}, {13594, HP VICTUS 15-FB2082WM, 1.1501839}, {2786, MSI CYBORG A13VE-218US, 1.1468323}, {10184, GEIL EVO POTENZA RED DDR4 8GBX1, 1.1145697}, {5542, HP BIWIN S1 SERIES 8GB DDR4, 1.0753316}]                                                                |\n",
      "|69     |[{11668, ACER ASPIRE 3 A315-24PT-R90Z, 0.3093509}, {4189, HP ENVY X360 14-ES0013DX, 0.2908096}, {5095, HP PAVILION PLUS 14-EH1047NR, 0.2897147}, {6685, ACER ASPIRE 3 A315-24PT-R90Z, 0.2865162}, {16596, DELL LATITUDE 3190 2-IN-1, 0.2864029}]                                                      |\n",
      "|72     |[{13442, GEIL EVO POTENZA RED DDR4 16GBX1-SM, 7.10056E-10}, {12936, ZOTAC GAMING GEFORCE GTX 1660 SUPER TWIN FAN BLACK-SM, 5.6592264E-10}, {1584, HP V20 HD+ MONITOR 1H848AA, 4.776217E-10}, {14745, LENOVO IDEACENTRE 5 14IRB8, 4.6822834E-10}, {14288, POS IMPRESORA TERMICA 38T-SM, 4.4573062E-10}]|\n",
      "|75     |[{15167, XIAOMI MONITOR A27I US, 1.0158885}, {10945, HP VICTUS 15-FB1013DX, 0.6260619}, {6786, LENOVO FLEX 5 14ABR8, 0.49907622}, {14808, LENOVO IDEAPAD 1 14IGL7, 0.48609185}, {15468, LENOVO IDEAPAD FLEX 5 14ABR8, 0.46767527}]                                                                    |\n",
      "|80     |[{11668, ACER ASPIRE 3 A315-24PT-R90Z, 1.0677543}, {4189, HP ENVY X360 14-ES0013DX, 1.0367855}, {16596, DELL LATITUDE 3190 2-IN-1, 1.015159}, {5095, HP PAVILION PLUS 14-EH1047NR, 1.0010126}, {6685, ACER ASPIRE 3 A315-24PT-R90Z, 0.99768794}]                                                      |\n",
      "|119    |[{6786, LENOVO FLEX 5 14ABR8, 1.1702634}, {4189, HP ENVY X360 14-ES0013DX, 1.0730069}, {20412, ONN GOOGLE TV FULL HD 2023, 1.0232837}, {5674, ONN GOOGLE TV 4K STREAMING BOX, 1.0093452}, {19808, ONN GOOGLE TV 4K STREAMING BOX, 1.008755}]                                                          |\n",
      "+-------+------------------------------------------------------------------------------------------------------------------------------------------------------------------------------------------------------------------------------------------------------------------------------------------------------+\n",
      "only showing top 10 rows\n",
      "\n"
     ]
    }
   ],
   "source": [
    "# Agruparlos para ver los top 5 por usuário de forma mais clara\n",
    "from pyspark.sql.window import Window\n",
    "from pyspark.sql.functions import rank, collect_list\n",
    "from pyspark.sql.functions import struct\n",
    "\n",
    "window_spec = Window.partitionBy(\"userCol\").orderBy(col(\"predicted_rating\").desc())\n",
    "\n",
    "user_recs_grouped = user_recs_final \\\n",
    "    .withColumn(\"rank\", rank().over(window_spec)) \\\n",
    "    .where(col(\"rank\") <= 5) \\\n",
    "    .groupBy(\"userCol\") \\\n",
    "    .agg(collect_list(struct(\"product_id\", \"post_title\", \"predicted_rating\")).alias(\"top_5_recomendaciones\"))\n",
    "    \n",
    "user_recs_grouped.show(10, truncate=False)"
   ]
  },
  {
   "cell_type": "markdown",
   "id": "b5eedcdb",
   "metadata": {},
   "source": [
    "#### CHURN\n",
    "\n",
    "NO ESTÁ BIEN."
   ]
  },
  {
   "cell_type": "markdown",
   "id": "bf2466b7",
   "metadata": {},
   "source": [
    "7. Modelo de Previsão de Churn"
   ]
  },
  {
   "cell_type": "code",
   "execution_count": null,
   "id": "6afe14bb",
   "metadata": {},
   "outputs": [],
   "source": [
    "from pyspark.sql.functions import datediff, current_date, lit, avg as spark_avg, count as spark_count, max as spark_max, struct\n",
    "from pyspark.ml.feature import VectorAssembler, StringIndexer, OneHotEncoder, StandardScaler\n",
    "from pyspark.ml.classification import LogisticRegression, RandomForestClassifier\n",
    "from pyspark.ml.evaluation import BinaryClassificationEvaluator, MulticlassClassificationEvaluator\n",
    "from pyspark.ml import Pipeline"
   ]
  },
  {
   "cell_type": "code",
   "execution_count": null,
   "id": "3e4f3861",
   "metadata": {},
   "outputs": [],
   "source": [
    "# 7.1 Definição de Churn e Criação de Labels\n",
    "# Definir churn: Cliente que não fez compra nos últimos X dias (ex: 90 dias)\n",
    "# Este valor pode ser ajustado com base no conhecimento do negócio\n",
    "churn_threshold_days = 90"
   ]
  },
  {
   "cell_type": "code",
   "execution_count": null,
   "id": "6c03077f",
   "metadata": {},
   "outputs": [],
   "source": [
    "# Usar a tabela RFM que já tem a Recência (dias desde a última compra)\n",
    "# Se Recencia > churn_threshold_days, então churn = 1, senão 0\n",
    "# Certificar que rfm_final está disponível\n",
    "if 'rfm_final' not in locals():\n",
    "    print(\"Erro: Tabela rfm_final não encontrada. Execute a etapa RFM primeiro.\")\n",
    "    # Adicionar código para recarregar ou recalcular rfm_final se necessário\n",
    "    # Por exemplo:\n",
    "    # rfm_r = df_ordens.groupBy(\"customer_id\").agg(spark_min(\"recencia_ordem_dias\").alias(\"Recencia\"))\n",
    "    # rfm_f = df_ordens.groupBy(\"customer_id\").agg(countDistinct(\"order_id\").alias(\"Frequencia\"))\n",
    "    # rfm_m = df_ordens.groupBy(\"customer_id\").agg(spark_sum(\"product_gross_revenue\").alias(\"Monetario\"))\n",
    "    # rfm_final = rfm_r.join(rfm_f, \"customer_id\", \"inner\").join(rfm_m, \"customer_id\", \"inner\")"
   ]
  },
  {
   "cell_type": "code",
   "execution_count": null,
   "id": "0259e1b4",
   "metadata": {},
   "outputs": [],
   "source": [
    "churn_labels = rfm_final.withColumn(\"churn_label\",\n",
    "                                    when(col(\"Recencia\") > churn_threshold_days, 1).otherwise(0))"
   ]
  },
  {
   "cell_type": "code",
   "execution_count": null,
   "id": "842012db",
   "metadata": {},
   "outputs": [
    {
     "name": "stdout",
     "output_type": "stream",
     "text": [
      "Definindo churn como inatividade > 90 dias.\n",
      "+-----------+-----+\n",
      "|churn_label|count|\n",
      "+-----------+-----+\n",
      "|          1|   80|\n",
      "+-----------+-----+\n",
      "\n"
     ]
    }
   ],
   "source": [
    "print(f\"Definindo churn como inatividade > {churn_threshold_days} dias.\")\n",
    "churn_labels.groupBy(\"churn_label\").count().show()"
   ]
  },
  {
   "cell_type": "code",
   "execution_count": null,
   "id": "270120a4",
   "metadata": {},
   "outputs": [],
   "source": [
    "# 7.2 Feature Engineering Adicional\n",
    "# Juntar com df_clientes para obter 'dias_desde_registro'\n",
    "# Certificar que df_clientes está disponível e processado\n",
    "if 'df_clientes' not in locals() or 'dias_desde_registro' not in df_clientes.columns:\n",
    "     print(\"Erro: df_clientes ou coluna 'dias_desde_registro' não encontrada.\")\n",
    "     # Recarregar/reprocessar df_clientes se necessário\n",
    "     # df_clientes = spark.read.csv(path_clientes, header=True, inferSchema=True, sep=',')\n",
    "     # df_clientes = df_clientes.dropDuplicates(['user_id'])\n",
    "     # df_clientes = df_clientes.withColumn(\"user_registered_ts\", to_timestamp(col(\"user_registered\"), \"yyyy-MM-dd HH:mm:ss\"))\n",
    "     # df_clientes = df_clientes.withColumn(\"dias_desde_registro\", datediff(current_date(), col(\"user_registered_ts\")))"
   ]
  },
  {
   "cell_type": "code",
   "execution_count": null,
   "id": "f221022c",
   "metadata": {},
   "outputs": [],
   "source": [
    "churn_data = churn_labels.join(df_clientes.select(col(\"user_id\").alias(\"customer_id_ref\"), \"dias_desde_registro\"),\n",
    "                               churn_labels.customer_id == col(\"customer_id_ref\"), \"left\") \\\n",
    "                         .select(\"customer_id\", \"Recencia\", \"Frequencia\", \"Monetario\", \"dias_desde_registro\", \"churn_label\") \\\n",
    "                         .na.fill(0, subset=[\"dias_desde_registro\"]) # Preencher nulos em dias_desde_registro (ex: se cliente não encontrado)"
   ]
  },
  {
   "cell_type": "code",
   "execution_count": null,
   "id": "ed95efef",
   "metadata": {},
   "outputs": [
    {
     "name": "stdout",
     "output_type": "stream",
     "text": [
      "Dados preparados para modelo de churn:\n",
      "+-----------+--------+----------+-----------------+-------------------+-----------+\n",
      "|customer_id|Recencia|Frequencia|        Monetario|dias_desde_registro|churn_label|\n",
      "+-----------+--------+----------+-----------------+-------------------+-----------+\n",
      "|        737|     134|         2|          4715.28|                  0|          1|\n",
      "|        516|     154|         1|           1044.3|                  0|          1|\n",
      "|        580|     197|         2|           1770.0|                  0|          1|\n",
      "|        513|     198|        13|50761.23999999999|                  0|          1|\n",
      "|        613|     210|         1|           1534.0|                  0|          1|\n",
      "+-----------+--------+----------+-----------------+-------------------+-----------+\n",
      "only showing top 5 rows\n",
      "\n"
     ]
    }
   ],
   "source": [
    "print(\"Dados preparados para modelo de churn:\")\n",
    "churn_data.show(5)"
   ]
  },
  {
   "cell_type": "code",
   "execution_count": null,
   "id": "a1f0b408",
   "metadata": {},
   "outputs": [],
   "source": [
    "# 7.3 Preparação para Modelagem (VectorAssembler, Scaler, Split)\n",
    "# Colunas de features\n",
    "feature_cols = [\"Recencia\", \"Frequencia\", \"Monetario\", \"dias_desde_registro\"]"
   ]
  },
  {
   "cell_type": "code",
   "execution_count": null,
   "id": "ba93366a",
   "metadata": {},
   "outputs": [],
   "source": [
    "# Montar vetor de features\n",
    "assembler = VectorAssembler(inputCols=feature_cols, outputCol=\"features_raw\", handleInvalid=\"skip\") # Skip rows with nulls"
   ]
  },
  {
   "cell_type": "code",
   "execution_count": null,
   "id": "90164802",
   "metadata": {},
   "outputs": [],
   "source": [
    "# Escalar features numéricas (importante para regressão logística)\n",
    "scaler_churn = StandardScaler(inputCol=\"features_raw\", outputCol=\"features\", withStd=True, withMean=True)"
   ]
  },
  {
   "cell_type": "code",
   "execution_count": null,
   "id": "b2198c44",
   "metadata": {},
   "outputs": [],
   "source": [
    "# Criar pipeline para pré-processamento\n",
    "preprocess_pipeline = Pipeline(stages=[assembler, scaler_churn])\n",
    "preprocess_model = preprocess_pipeline.fit(churn_data)\n",
    "final_churn_data = preprocess_model.transform(churn_data)"
   ]
  },
  {
   "cell_type": "code",
   "execution_count": null,
   "id": "2121db8b",
   "metadata": {},
   "outputs": [],
   "source": [
    "# Selecionar colunas finais e renomear label\n",
    "final_churn_data = final_churn_data.select(col(\"customer_id\"), col(\"features\"), col(\"churn_label\").alias(\"label\"))"
   ]
  },
  {
   "cell_type": "code",
   "execution_count": null,
   "id": "1bdf8267",
   "metadata": {},
   "outputs": [
    {
     "name": "stdout",
     "output_type": "stream",
     "text": [
      "Dados finais com features escaladas e label:\n",
      "+-----------+------------------------------------------------------------------------------------+-----+\n",
      "|customer_id|features                                                                            |label|\n",
      "+-----------+------------------------------------------------------------------------------------+-----+\n",
      "|737        |[-1.2204026035000965,-0.33474376723009847,-0.34684949808465804,-0.6423398862187408] |1    |\n",
      "|516        |[-0.9020713081626082,-0.3828218666527338,-0.40099505711315014,-0.6423398862187408]  |1    |\n",
      "|580        |[-0.21765902318700828,-0.33474376723009847,-0.39029125807665943,-0.6423398862187408]|1    |\n",
      "|513        |[-0.20174245842013386,0.1941153264188905,0.3323109019184983,-0.6423398862187408]    |1    |\n",
      "|613        |[-0.010743681217640863,-0.3828218666527338,-0.39377216833242873,-0.6423398862187408]|1    |\n",
      "+-----------+------------------------------------------------------------------------------------+-----+\n",
      "only showing top 5 rows\n",
      "\n"
     ]
    }
   ],
   "source": [
    "print(\"Dados finais com features escaladas e label:\")\n",
    "final_churn_data.show(5, truncate=False)"
   ]
  },
  {
   "cell_type": "code",
   "execution_count": null,
   "id": "bc099b9c",
   "metadata": {},
   "outputs": [
    {
     "name": "stdout",
     "output_type": "stream",
     "text": [
      "Registros de treino: 63, Registros de teste: 17\n",
      "Modelo de Regressão Logística treinado.\n",
      "Predições no conjunto de teste:\n",
      "+-----------+-----+-----------+----------+\n",
      "|customer_id|label|probability|prediction|\n",
      "+-----------+-----+-----------+----------+\n",
      "|30         |1    |[0.0,1.0]  |1.0       |\n",
      "|72         |1    |[0.0,1.0]  |1.0       |\n",
      "|80         |1    |[0.0,1.0]  |1.0       |\n",
      "|172        |1    |[0.0,1.0]  |1.0       |\n",
      "|244        |1    |[0.0,1.0]  |1.0       |\n",
      "|260        |1    |[0.0,1.0]  |1.0       |\n",
      "|279        |1    |[0.0,1.0]  |1.0       |\n",
      "|327        |1    |[0.0,1.0]  |1.0       |\n",
      "|432        |1    |[0.0,1.0]  |1.0       |\n",
      "|435        |1    |[0.0,1.0]  |1.0       |\n",
      "+-----------+-----+-----------+----------+\n",
      "only showing top 10 rows\n",
      "\n",
      "Área sob a curva ROC (AUC) no conjunto de teste: 1.0\n",
      "Accuracy: 1.0\n",
      "Precision: 1.0\n",
      "Recall: 1.0\n",
      "F1 Score: 1.0\n"
     ]
    }
   ],
   "source": [
    "# Verificar se há dados suficientes após pré-processamento\n",
    "if final_churn_data.count() == 0:\n",
    "    print(\"Erro: Nenhum dado restante após pré-processamento para o modelo de churn.\")\n",
    "else:\n",
    "    # Dividir em treino e teste\n",
    "    (train_data, test_data) = final_churn_data.randomSplit([0.8, 0.2], seed=42)\n",
    "    print(f\"Registros de treino: {train_data.count()}, Registros de teste: {test_data.count()}\")\n",
    "\n",
    "    # 7.4 Treinamento do Modelo (Ex: Regressão Logística)\n",
    "    if train_data.count() > 0:\n",
    "        lr = LogisticRegression(featuresCol=\"features\", labelCol=\"label\")\n",
    "        lr_model = lr.fit(train_data)\n",
    "        print(\"Modelo de Regressão Logística treinado.\")\n",
    "\n",
    "        # 7.5 Avaliação do Modelo\n",
    "        if test_data.count() > 0:\n",
    "            predictions_lr = lr_model.transform(test_data)\n",
    "            print(\"Predições no conjunto de teste:\")\n",
    "            predictions_lr.select(\"customer_id\", \"label\", \"probability\", \"prediction\").show(10, truncate=False)\n",
    "\n",
    "            # Avaliar usando AUC\n",
    "            evaluator_auc = BinaryClassificationEvaluator(rawPredictionCol=\"rawPrediction\", labelCol=\"label\", metricName=\"areaUnderROC\")\n",
    "            # Lidar com possíveis NaNs na coluna de predição se houver\n",
    "            auc = evaluator_auc.evaluate(predictions_lr.na.drop(subset=[\"rawPrediction\"]))\n",
    "            print(f\"Área sob a curva ROC (AUC) no conjunto de teste: {auc}\")\n",
    "\n",
    "            # Avaliar usando outras métricas (Accuracy, Precision, Recall, F1)\n",
    "            evaluator_multi = MulticlassClassificationEvaluator(labelCol=\"label\", predictionCol=\"prediction\")\n",
    "            accuracy = evaluator_multi.evaluate(predictions_lr, {evaluator_multi.metricName: \"accuracy\"})\n",
    "            precision = evaluator_multi.evaluate(predictions_lr, {evaluator_multi.metricName: \"weightedPrecision\"})\n",
    "            recall = evaluator_multi.evaluate(predictions_lr, {evaluator_multi.metricName: \"weightedRecall\"})\n",
    "            f1 = evaluator_multi.evaluate(predictions_lr, {evaluator_multi.metricName: \"f1\"})\n",
    "\n",
    "            print(f\"Accuracy: {accuracy}\")\n",
    "            print(f\"Precision: {precision}\")\n",
    "            print(f\"Recall: {recall}\")\n",
    "            print(f\"F1 Score: {f1}\")\n",
    "        else:\n",
    "            print(\"Não há dados de teste suficientes para avaliação.\")\n",
    "    else:\n",
    "        print(\"Não há dados de treino suficientes para treinar o modelo.\")"
   ]
  },
  {
   "cell_type": "code",
   "execution_count": null,
   "id": "7c73a7f2",
   "metadata": {},
   "outputs": [
    {
     "name": "stdout",
     "output_type": "stream",
     "text": [
      "Há predições válidas para avaliação após remover NaNs.\n"
     ]
    }
   ],
   "source": [
    "# 1. Avaliador AUC e AUC-PR\n",
    "evaluator_auc = BinaryClassificationEvaluator(rawPredictionCol=\"rawPrediction\", labelCol=\"label\", metricName=\"areaUnderROC\")\n",
    "evaluator_pr = BinaryClassificationEvaluator(rawPredictionCol=\"rawPrediction\", labelCol=\"label\", metricName=\"areaUnderPR\")\n",
    "\n",
    "# Lidar com possíveis NaNs na coluna de predição se houver (ex: coldStartStrategy)\n",
    "valid_predictions = predictions_lr.na.drop(subset=[\"rawPrediction\", \"prediction\", \"label\"])\n",
    "\n",
    "if valid_predictions.count() == 0:\n",
    "    print(\"Não há predições válidas para avaliação após remover NaNs.\")\n",
    "else: \n",
    "    print(\"Há predições válidas para avaliação após remover NaNs.\")"
   ]
  },
  {
   "cell_type": "code",
   "execution_count": null,
   "id": "7df2b255",
   "metadata": {},
   "outputs": [
    {
     "name": "stdout",
     "output_type": "stream",
     "text": [
      "Área sob a Curva ROC (AUC): 1.0000\n",
      "Área sob a Curva Precision-Recall (AUC-PR): 1.0000\n"
     ]
    }
   ],
   "source": [
    "auc_score = evaluator_auc.evaluate(valid_predictions)\n",
    "pr_auc_score = evaluator_pr.evaluate(valid_predictions)\n",
    "print(f\"Área sob a Curva ROC (AUC): {auc_score:.4f}\")\n",
    "print(f\"Área sob a Curva Precision-Recall (AUC-PR): {pr_auc_score:.4f}\")\n",
    "\n"
   ]
  },
  {
   "cell_type": "code",
   "execution_count": null,
   "id": "4eaa5c2a",
   "metadata": {},
   "outputs": [
    {
     "name": "stdout",
     "output_type": "stream",
     "text": [
      "\n",
      "Accuracy: 1.0000\n",
      "Precision Ponderada: 1.0000\n",
      "Recall Ponderado: 1.0000\n",
      "F1-Score Ponderado: 1.0000\n"
     ]
    }
   ],
   "source": [
    "# 2. Avaliador Multiclasse para Accuracy, Precision, Recall, F1\n",
    "evaluator_multi = MulticlassClassificationEvaluator(labelCol=\"label\", predictionCol=\"prediction\")\n",
    "\n",
    "accuracy = evaluator_multi.evaluate(valid_predictions, {evaluator_multi.metricName: \"accuracy\"})\n",
    "precision_w = evaluator_multi.evaluate(valid_predictions, {evaluator_multi.metricName: \"weightedPrecision\"})\n",
    "recall_w = evaluator_multi.evaluate(valid_predictions, {evaluator_multi.metricName: \"weightedRecall\"})\n",
    "f1_w = evaluator_multi.evaluate(valid_predictions, {evaluator_multi.metricName: \"f1\"})\n",
    "\n",
    "print(f\"\\nAccuracy: {accuracy:.4f}\")\n",
    "print(f\"Precision Ponderada: {precision_w:.4f}\")\n",
    "print(f\"Recall Ponderado: {recall_w:.4f}\")\n",
    "print(f\"F1-Score Ponderado: {f1_w:.4f}\")\n",
    "\n"
   ]
  },
  {
   "cell_type": "code",
   "execution_count": null,
   "id": "24ef997d",
   "metadata": {},
   "outputs": [
    {
     "name": "stdout",
     "output_type": "stream",
     "text": [
      "Label 1: Precision = 1.0000, Recall = 1.0000, F1 = 1.0000\n",
      "\n",
      "-- Métricas por Classe --\n",
      "\n",
      "-- Métricas por Classe (presentes nos dados) --\n",
      "Label 1: Precision = 1.0000, Recall = 1.0000, F1 = 1.0000\n"
     ]
    }
   ],
   "source": [
    "from pyspark.ml.evaluation import MulticlassClassificationEvaluator\n",
    "\n",
    "# Verifique as labels presentes\n",
    "present_labels = valid_predictions.select(\"label\").distinct().rdd.flatMap(lambda x: x).collect()\n",
    "\n",
    "evaluator_multi = MulticlassClassificationEvaluator(labelCol=\"label\", predictionCol=\"prediction\")\n",
    "\n",
    "for label in present_labels:\n",
    "    precision = evaluator_multi.evaluate(valid_predictions, {\n",
    "        evaluator_multi.metricName: \"precisionByLabel\",\n",
    "        evaluator_multi.metricLabel: label\n",
    "    })\n",
    "    recall = evaluator_multi.evaluate(valid_predictions, {\n",
    "        evaluator_multi.metricName: \"recallByLabel\",\n",
    "        evaluator_multi.metricLabel: label\n",
    "    })\n",
    "    f1 = evaluator_multi.evaluate(valid_predictions, {\n",
    "        evaluator_multi.metricName: \"f1\",\n",
    "        evaluator_multi.metricLabel: label\n",
    "    })\n",
    "\n",
    "    print(f\"Label {label}: Precision = {precision:.4f}, Recall = {recall:.4f}, F1 = {f1:.4f}\")\n",
    "\n",
    "# 3. Métricas por Classe\n",
    "print(\"\\n-- Métricas por Classe --\")\n",
    "labels = [0.0, 1.0]\n",
    "evaluator = MulticlassClassificationEvaluator(labelCol=\"label\", predictionCol=\"prediction\")\n",
    "\n",
    "# 🔍 Verifique quais classes realmente estão presentes\n",
    "labels_presentes = valid_predictions.select(\"label\").distinct().rdd.flatMap(lambda x: x).collect()\n",
    "\n",
    "print(\"\\n-- Métricas por Classe (presentes nos dados) --\")\n",
    "for label in sorted(labels_presentes):\n",
    "    evaluator.setMetricLabel(label)\n",
    "\n",
    "    evaluator.setMetricName(\"precisionByLabel\")\n",
    "    precision = evaluator.evaluate(valid_predictions)\n",
    "\n",
    "    evaluator.setMetricName(\"recallByLabel\")\n",
    "    recall = evaluator.evaluate(valid_predictions)\n",
    "\n",
    "    evaluator.setMetricName(\"f1\")\n",
    "    f1 = evaluator.evaluate(valid_predictions)\n",
    "\n",
    "    print(f\"Label {label}: Precision = {precision:.4f}, Recall = {recall:.4f}, F1 = {f1:.4f}\")\n",
    "\n",
    "    \n"
   ]
  },
  {
   "cell_type": "code",
   "execution_count": null,
   "id": "fe65bea1",
   "metadata": {},
   "outputs": [
    {
     "name": "stdout",
     "output_type": "stream",
     "text": [
      "\n",
      "-- Matriz de Confusão --\n",
      "                 Predito 0 | Predito 1\n",
      "Real 0 (Não Churn):     0     |    0    \n",
      "Real 1 (Churn):         0     |    17   \n"
     ]
    }
   ],
   "source": [
    "# 4. Matriz de Confusão (Cálculo com PySpark)\n",
    "print(\"\\n-- Matriz de Confusão --\")\n",
    "# Calcula TP, TN, FP, FN diretamente\n",
    "tp = valid_predictions.filter(\"label = 1.0 AND prediction = 1.0\").count()\n",
    "tn = valid_predictions.filter(\"label = 0.0 AND prediction = 0.0\").count()\n",
    "fp = valid_predictions.filter(\"label = 0.0 AND prediction = 1.0\").count()\n",
    "fn = valid_predictions.filter(\"label = 1.0 AND prediction = 0.0\").count()\n",
    "\n",
    "print(f\"                 Predito 0 | Predito 1\")\n",
    "print(f\"Real 0 (Não Churn):  {tn:^8} | {fp:^8}\")\n",
    "print(f\"Real 1 (Churn):      {fn:^8} | {tp:^8}\")"
   ]
  },
  {
   "cell_type": "markdown",
   "id": "8fc32010",
   "metadata": {},
   "source": [
    "Próximo passo: Finalizar e entregar o notebook"
   ]
  },
  {
   "cell_type": "code",
   "execution_count": null,
   "id": "946b308e",
   "metadata": {
    "lines_to_next_cell": 2
   },
   "outputs": [],
   "source": [
    "# Finalizar SparkSession\n",
    "spark.stop()\n",
    "print(\"SparkSession finalizada.\")"
   ]
  }
 ],
 "metadata": {
  "jupytext": {
   "cell_metadata_filter": "-all",
   "encoding": "# -*- coding: utf-8 -*-",
   "main_language": "python",
   "notebook_metadata_filter": "-all"
  },
  "kernelspec": {
   "display_name": "Python 3 (ipykernel)",
   "language": "python",
   "name": "python3"
  },
  "language_info": {
   "codemirror_mode": {
    "name": "ipython",
    "version": 3
   },
   "file_extension": ".py",
   "mimetype": "text/x-python",
   "name": "python",
   "nbconvert_exporter": "python",
   "pygments_lexer": "ipython3",
   "version": "3.11.6"
  }
 },
 "nbformat": 4,
 "nbformat_minor": 5
}
